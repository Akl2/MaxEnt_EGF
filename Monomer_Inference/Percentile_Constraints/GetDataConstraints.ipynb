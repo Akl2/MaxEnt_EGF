{
 "cells": [
  {
   "cell_type": "markdown",
   "id": "f03a1beb-ba98-4277-ae6e-17ecb228d4a8",
   "metadata": {},
   "source": [
    "### The goal of this notebook is to get the percentile constraints from the EGFR data. To get the bounds. \n",
    "[] Load means and second moments from the data <br>\n",
    "[] Fit them to gamma distribution <br>\n",
    "[] Get the bounds from that gamma distribution"
   ]
  },
  {
   "cell_type": "code",
   "execution_count": 21,
   "id": "d6476dc2-2d38-4e01-8e8e-cf39600bf5ae",
   "metadata": {},
   "outputs": [],
   "source": [
    "import numpy as np \n",
    "from scipy.stats import gamma \n",
    "from collections import defaultdict"
   ]
  },
  {
   "cell_type": "code",
   "execution_count": 37,
   "id": "97da5f3f-d9db-4533-a50b-bb2d762d4360",
   "metadata": {},
   "outputs": [],
   "source": [
    "## load the means and the second moments from the data \n",
    "## these are supposed to be scaled \n",
    "SF = 0.00122 \n",
    "mu_arr = np.load(f'ArraysForMaxEnt/EGFR_mean_10Conditions_20201116.npy')/SF\n",
    "s_arr = np.load(f'ArraysForMaxEnt/EGFR_2ndMomentMean_10Conditions_20201116.npy')/(SF**2)\n",
    "## fit them to \n",
    "var_arr = s_arr - mu_arr**2\n",
    "alpha_arr = (mu_arr**2)/(var_arr)\n",
    "scale_arr = var_arr/mu_arr"
   ]
  },
  {
   "cell_type": "code",
   "execution_count": 38,
   "id": "5f873df9-0654-407a-a66a-8ae4f0f7f39e",
   "metadata": {},
   "outputs": [],
   "source": [
    "\n",
    "### \n"
   ]
  },
  {
   "cell_type": "code",
   "execution_count": 1,
   "id": "33b1d585-d993-4fa2-ad18-5800154d717e",
   "metadata": {},
   "outputs": [
    {
     "data": {
      "text/plain": [
       "array([0.0000e+00, 7.8125e-03, 1.5625e-02, 3.1250e-02, 6.2500e-02,\n",
       "       1.2500e-01, 2.5000e-01, 5.0000e-01, 1.0000e+00, 1.0000e+02])"
      ]
     },
     "execution_count": 1,
     "metadata": {},
     "output_type": "execute_result"
    }
   ],
   "source": [
    "import numpy as np\n",
    "L_arr = np.load('ArraysForMaxEnt/EGFR_doses_10Conditions_20201116.npy')\n",
    "L_arr"
   ]
  },
  {
   "cell_type": "code",
   "execution_count": 40,
   "id": "c071dc61-5128-42d8-9b95-65f4ded85df7",
   "metadata": {},
   "outputs": [],
   "source": [
    "p_arr = np.linspace(.1,.9,9) \n",
    "\n",
    "BinEdgesDict = defaultdict(lambda: 'not present')\n",
    "for perc in p_arr : \n",
    "    BinEdgesDict[np.round(perc,2)] = gamma.ppf(perc,alpha_arr , scale = scale_arr)\n",
    "    \n",
    "discription = f' For the EGF-EGFR system, with 10 different ligand concentrations {L_arr} \\n the dictionary has the bin edges for percentiles {p_arr}'\n",
    "# BinEdgesDict['Description'] = discription\n",
    "BinEdgesDict = dict(BinEdgesDict)"
   ]
  },
  {
   "cell_type": "code",
   "execution_count": 41,
   "id": "0becab4e-7cf5-4314-9220-9f3cfefe8f8b",
   "metadata": {},
   "outputs": [],
   "source": [
    "# save the dictionary \n",
    "# d\n",
    "fn = 'BinEdges_9bins.npy'\n",
    "np.save(f'ArraysForMaxEnt/{fn}', BinEdgesDict)"
   ]
  },
  {
   "cell_type": "code",
   "execution_count": 36,
   "id": "18da3a8c-e6bf-4e87-8c57-5b93ef863225",
   "metadata": {},
   "outputs": [
    {
     "data": {
      "text/plain": [
       "array([-2.2 , -2.3 , -1.  , -0.5 , -1.5 , -4.25, -3.  ])"
      ]
     },
     "execution_count": 36,
     "metadata": {},
     "output_type": "execute_result"
    }
   ],
   "source": [
    "## examine other saved \n",
    "np.load('ArraysForMaxEnt/low_Pars_NoDimerazationModel_0301.npy')"
   ]
  },
  {
   "cell_type": "code",
   "execution_count": null,
   "id": "f3d36c7d-3b34-4bc0-9cf6-beb19f034959",
   "metadata": {},
   "outputs": [],
   "source": []
  }
 ],
 "metadata": {
  "kernelspec": {
   "display_name": "Python 3 (ipykernel)",
   "language": "python",
   "name": "python3"
  },
  "language_info": {
   "codemirror_mode": {
    "name": "ipython",
    "version": 3
   },
   "file_extension": ".py",
   "mimetype": "text/x-python",
   "name": "python",
   "nbconvert_exporter": "python",
   "pygments_lexer": "ipython3",
   "version": "3.9.7"
  }
 },
 "nbformat": 4,
 "nbformat_minor": 5
}
