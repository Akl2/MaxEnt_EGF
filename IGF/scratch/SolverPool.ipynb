{
 "cells": [
  {
   "cell_type": "code",
   "execution_count": 5,
   "id": "4fbeb87f",
   "metadata": {},
   "outputs": [],
   "source": [
    "import numpy as np\n",
    "from scipy.integrate import solve_ivp\n",
    "from MomentEquations import MomentsDiff_Eq_fn\n",
    "from PredictionFunctions import FoxOn_preds_fn, solve_Moments_fn\n",
    "\n",
    "L  = np.array([10,15,20,50])*10**-3 #make it in nM\n",
    "times_arr = np.array([ 0,  6, 12, 24, 45, 60, 90])*60 #make it in seconds \n",
    "\n"
   ]
  },
  {
   "cell_type": "code",
   "execution_count": null,
   "id": "edf3da55",
   "metadata": {},
   "outputs": [],
   "source": []
  },
  {
   "cell_type": "code",
   "execution_count": null,
   "id": "f8afa2e1",
   "metadata": {},
   "outputs": [],
   "source": []
  },
  {
   "cell_type": "code",
   "execution_count": 15,
   "id": "d95aeff4",
   "metadata": {},
   "outputs": [],
   "source": [
    "# I want to define a function that takes 2 arguments k and [L,t] and solves the differential equation \n",
    "def cellpredfn( cond, k):\n",
    "    L = cond[0]\n",
    "    t = cond[1]\n",
    "    _, Sol_t = solve_Moments_fn(k, L, t )\n",
    "    foxOn_mean, foxOn_var = Sol_t[7], Sol_t[-1]\n",
    "    return foxOn_mean, foxOn_var "
   ]
  },
  {
   "cell_type": "code",
   "execution_count": 16,
   "id": "8f58176d",
   "metadata": {},
   "outputs": [
    {
     "data": {
      "text/plain": [
       "(4.764436002313949, 2.3402802117665455)"
      ]
     },
     "execution_count": 16,
     "metadata": {},
     "output_type": "execute_result"
    }
   ],
   "source": [
    "ligand = L[0]\n",
    "time = times_arr[0]\n",
    "k = np.random.rand(14)\n",
    "cellpredfn([ligand,time],k)"
   ]
  },
  {
   "cell_type": "code",
   "execution_count": 17,
   "id": "c0ceda21",
   "metadata": {},
   "outputs": [],
   "source": [
    "CondMat = np.zeros((len(L)*len(times_arr),2))\n",
    "k=0\n",
    "for i in range(len(L)):\n",
    "    for j in range(len(times_arr)):\n",
    "        \n",
    "        CondMat[k,0] = L[i]\n",
    "        CondMat[k,1] = times_arr[j]\n",
    "        k+=1\n",
    "    "
   ]
  },
  {
   "cell_type": "code",
   "execution_count": 18,
   "id": "507c6184",
   "metadata": {},
   "outputs": [],
   "source": [
    "def predfn(x):\n",
    "    return cellpredfn( x , k=k)\n",
    "    "
   ]
  },
  {
   "cell_type": "code",
   "execution_count": null,
   "id": "dc7be9d9",
   "metadata": {},
   "outputs": [],
   "source": [
    "import time \n",
    "t0=time.time()\n",
    "if __name__ == '__main__':\n",
    "    with Pool(5) as p:\n",
    "        print(p.map(predfn,CondMat))\n",
    "        \n",
    "print(time.time() - t0) "
   ]
  },
  {
   "cell_type": "code",
   "execution_count": null,
   "id": "402a73f0",
   "metadata": {},
   "outputs": [],
   "source": [
    "if __name__ == '__main__':\n",
    "    with Pool(5) as p:\n",
    "        print(p.map(f, [1, 2, 3]))"
   ]
  },
  {
   "cell_type": "code",
   "execution_count": null,
   "id": "0dd35f76",
   "metadata": {},
   "outputs": [],
   "source": [
    "from multiprocessing import Pool\n",
    "\n",
    "def f(x):\n",
    "    return x*x\n",
    "if __name__ == '__main__':\n",
    "    with Pool(5) as p:\n",
    "        print(p.map(f, [1, 2, 3]))"
   ]
  },
  {
   "cell_type": "code",
   "execution_count": null,
   "id": "fd13c29a",
   "metadata": {},
   "outputs": [],
   "source": []
  }
 ],
 "metadata": {
  "kernelspec": {
   "display_name": "Python 3 (ipykernel)",
   "language": "python",
   "name": "python3"
  },
  "language_info": {
   "codemirror_mode": {
    "name": "ipython",
    "version": 3
   },
   "file_extension": ".py",
   "mimetype": "text/x-python",
   "name": "python",
   "nbconvert_exporter": "python",
   "pygments_lexer": "ipython3",
   "version": "3.9.7"
  }
 },
 "nbformat": 4,
 "nbformat_minor": 5
}
