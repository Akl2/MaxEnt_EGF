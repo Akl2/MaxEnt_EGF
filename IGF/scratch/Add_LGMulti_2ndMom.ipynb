{
 "cells": [
  {
   "cell_type": "code",
   "execution_count": 7,
   "id": "7a36a065",
   "metadata": {},
   "outputs": [],
   "source": [
    "import csv\n",
    "import numpy as np \n",
    "import random\n",
    "import time\n",
    "import os\n",
    "import pandas as pd\n",
    "import matplotlib.pyplot as plt\n"
   ]
  },
  {
   "cell_type": "code",
   "execution_count": 8,
   "id": "f81b7452",
   "metadata": {},
   "outputs": [],
   "source": [
    "\n",
    "from Update_LM_functions import calculate_constraints, update_lambda, openfile\n",
    "\n",
    "on_mac = True \n",
    "on_thinkpad = False \n",
    "on_hpg = False\n",
    "\n",
    "\n",
    "if on_mac == True: \n",
    "    data_path = \"/Volumes/hodaakl/\"\n",
    "if on_thinkpad== True: \n",
    "    data_path = \"//exasmb.rc.ufl.edu/blue/pdixit/hodaakl/\"\n",
    "if on_hpg == True: \n",
    "    data_path = \"/blue/pdixit/hodaakl/\"\n",
    "\n",
    "# specify the project you are working on     \n",
    "spec_folder = data_path + 'A5MCMC_IGF_FoxO/'\n",
    "folder_out = '1208_MuShifted/' #    Lambda = old_lambda.copy() + alpha_arr*(Error)/true_constraints\n",
    "\n",
    "lambda_fn = spec_folder + folder_out + 'Lambdas.csv'\n",
    "\n"
   ]
  },
  {
   "cell_type": "code",
   "execution_count": 24,
   "id": "9a525fbb",
   "metadata": {},
   "outputs": [
    {
     "name": "stdout",
     "output_type": "stream",
     "text": [
      "1\n",
      "56\n"
     ]
    }
   ],
   "source": [
    "lines = list()\n",
    "# print(len(lines))\n",
    "\n",
    "with open(lambda_fn, 'r') as readFile:\n",
    "\n",
    "    reader = csv.reader(readFile)\n",
    "\n",
    "    \n",
    "    for row in reader:\n",
    "#         print(row)\n",
    "\n",
    "        lines.append(row)\n",
    "print(len(lines))\n",
    "\n",
    "\n",
    "print(len(lines[-1]))\n",
    "\n",
    "# print('lambdas')\n",
    "# print(lines)"
   ]
  },
  {
   "cell_type": "code",
   "execution_count": 25,
   "id": "9c57283e",
   "metadata": {},
   "outputs": [
    {
     "data": {
      "text/plain": [
       "[['-5.5518149679674045e-06',\n",
       "  '-7.540249862379456e-06',\n",
       "  '-3.1064000483640864e-05',\n",
       "  '-3.9457338327188956e-05',\n",
       "  '-3.360661719246033e-05',\n",
       "  '-2.83062781899386e-05',\n",
       "  '-3.1201592600574306e-05',\n",
       "  '-5.551814967967456e-06',\n",
       "  '-2.327426005723411e-05',\n",
       "  '-3.62187265683213e-05',\n",
       "  '-2.5976104673179483e-05',\n",
       "  '-1.0624632337901247e-05',\n",
       "  '7.501875285527072e-07',\n",
       "  '-3.4102167272762854e-06',\n",
       "  '-5.551814967967409e-06',\n",
       "  '-5.835916651383456e-06',\n",
       "  '-2.7786873492328356e-05',\n",
       "  '-5.792043971832279e-06',\n",
       "  '3.5266293598860106e-05',\n",
       "  '4.53888055350493e-05',\n",
       "  '3.931567897479225e-05',\n",
       "  '-5.551814967967418e-06',\n",
       "  '-2.049446452627537e-05',\n",
       "  '-1.9360384728737134e-05',\n",
       "  '0.00010818924710446656',\n",
       "  '0.00020408885597222756',\n",
       "  '0.0001981932917770729',\n",
       "  '0.0001733287353220188',\n",
       "  '-5.5518149679674046e-08',\n",
       "  '-7.540249862379455e-08',\n",
       "  '-3.1064000483640866e-07',\n",
       "  '-3.945733832718896e-07',\n",
       "  '-3.360661719246033e-07',\n",
       "  '-2.83062781899386e-07',\n",
       "  '-3.1201592600574304e-07',\n",
       "  '-5.551814967967456e-08',\n",
       "  '-2.327426005723411e-07',\n",
       "  '-3.62187265683213e-07',\n",
       "  '-2.5976104673179483e-07',\n",
       "  '-1.0624632337901247e-07',\n",
       "  '7.501875285527072e-09',\n",
       "  '-3.4102167272762854e-08',\n",
       "  '-5.5518149679674086e-08',\n",
       "  '-5.835916651383456e-08',\n",
       "  '-2.7786873492328354e-07',\n",
       "  '-5.7920439718322786e-08',\n",
       "  '3.5266293598860105e-07',\n",
       "  '4.53888055350493e-07',\n",
       "  '3.931567897479225e-07',\n",
       "  '-5.5518149679674185e-08',\n",
       "  '-2.049446452627537e-07',\n",
       "  '-1.9360384728737135e-07',\n",
       "  '1.0818924710446656e-06',\n",
       "  '2.0408885597222755e-06',\n",
       "  '1.981932917770729e-06',\n",
       "  '1.7332873532201879e-06']]"
      ]
     },
     "execution_count": 25,
     "metadata": {},
     "output_type": "execute_result"
    }
   ],
   "source": [
    "lines"
   ]
  },
  {
   "cell_type": "code",
   "execution_count": null,
   "id": "d01e4d22",
   "metadata": {},
   "outputs": [],
   "source": []
  },
  {
   "cell_type": "code",
   "execution_count": null,
   "id": "8ba81aba",
   "metadata": {},
   "outputs": [],
   "source": []
  },
  {
   "cell_type": "code",
   "execution_count": 15,
   "id": "02659c05",
   "metadata": {},
   "outputs": [
    {
     "name": "stdout",
     "output_type": "stream",
     "text": [
      "62\n",
      "56\n"
     ]
    }
   ],
   "source": [
    "l1 = lines[-1]\n",
    "l2 = np.float64(np.asarray(l1))\n",
    "l2 = list(l2*(1/100))\n",
    "newline = l1+ l2\n",
    "\n",
    "del lines[-1]\n",
    "\n",
    "\n",
    "lines.append(newline)\n",
    "\n",
    "print(len(lines))\n",
    "\n",
    "\n",
    "print(len(lines[-1]))"
   ]
  },
  {
   "cell_type": "code",
   "execution_count": 16,
   "id": "6f0918c0",
   "metadata": {},
   "outputs": [],
   "source": [
    "\n",
    "# lines.append(newline)\n",
    "i\n",
    "with open(lambda_fn, 'w') as writeFile:\n",
    "\n",
    "    writer = csv.writer(writeFile)\n",
    "\n",
    "    writer.writerows(lines)"
   ]
  },
  {
   "cell_type": "code",
   "execution_count": 19,
   "id": "5558fc12",
   "metadata": {},
   "outputs": [],
   "source": [
    "import os \n",
    "new_f_out = spec_folder + '1214_MuS'\n",
    "os.mkdir(new_f_out)"
   ]
  },
  {
   "cell_type": "code",
   "execution_count": 23,
   "id": "199128c1",
   "metadata": {},
   "outputs": [],
   "source": [
    "lambda_fn = new_f_out + '/Lambdas.csv'\n",
    "\n",
    "with open(lambda_fn, 'w') as writeFile:\n",
    "\n",
    "    writer = csv.writer(writeFile)\n",
    "\n",
    "    writer.writerows([newline])"
   ]
  },
  {
   "cell_type": "code",
   "execution_count": null,
   "id": "5e549c08",
   "metadata": {},
   "outputs": [],
   "source": []
  }
 ],
 "metadata": {
  "kernelspec": {
   "display_name": "Python 3 (ipykernel)",
   "language": "python",
   "name": "python3"
  },
  "language_info": {
   "codemirror_mode": {
    "name": "ipython",
    "version": 3
   },
   "file_extension": ".py",
   "mimetype": "text/x-python",
   "name": "python",
   "nbconvert_exporter": "python",
   "pygments_lexer": "ipython3",
   "version": "3.9.7"
  }
 },
 "nbformat": 4,
 "nbformat_minor": 5
}
