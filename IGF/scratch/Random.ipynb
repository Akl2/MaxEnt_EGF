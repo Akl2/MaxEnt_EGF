{
 "cells": [
  {
   "cell_type": "code",
   "execution_count": 1,
   "id": "fd507447",
   "metadata": {},
   "outputs": [],
   "source": [
    "import csv\n",
    "import numpy as np \n",
    "import random\n",
    "import time\n",
    "# sve_ivp\n",
    "import os\n",
    "import pandas as pd\n",
    "import matplotlib.pyplot as plt\n",
    "# plt.rcParams.update({'font.size': 15})\n",
    "from Update_LM_functions import calculate_constraints, update_lambda, openfile\n",
    "\n",
    "on_mac = True \n",
    "on_thinkpad = False \n",
    "on_hpg = False\n",
    "\n",
    "if on_mac == True: \n",
    "    data_path = \"/Volumes/hodaakl/\"\n",
    "if on_thinkpad== True: \n",
    "    data_path = \"//exasmb.rc.ufl.edu/blue/pdixit/hodaakl/\"\n",
    "if on_hpg == True: \n",
    "    data_path = \"/blue/pdixit/hodaakl/\"\n",
    "\n",
    "# specify the project you are working on     \n",
    "\n"
   ]
  },
  {
   "cell_type": "code",
   "execution_count": 2,
   "id": "4eac287e",
   "metadata": {},
   "outputs": [
    {
     "data": {
      "text/plain": [
       "array([0.0000e+00, 7.8125e-03, 1.5625e-02, 3.1250e-02, 6.2500e-02,\n",
       "       1.2500e-01, 2.5000e-01, 5.0000e-01, 1.0000e+00, 1.0000e+02])"
      ]
     },
     "execution_count": 2,
     "metadata": {},
     "output_type": "execute_result"
    }
   ],
   "source": [
    "np.load(data_path + f'Data/SingleCellData/EGFR_doses_10Conditions_20201116.npy')"
   ]
  },
  {
   "cell_type": "code",
   "execution_count": null,
   "id": "c7c2f7f9",
   "metadata": {},
   "outputs": [],
   "source": []
  }
 ],
 "metadata": {
  "kernelspec": {
   "display_name": "Python 3",
   "language": "python",
   "name": "python3"
  },
  "language_info": {
   "codemirror_mode": {
    "name": "ipython",
    "version": 3
   },
   "file_extension": ".py",
   "mimetype": "text/x-python",
   "name": "python",
   "nbconvert_exporter": "python",
   "pygments_lexer": "ipython3",
   "version": "3.8.8"
  }
 },
 "nbformat": 4,
 "nbformat_minor": 5
}
