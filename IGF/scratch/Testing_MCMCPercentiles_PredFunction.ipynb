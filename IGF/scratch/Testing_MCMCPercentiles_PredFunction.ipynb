{
 "cells": [
  {
   "cell_type": "markdown",
   "id": "76480e70-fb11-4714-be24-3de3c44d5ea4",
   "metadata": {},
   "source": [
    "Testing the function"
   ]
  },
  {
   "cell_type": "code",
   "execution_count": 3,
   "id": "f10c9154-7d04-4e50-a000-b741dbc54c8f",
   "metadata": {},
   "outputs": [],
   "source": [
    "boundsdict = np.load('Arrays_for_max_ent/pcon_dict_250222.npy', allow_pickle=True).item()\n"
   ]
  },
  {
   "cell_type": "code",
   "execution_count": 4,
   "id": "4a6fa390-dbfe-45c0-b239-fb888f56577f",
   "metadata": {},
   "outputs": [
    {
     "name": "stdout",
     "output_type": "stream",
     "text": [
      "10pM\n",
      "Data shape = (61, 301)\n",
      "15pM\n",
      "Data shape = (61, 300)\n",
      "20pM\n",
      "Data shape = (61, 300)\n",
      "50pM\n",
      "Data shape = (61, 300)\n"
     ]
    }
   ],
   "source": [
    "## load data \n",
    "DataDict = np.load('ProDataDict.npy', allow_pickle=True)\n",
    "DataDict = DataDict.item()\n",
    "for key in DataDict:\n",
    "    print(key)\n",
    "    \n",
    "    print(f'Data shape = {DataDict[key].shape}')"
   ]
  },
  {
   "cell_type": "code",
   "execution_count": 9,
   "id": "ce2c3244-7df1-43f8-9136-86b8376e8666",
   "metadata": {},
   "outputs": [
    {
     "name": "stdout",
     "output_type": "stream",
     "text": [
      "(7,)\n",
      "(7,)\n",
      "(7,)\n",
      "(7,)\n",
      "(28,)\n"
     ]
    }
   ],
   "source": [
    "from scipy.stats import gamma \n",
    "\n",
    "\n",
    "time_values = [0,6,12,24,45,60,90] #minutes\n",
    "\n",
    "times_constrained = np.array(time_values) #minutes \n",
    "idx_list = np.array(times_constrained/3, dtype=int)\n",
    "# dist_gparams = defaultdict(lambda:'not present')\n",
    "# print(perc_arr)\n",
    "# pcl = [] #percentile constraint list \n",
    "a_arrbig = np.array([])\n",
    "t_arrbig = np.array([])\n",
    "\n",
    "for key in DataDict:\n",
    "    # relevant data\n",
    "    drel  = DataDict[key][idx_list,:]\n",
    "    \n",
    "    muarr = np.mean(drel, axis = 1)\n",
    "    vararr = np.var(drel, axis = 1)\n",
    "    \n",
    "    alpha_arr = (muarr**2)/(vararr)\n",
    "    scale_arr = vararr/muarr\n",
    "    print(alpha_arr.shape)\n",
    "    a_arrbig = np.concatenate((a_arrbig,alpha_arr), axis = 0)\n",
    "    t_arrbig = np.concatenate((t_arrbig, scale_arr ), axis = 0)\n",
    "\n",
    "        # if the previous was calculated for the last percentile, need to add last bin \n",
    "        # if key == lastk\n",
    "    \n",
    "    \n",
    "    # dist_gparams[key] =  {'alphas' : alpha_arr, 'scales': scale_arr}\n",
    "print(a_arrbig.shape)\n",
    "\n",
    "\n",
    "        "
   ]
  },
  {
   "cell_type": "code",
   "execution_count": 15,
   "id": "bcd6610e-952c-47c0-8989-dcdbb6fddf5a",
   "metadata": {},
   "outputs": [
    {
     "name": "stdout",
     "output_type": "stream",
     "text": [
      "0.1\n",
      "[0.1 0.1 0.1 0.1 0.1 0.1 0.1 0.1 0.1 0.1 0.1 0.1 0.1 0.1 0.1 0.1 0.1 0.1\n",
      " 0.1 0.1 0.1 0.1 0.1 0.1 0.1 0.1 0.1 0.1]\n",
      "0.2\n",
      "[0.1 0.1 0.1 0.1 0.1 0.1 0.1 0.1 0.1 0.1 0.1 0.1 0.1 0.1 0.1 0.1 0.1 0.1\n",
      " 0.1 0.1 0.1 0.1 0.1 0.1 0.1 0.1 0.1 0.1]\n",
      "0.3\n",
      "[0.1 0.1 0.1 0.1 0.1 0.1 0.1 0.1 0.1 0.1 0.1 0.1 0.1 0.1 0.1 0.1 0.1 0.1\n",
      " 0.1 0.1 0.1 0.1 0.1 0.1 0.1 0.1 0.1 0.1]\n",
      "0.4\n",
      "[0.1 0.1 0.1 0.1 0.1 0.1 0.1 0.1 0.1 0.1 0.1 0.1 0.1 0.1 0.1 0.1 0.1 0.1\n",
      " 0.1 0.1 0.1 0.1 0.1 0.1 0.1 0.1 0.1 0.1]\n",
      "0.5\n",
      "[0.1 0.1 0.1 0.1 0.1 0.1 0.1 0.1 0.1 0.1 0.1 0.1 0.1 0.1 0.1 0.1 0.1 0.1\n",
      " 0.1 0.1 0.1 0.1 0.1 0.1 0.1 0.1 0.1 0.1]\n",
      "0.6\n",
      "[0.1 0.1 0.1 0.1 0.1 0.1 0.1 0.1 0.1 0.1 0.1 0.1 0.1 0.1 0.1 0.1 0.1 0.1\n",
      " 0.1 0.1 0.1 0.1 0.1 0.1 0.1 0.1 0.1 0.1]\n",
      "0.7\n",
      "[0.1 0.1 0.1 0.1 0.1 0.1 0.1 0.1 0.1 0.1 0.1 0.1 0.1 0.1 0.1 0.1 0.1 0.1\n",
      " 0.1 0.1 0.1 0.1 0.1 0.1 0.1 0.1 0.1 0.1]\n",
      "0.8\n",
      "[0.1 0.1 0.1 0.1 0.1 0.1 0.1 0.1 0.1 0.1 0.1 0.1 0.1 0.1 0.1 0.1 0.1 0.1\n",
      " 0.1 0.1 0.1 0.1 0.1 0.1 0.1 0.1 0.1 0.1]\n",
      "0.9\n",
      "[0.1 0.1 0.1 0.1 0.1 0.1 0.1 0.1 0.1 0.1 0.1 0.1 0.1 0.1 0.1 0.1 0.1 0.1\n",
      " 0.1 0.1 0.1 0.1 0.1 0.1 0.1 0.1 0.1 0.1]\n"
     ]
    }
   ],
   "source": [
    "fkey = list(boundsdict.keys())[0]\n",
    "sumspp = np.zeros(len(a_arrbig))\n",
    "for key in boundsdict: \n",
    "    print(key)\n",
    "    # print(key)\n",
    "    bound = boundsdict[key]\n",
    "    if key==fkey:\n",
    "    \n",
    "        spp = gamma.cdf(bound, a =a_arrbig, scale = t_arrbig)#specific percentile array \n",
    "        sumspp+=spp\n",
    "    else:\n",
    "        spp= gamma.cdf(bound, a =a_arrbig, scale = t_arrbig) -sumspp\n",
    "        sumspp+=spp#specific percentile array \n",
    "    print(spp)\n",
    "    # PredArr = np.concatenate((PredArr, spp), axis = 0)\n",
    "    # if the previous was calculated for the last percentile, need to add last bin \n",
    "    # if key == lastkey: \n",
    "    #     PredArr = np.concatenate((PredArr, 1-spp), axis = 0)\n",
    "# PredArr "
   ]
  },
  {
   "cell_type": "code",
   "execution_count": null,
   "id": "48a302c0-cca6-4b29-bc4b-c97d26788b14",
   "metadata": {},
   "outputs": [],
   "source": []
  },
  {
   "cell_type": "code",
   "execution_count": null,
   "id": "cddc5ea2-a645-4aa1-b1e0-e0750698d966",
   "metadata": {},
   "outputs": [],
   "source": []
  },
  {
   "cell_type": "code",
   "execution_count": null,
   "id": "716da8fb-ace5-4cd3-95c9-d9e016402d36",
   "metadata": {},
   "outputs": [],
   "source": []
  },
  {
   "cell_type": "code",
   "execution_count": null,
   "id": "ffd157f0-4337-41d0-9daa-9b8ba5e2d7c5",
   "metadata": {},
   "outputs": [],
   "source": []
  },
  {
   "cell_type": "code",
   "execution_count": null,
   "id": "1a438bcd-0ddc-4ac8-b4a7-2e6a14b498f6",
   "metadata": {},
   "outputs": [],
   "source": []
  },
  {
   "cell_type": "code",
   "execution_count": 2,
   "id": "d014fa03-d95a-4627-a3c4-61efa144cb93",
   "metadata": {},
   "outputs": [
    {
     "data": {
      "text/plain": [
       "array([3.47785332, 0.93447452, 1.        , 1.        , 1.        ,\n",
       "       1.        , 0.96344788, 1.        , 0.98622081, 0.87076382,\n",
       "       5.31805007, 8.68659336, 8.81391361, 4.34940513, 1.00006197,\n",
       "       0.99742543, 0.98725787, 0.9991601 , 0.99956422, 0.93311595,\n",
       "       0.98855434, 1.        , 1.        , 1.        , 1.        ,\n",
       "       1.        , 1.        , 1.        , 1.        , 1.        ,\n",
       "       1.        , 1.        , 1.        , 0.99999884, 1.        ,\n",
       "       1.        , 1.        , 1.        , 1.        , 0.99989912,\n",
       "       1.50465165])"
      ]
     },
     "execution_count": 2,
     "metadata": {},
     "output_type": "execute_result"
    }
   ],
   "source": [
    "import numpy as np\n",
    "np.load('/Users/hodaakl/Documents/github/MaxEnt_FoxO/0403_test1/mean_abs_error.npy')"
   ]
  }
 ],
 "metadata": {
  "kernelspec": {
   "display_name": "Python 3 (ipykernel)",
   "language": "python",
   "name": "python3"
  },
  "language_info": {
   "codemirror_mode": {
    "name": "ipython",
    "version": 3
   },
   "file_extension": ".py",
   "mimetype": "text/x-python",
   "name": "python",
   "nbconvert_exporter": "python",
   "pygments_lexer": "ipython3",
   "version": "3.9.7"
  }
 },
 "nbformat": 4,
 "nbformat_minor": 5
}
