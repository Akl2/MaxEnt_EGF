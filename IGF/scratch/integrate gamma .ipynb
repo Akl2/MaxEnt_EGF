{
 "cells": [
  {
   "cell_type": "code",
   "execution_count": 4,
   "id": "50c4b0d7",
   "metadata": {},
   "outputs": [],
   "source": [
    "alpha = 3 ; beta = 2"
   ]
  },
  {
   "cell_type": "code",
   "execution_count": 5,
   "id": "df53d127",
   "metadata": {
    "scrolled": true
   },
   "outputs": [
    {
     "data": {
      "text/plain": [
       "0.9999995444850495"
      ]
     },
     "execution_count": 5,
     "metadata": {},
     "output_type": "execute_result"
    }
   ],
   "source": [
    "from scipy.stats import gamma \n",
    "import numpy as np\n",
    "x = 10\n",
    "gamma.cdf(x, a =alpha, scale = 1/beta)"
   ]
  },
  {
   "cell_type": "code",
   "execution_count": 24,
   "id": "19891af3",
   "metadata": {},
   "outputs": [
    {
     "data": {
      "text/plain": [
       "array([ True,  True,  True,  True,  True,  True,  True,  True,  True,\n",
       "        True,  True,  True,  True,  True,  True,  True,  True,  True,\n",
       "        True,  True,  True,  True,  True,  True,  True,  True,  True,\n",
       "        True,  True,  True,  True,  True,  True,  True,  True,  True,\n",
       "        True,  True,  True,  True,  True,  True,  True,  True,  True,\n",
       "        True,  True,  True,  True,  True,  True,  True,  True,  True,\n",
       "        True,  True,  True,  True,  True,  True,  True,  True,  True,\n",
       "        True,  True,  True,  True,  True,  True,  True,  True,  True,\n",
       "        True,  True,  True,  True,  True,  True,  True,  True,  True,\n",
       "        True,  True,  True,  True,  True,  True,  True,  True,  True,\n",
       "        True,  True,  True,  True,  True,  True,  True,  True,  True,\n",
       "        True])"
      ]
     },
     "execution_count": 24,
     "metadata": {},
     "output_type": "execute_result"
    }
   ],
   "source": [
    "n = 100\n",
    "a_arr = np.random.randint(3, 10,n)\n",
    "b_arr = np.random.randint(3, 10,n)\n",
    "x = np.random.randint(3, 100,n)\n",
    "x = np.ones(n)*1\n",
    "ans2 = []\n",
    "ans1 = gamma.cdf(x, a =a_arr, scale = 1/b_arr)\n",
    "for i in range(n):\n",
    "    ans2.append(gamma.cdf(x[i], a =a_arr[i], scale = 1/b_arr[i]))\n",
    "ans2 = np.asarray(ans2)\n",
    "ans1==ans2\n",
    "    \n",
    "    \n",
    "    \n",
    "    "
   ]
  },
  {
   "cell_type": "code",
   "execution_count": 25,
   "id": "662f17e8",
   "metadata": {},
   "outputs": [
    {
     "data": {
      "text/plain": [
       "array([0.98624603, 0.67610304, 0.35276811, 0.00380299, 0.82700839,\n",
       "       0.27090873, 0.67610304, 0.5443474 , 0.08391794, 0.15276251,\n",
       "       0.55028894, 0.76189669, 0.00380299, 0.55028894, 0.00380299,\n",
       "       0.13337167, 0.00380299, 0.13337167, 0.55950671, 0.15276251,\n",
       "       0.57680992, 0.23781654, 0.21486961, 0.37116306, 0.97877351,\n",
       "       0.91823458, 0.9380312 , 0.69929172, 0.37116306, 0.13337167,\n",
       "       0.91823458, 0.05113362, 0.5443474 , 0.06809363, 0.67610304,\n",
       "       0.05113362, 0.73497408, 0.18473676, 0.05113362, 0.56652988,\n",
       "       0.0119045 , 0.18473676, 0.76189669, 0.82700839, 0.35276811,\n",
       "       0.76189669, 0.69929172, 0.69929172, 0.5443474 , 0.56652988,\n",
       "       0.23781654, 0.97036384, 0.94503636, 0.98624603, 0.76189669,\n",
       "       0.35276811, 0.35276811, 0.55950671, 0.68662572, 0.68662572,\n",
       "       0.02136343, 0.40128616, 0.03350854, 0.76189669, 0.35276811,\n",
       "       0.08391794, 0.05113362, 0.67610304, 0.27090873, 0.87534798,\n",
       "       0.95761989, 0.55028894, 0.80876394, 0.95761989, 0.5443474 ,\n",
       "       0.76189669, 0.9937678 , 0.56652988, 0.80876394, 0.57680992,\n",
       "       0.94503636, 0.15276251, 0.00380299, 0.21486961, 0.9380312 ,\n",
       "       0.37116306, 0.40128616, 0.00380299, 0.9380312 , 0.03350854,\n",
       "       0.80876394, 0.55950671, 0.39369722, 0.76189669, 0.56652988,\n",
       "       0.97877351, 0.95761989, 0.68662572, 0.21486961, 0.35276811])"
      ]
     },
     "execution_count": 25,
     "metadata": {},
     "output_type": "execute_result"
    }
   ],
   "source": [
    "gamma.cdf(x, a =a_arr, scale = 1/b_arr)"
   ]
  },
  {
   "cell_type": "code",
   "execution_count": null,
   "id": "46121603",
   "metadata": {},
   "outputs": [],
   "source": []
  },
  {
   "cell_type": "code",
   "execution_count": null,
   "id": "58e014f9",
   "metadata": {},
   "outputs": [],
   "source": []
  },
  {
   "cell_type": "code",
   "execution_count": null,
   "id": "e0ba4117",
   "metadata": {},
   "outputs": [],
   "source": []
  },
  {
   "cell_type": "code",
   "execution_count": null,
   "id": "c07b30a1",
   "metadata": {},
   "outputs": [],
   "source": []
  },
  {
   "cell_type": "code",
   "execution_count": null,
   "id": "479965df",
   "metadata": {},
   "outputs": [],
   "source": []
  },
  {
   "cell_type": "code",
   "execution_count": 1,
   "id": "7c0e56d4",
   "metadata": {},
   "outputs": [],
   "source": [
    "# no need to integrate I could just use cdf "
   ]
  },
  {
   "cell_type": "code",
   "execution_count": 7,
   "id": "427968b0",
   "metadata": {
    "collapsed": true
   },
   "outputs": [],
   "source": [
    "import scipy.integrate as integrate\n",
    "def integrand(y):\n",
    "    out = gamma.pdf(y, a =alpha, scale = 1/beta)\n",
    "    return out "
   ]
  },
  {
   "cell_type": "code",
   "execution_count": 11,
   "id": "cb5fc503",
   "metadata": {},
   "outputs": [
    {
     "data": {
      "text/plain": [
       "array([1., 1., 1.])"
      ]
     },
     "execution_count": 11,
     "metadata": {},
     "output_type": "execute_result"
    }
   ],
   "source": [
    "import numpy as np\n",
    "alpha = np.array([1,2,4])\n",
    "beta = np.array([4,3,4])\n",
    "# integrate.quad(lambda y: gamma.pdf(y, a =alpha, scale = 1/beta), 0, np.inf)\n",
    "gamma.cdf(x, a =alpha, scale = 1/beta)"
   ]
  },
  {
   "cell_type": "code",
   "execution_count": null,
   "id": "290eaf80",
   "metadata": {},
   "outputs": [],
   "source": []
  }
 ],
 "metadata": {
  "kernelspec": {
   "display_name": "Python 3 (ipykernel)",
   "language": "python",
   "name": "python3"
  },
  "language_info": {
   "codemirror_mode": {
    "name": "ipython",
    "version": 3
   },
   "file_extension": ".py",
   "mimetype": "text/x-python",
   "name": "python",
   "nbconvert_exporter": "python",
   "pygments_lexer": "ipython3",
   "version": "3.9.7"
  }
 },
 "nbformat": 4,
 "nbformat_minor": 5
}
