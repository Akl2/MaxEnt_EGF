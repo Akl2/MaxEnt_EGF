{
 "cells": [
  {
   "cell_type": "code",
   "execution_count": 1,
   "metadata": {},
   "outputs": [],
   "source": [
    "import datetime\n",
    "import numpy as np\n",
    "import os\n",
    "import pandas as pd\n",
    "from collections import defaultdict\n",
    "import matplotlib.pyplot as plt\n",
    "\n"
   ]
  },
  {
   "cell_type": "code",
   "execution_count": 2,
   "metadata": {},
   "outputs": [
    {
     "name": "stdout",
     "output_type": "stream",
     "text": [
      "Last edited: 2022-12-15 11:45:15.412438\n"
     ]
    }
   ],
   "source": [
    "#Created a 07/23/2021 \n",
    "#Last opened \n",
    "print(f'Last edited: {datetime.datetime.now()}')"
   ]
  },
  {
   "cell_type": "code",
   "execution_count": 3,
   "metadata": {},
   "outputs": [
    {
     "name": "stdout",
     "output_type": "stream",
     "text": [
      "saved Sheet2 to dictionary\n",
      "saved 0pM to dictionary\n",
      "saved 10pM to dictionary\n",
      "saved 15pm to dictionary\n",
      "saved 20pM to dictionary\n",
      "saved 25pM to dictionary\n",
      "saved 50pM to dictionary\n"
     ]
    }
   ],
   "source": [
    "# load constraints from the data and save all the means and 2nd moments, then save all the required points \n",
    "## saving Data of IGF\n",
    "filepath  = 'Data/IGF/EXP129_RAW.xlsx'\n",
    "xls = pd.ExcelFile(filepath)\n",
    "Data_Dict = defaultdict(lambda: 'Not present')\n",
    "Sheet_labels = ['Sheet2' ,'0pM','10pM','15pm','20pM','25pM', '50pM']\n",
    "# conc\n",
    "nSheets = len(Sheet_labels)\n",
    "for i in range(nSheets): \n",
    "    sl = Sheet_labels[i]\n",
    "    df = pd.read_excel(xls, sl ,header=None)\n",
    "    data = df.to_numpy()\n",
    "    Data_Dict[sl] = data\n",
    "    print(f'saved {sl} to dictionary')\n"
   ]
  },
  {
   "cell_type": "code",
   "execution_count": 12,
   "metadata": {},
   "outputs": [
    {
     "name": "stdout",
     "output_type": "stream",
     "text": [
      "dict_keys(['Sheet2', '0pM', '10pM', '15pm', '20pM', '25pM', '50pM'])\n"
     ]
    },
    {
     "data": {
      "text/plain": [
       "(61, 302)"
      ]
     },
     "execution_count": 12,
     "metadata": {},
     "output_type": "execute_result"
    }
   ],
   "source": [
    "print(Data_Dict.keys())\n",
    "Data_Dict['10pM'].shape"
   ]
  },
  {
   "cell_type": "markdown",
   "metadata": {},
   "source": [
    "### Getting the scaling factor "
   ]
  },
  {
   "cell_type": "code",
   "execution_count": 14,
   "metadata": {},
   "outputs": [
    {
     "name": "stdout",
     "output_type": "stream",
     "text": [
      "10pM\n",
      "shape of measurement matrix (61, 301)\n",
      "shape of bg matrix (61, 301)\n",
      "shape of bg substracted data (61, 301)\n",
      "301\n",
      "15pm\n",
      "shape of measurement matrix (61, 300)\n",
      "shape of bg matrix (61, 300)\n",
      "shape of bg substracted data (61, 300)\n",
      "300\n",
      "20pM\n",
      "shape of measurement matrix (61, 300)\n",
      "shape of bg matrix (61, 300)\n",
      "shape of bg substracted data (61, 300)\n",
      "300\n",
      "50pM\n",
      "shape of measurement matrix (61, 300)\n",
      "shape of bg matrix (61, 300)\n",
      "shape of bg substracted data (61, 300)\n",
      "300\n",
      "22530.951948376358\n"
     ]
    }
   ],
   "source": [
    "df = pd.read_excel(xls, 'Sheet2' ,header=None)\n",
    "bg_array = df.to_numpy()[:,1] # defining the background noise array -- it is column indx 1 because 0 is the minute number\n",
    "# bg_matrix = np.transpose(np.tile(bg_array, (300,1)))\n",
    "conc_labels = ['10pM','15pm','20pM','50pM']\n",
    "# conc\n",
    "bgg = 0     \n",
    "ncc = 0 # number of cells \n",
    "# Means_dict = defaultdict(lambda: 'Not present')\n",
    "# Var_dict = defaultdict(lambda:'Not present')\n",
    "# SecondMoment_dict = defaultdict(lambda:'Not present')\n",
    "for key in conc_labels: \n",
    "    print(key)\n",
    "    matrix = Data_Dict[key][:,1:]\n",
    "    print('shape of measurement matrix', matrix.shape)\n",
    "    ncells = matrix.shape[1]\n",
    "    bg_matrix = np.transpose(np.tile(bg_array, (ncells,1)))\n",
    "    print('shape of bg matrix', bg_matrix.shape)\n",
    "    \n",
    "#     print(matrix.shape)\n",
    "    ## subtract \n",
    "    data = matrix - bg_matrix\n",
    "    \n",
    "    print( 'shape of bg substracted data' ,data.shape)\n",
    "    bgg += np.sum(data[0,:]) #  running sum of flourescence units at t = 0 -- cells have not responded yet \n",
    "    ncc += len(data[0,:]) # running sum of cell number \n",
    "    print(len(data[0,:]) )\n",
    "    \n",
    "flour_noligand = bgg/ncc #estimate of flourescence units at no ligand -- when cells haven't responded to IGF yet \n",
    "print(flour_noligand)"
   ]
  },
  {
   "cell_type": "code",
   "execution_count": 16,
   "metadata": {},
   "outputs": [
    {
     "name": "stdout",
     "output_type": "stream",
     "text": [
      "sc = 0.0210081373577934\n"
     ]
    }
   ],
   "source": [
    "n_foxO = 710*2/3 \n",
    "au_foxO = flour_noligand\n",
    "# scale factor \n",
    "sc = n_foxO/au_foxO\n",
    "print(f'sc = {sc}')"
   ]
  },
  {
   "cell_type": "markdown",
   "metadata": {},
   "source": [
    "### Removing the background and getting the shift"
   ]
  },
  {
   "cell_type": "code",
   "execution_count": 17,
   "metadata": {},
   "outputs": [
    {
     "name": "stdout",
     "output_type": "stream",
     "text": [
      "10pM\n",
      "(61, 301)\n",
      "15pm\n",
      "(61, 300)\n",
      "20pM\n",
      "(61, 300)\n",
      "50pM\n",
      "(61, 300)\n"
     ]
    }
   ],
   "source": [
    "df = pd.read_excel(xls, 'Sheet2' ,header=None)\n",
    "bg_array = df.to_numpy()[:,1]\n",
    "# bg_matrix = np.transpose(np.tile(bg_array, (300,1)))\n",
    "\n",
    "conc_labels = ['10pM','15pm','20pM','50pM']\n",
    "# conc\n",
    "bgg = 0 \n",
    "ncc = 0\n",
    "\n",
    "Means_dict = defaultdict(lambda: 'Not present')\n",
    "# Var_dict = defaultdict(lambda:'Not present')\n",
    "# SecondMoment_dict = defaultdict(lambda:'Not present')\n",
    "for key in conc_labels: \n",
    "    print(key)\n",
    "    matrix = Data_Dict[key][:,1:]\n",
    "    ncells = matrix.shape[1]\n",
    "    bg_matrix = np.transpose(np.tile(bg_array, (ncells,1)))\n",
    "#     print(matrix.shape)\n",
    "    ## subtract \n",
    "    data = (matrix - bg_matrix)*sc\n",
    "    print(data.shape)\n",
    "#     if key \n",
    "#     bgg += np.sum(data[0,:])\n",
    "#     ncc += len(data[0,:]) \n",
    "    # Means_dict[key] = np.mean(data, axis = 1)\n",
    "#     SecondMoment_dict[key] = np.mean(data**2, axis = 1)\n",
    "#     Var_dict[key] = np.var(data, axis = 1)\n",
    "    \n",
    "# bgg/ncc\n",
    "\n"
   ]
  },
  {
   "cell_type": "code",
   "execution_count": 8,
   "metadata": {},
   "outputs": [
    {
     "data": {
      "text/plain": [
       "(4, 61)"
      ]
     },
     "execution_count": 8,
     "metadata": {},
     "output_type": "execute_result"
    }
   ],
   "source": [
    "## make means matrix \n",
    "# time_values = [0,6,12,24,45,60,90]\n",
    "means_matrix = np.zeros((len(conc_labels), 61))\n",
    "i=0\n",
    "for key in conc_labels:\n",
    "    means_matrix[i,:] = Means_dict[key]\n",
    "    i+=1 \n",
    "np.shape(means_matrix)\n",
    "    \n",
    "    "
   ]
  },
  {
   "cell_type": "code",
   "execution_count": 11,
   "metadata": {},
   "outputs": [],
   "source": [
    "data_shift_dict = defaultdict(lambda: 'not present')\n",
    "data_shift = (np.average(means_matrix[:,0]) - means_matrix[:,0])\n",
    "for i in range(np.shape(means_matrix)[0]):\n",
    "    \n",
    "    means_matrix[i] = means_matrix[i] + data_shift[i]\n",
    "    "
   ]
  },
  {
   "cell_type": "markdown",
   "metadata": {},
   "source": [
    "### Saving the data with bg removal, shift added and scaling ."
   ]
  },
  {
   "cell_type": "code",
   "execution_count": 20,
   "metadata": {},
   "outputs": [
    {
     "name": "stdout",
     "output_type": "stream",
     "text": [
      "10pM\n",
      "(61, 301)\n",
      "15pm\n",
      "(61, 300)\n",
      "20pM\n",
      "(61, 300)\n",
      "50pM\n",
      "(61, 300)\n"
     ]
    }
   ],
   "source": [
    "df = pd.read_excel(xls, 'Sheet2' ,header=None)\n",
    "bg_array = df.to_numpy()[:,1]\n",
    "# bg_matrix = np.transpose(np.tile(bg_array, (300,1)))\n",
    "\n",
    "conc_labels = ['10pM','15pm','20pM','50pM']\n",
    "# conc\n",
    "bgg = 0 \n",
    "ncc = 0\n",
    "Means_dict = defaultdict(lambda: 'Not present')\n",
    "Var_dict = defaultdict(lambda:'Not present')\n",
    "SecondMoment_dict = defaultdict(lambda:'Not present')\n",
    "log_dict  = defaultdict(lambda: 'Not present')\n",
    "scale_Data = 1\n",
    "i=0\n",
    "for key in conc_labels: \n",
    "    print(key)\n",
    "    matrix = Data_Dict[key][:,1:]\n",
    "    ncells = matrix.shape[1]\n",
    "    bg_matrix = np.transpose(np.tile(bg_array, (ncells,1)))\n",
    "    \n",
    "#     print((matrix - bg_matrix)*sc )\n",
    "    \n",
    "    data =( ((matrix - bg_matrix)*sc ) + data_shift[i])/scale_Data\n",
    "#     data\n",
    "    print(data.shape)\n",
    "    Means_dict[key] = np.mean(data, axis = 1)\n",
    "#     print(np.mean(data, axis = 1).shape)\n",
    "#     print('log' ,np.mean(np.log(data), axis = 1).shape)\n",
    "    SecondMoment_dict[key] = np.mean(data**2, axis = 1)\n",
    "    Var_dict[key] = np.var(data, axis = 1)\n",
    "    log_dict[key] = np.mean(np.log(data), axis = 1)\n",
    "    \n",
    "    \n",
    "    i+=1\n",
    "    \n",
    "# bgg/ncc\n",
    "\n"
   ]
  },
  {
   "cell_type": "code",
   "execution_count": 21,
   "metadata": {},
   "outputs": [
    {
     "data": {
      "text/plain": [
       "defaultdict(<function __main__.<lambda>()>,\n",
       "            {'10pM': array([473.3266724 , 431.45420641, 454.10860632, 455.47604273,\n",
       "                    454.92797602, 448.15236735, 445.07934727, 440.7862995 ,\n",
       "                    436.5247793 , 432.34405597, 428.22913836, 424.4263926 ,\n",
       "                    420.49208286, 416.70427033, 414.2070812 , 410.89845591,\n",
       "                    407.75641816, 405.78816368, 403.35876034, 401.27088371,\n",
       "                    399.71709395, 398.37611314, 397.68485608, 397.08334355,\n",
       "                    396.85881961, 396.64753358, 395.77463082, 395.87751625,\n",
       "                    395.90583327, 396.31201967, 396.37161368, 396.98211085,\n",
       "                    397.01623756, 397.07629641, 397.47630111, 398.39882775,\n",
       "                    397.89450473, 398.2314934 , 399.0371087 , 398.56416458,\n",
       "                    398.63094114, 399.41960965, 400.06880018, 400.3803362 ,\n",
       "                    400.80919813, 401.22418353, 401.71026576, 402.39722417,\n",
       "                    403.17711184, 403.59795229, 403.26469763, 404.09482824,\n",
       "                    404.14928468, 405.03510361, 405.11340673, 405.98723567,\n",
       "                    406.42861315, 406.80853729, 407.53472019, 408.04209603,\n",
       "                    409.34013719]),\n",
       "             '15pm': array([473.3266724 , 444.69939382, 463.36560404, 455.58572056,\n",
       "                    448.82085023, 426.74027748, 421.21790842, 414.95928419,\n",
       "                    408.61048502, 402.74397267, 396.43221786, 391.42045659,\n",
       "                    386.66029277, 382.72603886, 378.40931681, 374.72214861,\n",
       "                    372.41354439, 369.0819039 , 366.29236339, 362.17093698,\n",
       "                    359.57389104, 357.13501636, 355.72290939, 354.80597422,\n",
       "                    354.43061883, 354.79687069, 354.55365648, 355.18004911,\n",
       "                    355.76466556, 356.20000418, 357.00817722, 358.76687845,\n",
       "                    359.08008977, 360.30376375, 361.32967113, 362.2231372 ,\n",
       "                    364.05489672, 365.40830096, 366.17590828, 367.2460528 ,\n",
       "                    368.08677845, 369.08922674, 370.50374464, 371.37751309,\n",
       "                    372.47079656, 373.78964741, 374.8576711 , 376.41277346,\n",
       "                    377.15333031, 377.89545777, 378.59701951, 379.80385697,\n",
       "                    380.49303392, 381.51533991, 382.28347744, 383.40130042,\n",
       "                    384.43773187, 385.50361474, 386.61022337, 386.99114092,\n",
       "                    388.27216712]),\n",
       "             '20pM': array([473.3266724 , 259.25356265, 440.84614128, 438.71555602,\n",
       "                    431.31182823, 412.24088123, 401.56066432, 390.43725575,\n",
       "                    380.0354967 , 370.57631275, 361.77306287, 353.79929429,\n",
       "                    346.64945484, 340.53539661, 334.38046253, 330.08426843,\n",
       "                    327.12980404, 324.3987862 , 321.92303724, 319.82070291,\n",
       "                    317.88807432, 316.90394313, 316.5579291 , 315.20353448,\n",
       "                    314.6495399 , 314.83680243, 315.28202489, 315.3187191 ,\n",
       "                    315.86685141, 316.15135161, 316.34335599, 316.12666205,\n",
       "                    315.21474883, 316.15012114, 316.38080049, 316.77945491,\n",
       "                    317.87992116, 318.37458277, 318.78253078, 319.35471241,\n",
       "                    320.02611248, 320.76266778, 321.95491959, 322.82098505,\n",
       "                    323.63962214, 324.16471554, 325.25052612, 326.5082933 ,\n",
       "                    327.91767922, 329.25706802, 329.86976535, 331.32877048,\n",
       "                    332.34511416, 333.31097828, 334.8987833 , 335.31584485,\n",
       "                    336.71347621, 338.21310708, 339.38505103, 340.848798  ,\n",
       "                    341.68662253]),\n",
       "             '50pM': array([473.3266724 , 242.63423526, 432.45472093, 414.01944015,\n",
       "                    389.35206541, 339.24908836, 314.8617621 , 292.68506211,\n",
       "                    273.95826841, 258.16555121, 246.17599714, 236.8423018 ,\n",
       "                    229.9205407 , 225.1493226 , 222.22333924, 219.50611675,\n",
       "                    218.00079367, 217.34495964, 217.32177065, 217.22235215,\n",
       "                    216.90903078, 217.62319741, 217.85882868, 217.86576137,\n",
       "                    218.30531162, 219.20075847, 219.56593992, 219.82504028,\n",
       "                    220.68234235, 220.47280118, 221.13188648, 221.82351437,\n",
       "                    221.76117023, 222.94317807, 223.12147713, 223.7755905 ,\n",
       "                    224.57816137, 224.88452003, 225.2520624 , 226.52962725,\n",
       "                    227.5244826 , 227.92868917, 228.30218384, 229.07763421,\n",
       "                    229.28843586, 230.06464652, 230.89983002, 231.56187646,\n",
       "                    232.66475365, 232.46641683, 233.21608721, 233.69723358,\n",
       "                    233.93368517, 234.92629965, 236.03602949, 236.40925406,\n",
       "                    237.21977801, 237.85366354, 238.90572105, 239.47739248,\n",
       "                    240.19175919])})"
      ]
     },
     "execution_count": 21,
     "metadata": {},
     "output_type": "execute_result"
    }
   ],
   "source": [
    "Means_dict"
   ]
  },
  {
   "cell_type": "code",
   "execution_count": 22,
   "metadata": {},
   "outputs": [
    {
     "data": {
      "text/plain": [
       "defaultdict(<function __main__.<lambda>()>,\n",
       "            {'10pM': array([228865.06950352, 190155.32385097, 210509.3377612 , 211909.59371188,\n",
       "                    211701.23741619, 205625.19415699, 202972.37919141, 199194.06502796,\n",
       "                    195448.77434065, 191906.59619268, 188422.51076412, 185264.33598773,\n",
       "                    181942.27357214, 178924.87649242, 176863.67555538, 174203.73968426,\n",
       "                    171679.47263427, 170197.23261482, 168307.2773056 , 166707.68267513,\n",
       "                    165509.61633014, 164399.83562526, 163904.56898962, 163440.44822613,\n",
       "                    163242.63675272, 163208.33217853, 162364.41026372, 162379.01395877,\n",
       "                    162341.99271116, 162664.89975456, 162740.57904566, 163274.69538166,\n",
       "                    163251.57176754, 163439.92985405, 163727.82711309, 164505.19960069,\n",
       "                    164004.74062947, 164359.91981125, 165020.30231342, 164582.99086068,\n",
       "                    164567.78491319, 165238.67889436, 165686.42730361, 166000.5664213 ,\n",
       "                    166331.29690355, 166579.56859365, 166869.83922214, 167345.66322363,\n",
       "                    168088.50185944, 168460.27477384, 168172.57223944, 168830.32197464,\n",
       "                    168822.16107922, 169522.5391104 , 169541.91729557, 170197.18659003,\n",
       "                    170734.64901445, 170948.71338781, 171707.45423392, 172121.25117703,\n",
       "                    173162.51172531]),\n",
       "             '15pm': array([229008.29654811, 204103.87432885, 219578.28377667, 212346.56299367,\n",
       "                    206260.52437945, 186506.5339386 , 181922.93858444, 176936.11910391,\n",
       "                    171882.22597873, 167290.23936905, 162412.42313057, 158526.05499826,\n",
       "                    154967.22715777, 151987.7553793 , 148833.17787634, 146135.87758281,\n",
       "                    144544.89194295, 142051.02093721, 140067.61267992, 137127.86701403,\n",
       "                    135316.89105136, 133466.53843101, 132538.73239348, 131885.19474864,\n",
       "                    131624.67329059, 131908.25589393, 131665.13293992, 132112.53776189,\n",
       "                    132517.14623074, 132829.63187251, 133540.26892794, 134740.45762773,\n",
       "                    134970.81083977, 135902.09707986, 136556.45067187, 137262.73787777,\n",
       "                    138641.54296328, 139612.57075318, 140111.11092872, 140882.93174864,\n",
       "                    141454.55309239, 142280.56884191, 143298.46961424, 144064.3238637 ,\n",
       "                    144885.69740624, 146011.48106497, 146822.37493132, 147902.33886508,\n",
       "                    148523.46426379, 149102.99681252, 149637.76060481, 150533.97695384,\n",
       "                    151180.29543713, 152073.62354102, 152614.65582458, 153532.82164443,\n",
       "                    154305.64274768, 155134.44796523, 156059.25246422, 156346.2642591 ,\n",
       "                    157426.84814274]),\n",
       "             '20pM': array([228658.59658047,  69048.49341149, 198284.24352742, 196585.77474853,\n",
       "                    190315.67890255, 174378.60793087, 165739.40291838, 157034.02569442,\n",
       "                    149111.42986571, 142145.67942798, 135787.49629676, 130258.56120444,\n",
       "                    125371.37462875, 121256.03293598, 117055.32495794, 114298.31209115,\n",
       "                    112573.3318172 , 110848.0726632 , 109232.28595944, 107854.32814856,\n",
       "                    106619.13732642, 106060.85499886, 105975.09075345, 105084.28947813,\n",
       "                    104715.45095771, 104867.63405817, 105131.60915157, 105082.34948082,\n",
       "                    105473.51910991, 105691.54920639, 105796.70653268, 105661.6462636 ,\n",
       "                    105151.05905953, 105689.09924046, 105785.18684809, 106047.93190575,\n",
       "                    106734.52020615, 107074.39269535, 107307.06497627, 107770.64467615,\n",
       "                    108171.16419665, 108706.47503061, 109457.55786022, 109978.06333379,\n",
       "                    110584.66626497, 110972.49530024, 111636.33553093, 112424.22812448,\n",
       "                    113338.25373863, 114156.35341711, 114536.75922123, 115439.11304256,\n",
       "                    116179.06596792, 116807.89748673, 117848.54977774, 118052.80014972,\n",
       "                    119037.39073916, 120168.17124261, 120955.9943902 , 121939.90397872,\n",
       "                    122597.17349483]),\n",
       "             '50pM': array([230436.02119859,  63626.23544199, 192391.25826074, 176619.8938776 ,\n",
       "                    156617.42018588, 119623.40670868, 103571.18634254,  89925.43510977,\n",
       "                     79183.7396712 ,  70556.45744726,  64355.66416744,  59731.47385642,\n",
       "                     56387.40102637,  54166.43762282,  52756.64293077,  51405.61136711,\n",
       "                     50666.51786584,  50424.37737111,  50485.01495447,  50392.11726421,\n",
       "                     50226.05458017,  50574.74189463,  50685.50954262,  50685.4106451 ,\n",
       "                     50939.9088605 ,  51315.21873222,  51551.0158116 ,  51611.22624942,\n",
       "                     52032.89109677,  52037.63226418,  52304.21568455,  52672.78334333,\n",
       "                     52584.44851859,  53109.91972281,  53180.89555007,  53471.8644858 ,\n",
       "                     53855.67179674,  53927.78100415,  54127.15694486,  54776.11344004,\n",
       "                     55197.61794698,  55416.90139165,  55612.71201871,  55978.46357185,\n",
       "                     56127.50993165,  56526.95493314,  56936.02550982,  57258.25971072,\n",
       "                     57776.14047212,  57631.18766019,  58016.88619615,  58223.42412056,\n",
       "                     58332.22256341,  58821.39674333,  59355.54816232,  59531.29079727,\n",
       "                     59866.84995983,  60206.53169874,  60755.9201529 ,  61031.29125506,\n",
       "                     61397.33444593])})"
      ]
     },
     "execution_count": 22,
     "metadata": {},
     "output_type": "execute_result"
    }
   ],
   "source": [
    "SecondMoment_dict"
   ]
  },
  {
   "cell_type": "markdown",
   "metadata": {},
   "source": [
    "### Getting the constraints and saving them "
   ]
  },
  {
   "cell_type": "code",
   "execution_count": 23,
   "metadata": {},
   "outputs": [],
   "source": [
    "time_values = [0,6,12,24,45,60,90]\n",
    "times_constrained = np.array(time_values) #minutes \n",
    "idx_list = np.array(times_constrained/3, dtype=int)"
   ]
  },
  {
   "cell_type": "code",
   "execution_count": 14,
   "metadata": {},
   "outputs": [
    {
     "data": {
      "text/plain": [
       "array([ 0,  6, 12, 24, 45, 60, 90])"
      ]
     },
     "execution_count": 14,
     "metadata": {},
     "output_type": "execute_result"
    }
   ],
   "source": [
    "times_constrained"
   ]
  },
  {
   "cell_type": "code",
   "execution_count": 15,
   "metadata": {},
   "outputs": [
    {
     "data": {
      "text/plain": [
       "array([ 0,  2,  4,  8, 15, 20, 30])"
      ]
     },
     "execution_count": 15,
     "metadata": {},
     "output_type": "execute_result"
    }
   ],
   "source": [
    "idx_list"
   ]
  },
  {
   "cell_type": "code",
   "execution_count": 24,
   "metadata": {},
   "outputs": [],
   "source": [
    "# constraints_means_dict = defaultdict(lambda: 'not present')\n",
    "conc_list = [10,15,20,50]\n",
    "conc_labels = ['10pM','15pm','20pM','50pM']\n",
    "labels_arr_means = []\n",
    "labels_arr_sm = []\n",
    "labels_arr_log = []\n",
    "cons_arr = np.zeros(len(conc_list)* len(time_values)*2)\n",
    "k=0\n",
    "titles_list = []\n",
    "means_list = []\n",
    "sm_list = []\n",
    "log_list = []\n",
    "for i in range(len(conc_list)):\n",
    "    for j in range(len(time_values)):\n",
    "        title = f'{conc_list[i]}_pM_{time_values[j]}_min'\n",
    "        # save the means\n",
    "        key = conc_labels[i]\n",
    "        means_list.append(Means_dict[key][idx_list[j]])\n",
    "        # save the second moments \n",
    "        sm_list.append(SecondMoment_dict[key][idx_list[j]])\n",
    "        ### \n",
    "        log_list.append(log_dict[key][idx_list[j]])\n",
    "        # save the titles \n",
    "        labels_arr_means.append(f'Means_{title}')\n",
    "        labels_arr_sm.append(f'sm_{title}')\n",
    "        labels_arr_log.append(f'log_{title}')\n",
    "        \n",
    "\n"
   ]
  },
  {
   "cell_type": "code",
   "execution_count": 27,
   "metadata": {},
   "outputs": [
    {
     "data": {
      "text/plain": [
       "[6.149198782866299,\n",
       " 6.108245048965151,\n",
       " 6.109049542470153,\n",
       " 6.066413884420873,\n",
       " 6.002727551696992,\n",
       " 5.9728853980507015,\n",
       " 5.9642980232151395,\n",
       " 6.148452950275102,\n",
       " 6.127032427513213,\n",
       " 6.094487769304551,\n",
       " 5.997529840695776,\n",
       " 5.904326142306675,\n",
       " 5.85977955295276,\n",
       " 5.852184551283319,\n",
       " 6.149523390949151,\n",
       " 6.078590069850282,\n",
       " 6.055443231584044,\n",
       " 5.9242155284802225,\n",
       " 5.774075550872303,\n",
       " 5.733304738889447,\n",
       " 5.727271249401523,\n",
       " 6.14559706132277,\n",
       " 6.0552089206030475,\n",
       " 5.947980726817424,\n",
       " 5.585587209730893,\n",
       " 5.358005923074434,\n",
       " 5.345941675182775,\n",
       " 5.364040872071394]"
      ]
     },
     "execution_count": 27,
     "metadata": {},
     "output_type": "execute_result"
    }
   ],
   "source": [
    "log_list"
   ]
  },
  {
   "cell_type": "code",
   "execution_count": 24,
   "metadata": {
    "collapsed": true,
    "jupyter": {
     "outputs_hidden": true
    }
   },
   "outputs": [
    {
     "name": "stdout",
     "output_type": "stream",
     "text": [
      "[473.3266724  454.10860632 454.92797602 436.5247793  410.89845591\n",
      " 399.71709395 396.37161368 473.3266724  463.36560404 448.82085023\n",
      " 408.61048502 374.72214861 359.57389104 357.00817722 473.3266724\n",
      " 440.84614128 431.31182823 380.0354967  330.08426843 317.88807432\n",
      " 316.34335599 473.3266724  432.45472093 389.35206541 273.95826841\n",
      " 219.50611675 216.90903078 221.13188648]\n",
      "[228865.06950352 210509.3377612  211701.23741619 195448.77434065\n",
      " 174203.73968426 165509.61633014 162740.57904566 229008.29654811\n",
      " 219578.28377667 206260.52437945 171882.22597873 146135.87758281\n",
      " 135316.89105136 133540.26892794 228658.59658047 198284.24352742\n",
      " 190315.67890255 149111.42986571 114298.31209115 106619.13732642\n",
      " 105796.70653268 230436.02119859 192391.25826074 156617.42018588\n",
      "  79183.7396712   51405.61136711  50226.05458017  52304.21568455]\n",
      "['Means_10_pM_0_min', 'Means_10_pM_6_min', 'Means_10_pM_12_min', 'Means_10_pM_24_min', 'Means_10_pM_45_min', 'Means_10_pM_60_min', 'Means_10_pM_90_min', 'Means_15_pM_0_min', 'Means_15_pM_6_min', 'Means_15_pM_12_min', 'Means_15_pM_24_min', 'Means_15_pM_45_min', 'Means_15_pM_60_min', 'Means_15_pM_90_min', 'Means_20_pM_0_min', 'Means_20_pM_6_min', 'Means_20_pM_12_min', 'Means_20_pM_24_min', 'Means_20_pM_45_min', 'Means_20_pM_60_min', 'Means_20_pM_90_min', 'Means_50_pM_0_min', 'Means_50_pM_6_min', 'Means_50_pM_12_min', 'Means_50_pM_24_min', 'Means_50_pM_45_min', 'Means_50_pM_60_min', 'Means_50_pM_90_min', 'sm_10_pM_0_min', 'sm_10_pM_6_min', 'sm_10_pM_12_min', 'sm_10_pM_24_min', 'sm_10_pM_45_min', 'sm_10_pM_60_min', 'sm_10_pM_90_min', 'sm_15_pM_0_min', 'sm_15_pM_6_min', 'sm_15_pM_12_min', 'sm_15_pM_24_min', 'sm_15_pM_45_min', 'sm_15_pM_60_min', 'sm_15_pM_90_min', 'sm_20_pM_0_min', 'sm_20_pM_6_min', 'sm_20_pM_12_min', 'sm_20_pM_24_min', 'sm_20_pM_45_min', 'sm_20_pM_60_min', 'sm_20_pM_90_min', 'sm_50_pM_0_min', 'sm_50_pM_6_min', 'sm_50_pM_12_min', 'sm_50_pM_24_min', 'sm_50_pM_45_min', 'sm_50_pM_60_min', 'sm_50_pM_90_min']\n",
      "[4.73326672e+02 4.54108606e+02 4.54927976e+02 4.36524779e+02\n",
      " 4.10898456e+02 3.99717094e+02 3.96371614e+02 4.73326672e+02\n",
      " 4.63365604e+02 4.48820850e+02 4.08610485e+02 3.74722149e+02\n",
      " 3.59573891e+02 3.57008177e+02 4.73326672e+02 4.40846141e+02\n",
      " 4.31311828e+02 3.80035497e+02 3.30084268e+02 3.17888074e+02\n",
      " 3.16343356e+02 4.73326672e+02 4.32454721e+02 3.89352065e+02\n",
      " 2.73958268e+02 2.19506117e+02 2.16909031e+02 2.21131886e+02\n",
      " 2.28865070e+05 2.10509338e+05 2.11701237e+05 1.95448774e+05\n",
      " 1.74203740e+05 1.65509616e+05 1.62740579e+05 2.29008297e+05\n",
      " 2.19578284e+05 2.06260524e+05 1.71882226e+05 1.46135878e+05\n",
      " 1.35316891e+05 1.33540269e+05 2.28658597e+05 1.98284244e+05\n",
      " 1.90315679e+05 1.49111430e+05 1.14298312e+05 1.06619137e+05\n",
      " 1.05796707e+05 2.30436021e+05 1.92391258e+05 1.56617420e+05\n",
      " 7.91837397e+04 5.14056114e+04 5.02260546e+04 5.23042157e+04]\n"
     ]
    }
   ],
   "source": [
    "means_arr = np.asarray(means_list)\n",
    "sm_arr = np.asarray(sm_list)\n",
    "log_arr = np.asarray(log_list)\n",
    "\n",
    "## \n",
    "cons_arr = np.concatenate((means_arr, sm_arr), axis = 0 )\n",
    "labels_arr = labels_arr_means + labels_arr_sm\n",
    "### \n",
    "\n",
    "\n",
    "print(means_arr)\n",
    "print(sm_arr)\n",
    "print(labels_arr)\n",
    "print(cons_arr)"
   ]
  },
  {
   "cell_type": "code",
   "execution_count": 28,
   "metadata": {},
   "outputs": [],
   "source": [
    "means_arr = np.asarray(means_list)\n",
    "# sm_arr = np.asarray(sm_list)\n",
    "log_arr = np.asarray(log_list)\n",
    "\n",
    "## \n",
    "cons_arr = np.concatenate((means_arr, log_arr), axis = 0 )\n",
    "labels_arr = labels_arr_means + labels_arr_log\n"
   ]
  },
  {
   "cell_type": "code",
   "execution_count": 29,
   "metadata": {},
   "outputs": [
    {
     "data": {
      "text/plain": [
       "['Means_10_pM_0_min',\n",
       " 'Means_10_pM_6_min',\n",
       " 'Means_10_pM_12_min',\n",
       " 'Means_10_pM_24_min',\n",
       " 'Means_10_pM_45_min',\n",
       " 'Means_10_pM_60_min',\n",
       " 'Means_10_pM_90_min',\n",
       " 'Means_15_pM_0_min',\n",
       " 'Means_15_pM_6_min',\n",
       " 'Means_15_pM_12_min',\n",
       " 'Means_15_pM_24_min',\n",
       " 'Means_15_pM_45_min',\n",
       " 'Means_15_pM_60_min',\n",
       " 'Means_15_pM_90_min',\n",
       " 'Means_20_pM_0_min',\n",
       " 'Means_20_pM_6_min',\n",
       " 'Means_20_pM_12_min',\n",
       " 'Means_20_pM_24_min',\n",
       " 'Means_20_pM_45_min',\n",
       " 'Means_20_pM_60_min',\n",
       " 'Means_20_pM_90_min',\n",
       " 'Means_50_pM_0_min',\n",
       " 'Means_50_pM_6_min',\n",
       " 'Means_50_pM_12_min',\n",
       " 'Means_50_pM_24_min',\n",
       " 'Means_50_pM_45_min',\n",
       " 'Means_50_pM_60_min',\n",
       " 'Means_50_pM_90_min',\n",
       " 'log_10_pM_0_min',\n",
       " 'log_10_pM_6_min',\n",
       " 'log_10_pM_12_min',\n",
       " 'log_10_pM_24_min',\n",
       " 'log_10_pM_45_min',\n",
       " 'log_10_pM_60_min',\n",
       " 'log_10_pM_90_min',\n",
       " 'log_15_pM_0_min',\n",
       " 'log_15_pM_6_min',\n",
       " 'log_15_pM_12_min',\n",
       " 'log_15_pM_24_min',\n",
       " 'log_15_pM_45_min',\n",
       " 'log_15_pM_60_min',\n",
       " 'log_15_pM_90_min',\n",
       " 'log_20_pM_0_min',\n",
       " 'log_20_pM_6_min',\n",
       " 'log_20_pM_12_min',\n",
       " 'log_20_pM_24_min',\n",
       " 'log_20_pM_45_min',\n",
       " 'log_20_pM_60_min',\n",
       " 'log_20_pM_90_min',\n",
       " 'log_50_pM_0_min',\n",
       " 'log_50_pM_6_min',\n",
       " 'log_50_pM_12_min',\n",
       " 'log_50_pM_24_min',\n",
       " 'log_50_pM_45_min',\n",
       " 'log_50_pM_60_min',\n",
       " 'log_50_pM_90_min']"
      ]
     },
     "execution_count": 29,
     "metadata": {},
     "output_type": "execute_result"
    }
   ],
   "source": [
    "labels_arr"
   ]
  },
  {
   "cell_type": "code",
   "execution_count": 30,
   "metadata": {},
   "outputs": [],
   "source": [
    "dictionary = {'labels': labels_arr, 'array':cons_arr}"
   ]
  },
  {
   "cell_type": "code",
   "execution_count": 35,
   "metadata": {},
   "outputs": [
    {
     "data": {
      "text/plain": [
       "28"
      ]
     },
     "execution_count": 35,
     "metadata": {},
     "output_type": "execute_result"
    }
   ],
   "source": [
    "4*7"
   ]
  },
  {
   "cell_type": "code",
   "execution_count": 36,
   "metadata": {},
   "outputs": [],
   "source": [
    "np.save('/Users/hodaakl/Documents/GitHub/MaxEnt_FoxO/Arrays_for_max_ent/MuLnCons_28Conds_0119.npy', dictionary) \n",
    "\n"
   ]
  },
  {
   "cell_type": "code",
   "execution_count": 65,
   "metadata": {},
   "outputs": [],
   "source": [
    "np.save('/Volumes/hodaakl/A5MCMC_IGF_FoxO/Arrays_for_max_ent/Cons_1208_Zero2ndMoments.npy', dictionary) \n",
    "\n"
   ]
  },
  {
   "cell_type": "code",
   "execution_count": null,
   "metadata": {},
   "outputs": [],
   "source": []
  },
  {
   "cell_type": "code",
   "execution_count": 58,
   "metadata": {},
   "outputs": [
    {
     "data": {
      "text/plain": [
       "{'labels': ['10_pM_0_min',\n",
       "  '10_pM_6_min',\n",
       "  '10_pM_12_min',\n",
       "  '10_pM_24_min',\n",
       "  '10_pM_45_min',\n",
       "  '10_pM_60_min',\n",
       "  '10_pM_90_min',\n",
       "  '15_pM_0_min',\n",
       "  '15_pM_6_min',\n",
       "  '15_pM_12_min',\n",
       "  '15_pM_24_min',\n",
       "  '15_pM_45_min',\n",
       "  '15_pM_60_min',\n",
       "  '15_pM_90_min',\n",
       "  '20_pM_0_min',\n",
       "  '20_pM_6_min',\n",
       "  '20_pM_12_min',\n",
       "  '20_pM_24_min',\n",
       "  '20_pM_45_min',\n",
       "  '20_pM_60_min',\n",
       "  '20_pM_90_min',\n",
       "  '50_pM_0_min',\n",
       "  '50_pM_6_min',\n",
       "  '50_pM_12_min',\n",
       "  '50_pM_24_min',\n",
       "  '50_pM_45_min',\n",
       "  '50_pM_60_min',\n",
       "  '50_pM_90_min'],\n",
       " 'array': array([473.3266724 , 454.10860632, 454.92797602, 436.5247793 ,\n",
       "        410.89845591, 399.71709395, 396.37161368, 473.3266724 ,\n",
       "        463.36560404, 448.82085023, 408.61048502, 374.72214861,\n",
       "        359.57389104, 357.00817722, 473.3266724 , 440.84614128,\n",
       "        431.31182823, 380.0354967 , 330.08426843, 317.88807432,\n",
       "        316.34335599, 473.3266724 , 432.45472093, 389.35206541,\n",
       "        273.95826841, 219.50611675, 216.90903078, 221.13188648])}"
      ]
     },
     "execution_count": 58,
     "metadata": {},
     "output_type": "execute_result"
    }
   ],
   "source": [
    "dictionary"
   ]
  },
  {
   "cell_type": "code",
   "execution_count": 18,
   "metadata": {},
   "outputs": [],
   "source": [
    "# n_foxO = 710*2/3 \n",
    "# au_foxO = 22530.951948376358\n",
    "# # scale factor \n",
    "# sc = n_foxO/au_foxO\n",
    "# # sc\n",
    "\n",
    "# # initialize data matrix that contains mean values \n",
    "# means_matrix = np.zeros((len(Means_dict),data.shape[0]))\n",
    "# i=0\n",
    "# for key in Means_dict: \n",
    "#     means_matrix[i,:] = Means_dict[key]* sc\n",
    "#     i+=1 \n",
    "    \n"
   ]
  },
  {
   "cell_type": "code",
   "execution_count": null,
   "metadata": {},
   "outputs": [],
   "source": []
  },
  {
   "cell_type": "code",
   "execution_count": 33,
   "metadata": {},
   "outputs": [],
   "source": [
    "# these have 61 points in each array, for 61 measurements \n",
    "SecondMoment_dict = dict(Means_dict)\n",
    "np.save('Arrays_for_max_ent/SecondMoment_Dictionary.npy', SecondMoment_dict)#, allow_pickle=True) "
   ]
  },
  {
   "cell_type": "code",
   "execution_count": 34,
   "metadata": {},
   "outputs": [],
   "source": [
    "# these have 61 points in each array, for 61 measurements \n",
    "Var_dict = dict(Var_dict)\n",
    "np.save('Arrays_for_max_ent/Variance_Dictionary.npy', Var_dict)#, allow_pickle=True) "
   ]
  },
  {
   "cell_type": "code",
   "execution_count": 35,
   "metadata": {
    "collapsed": true,
    "jupyter": {
     "outputs_hidden": true
    }
   },
   "outputs": [
    {
     "data": {
      "text/plain": [
       "array({'0pM': array([25489.34666667, 22560.97666667, 24270.98333333, 24165.06      ,\n",
       "       24214.46666667, 24113.4       , 24133.50333333, 24191.44333333,\n",
       "       24239.72      , 24300.82      , 24307.35666667, 24378.20333333,\n",
       "       24378.68      , 24454.94      , 24452.21666667, 24502.26      ,\n",
       "       24531.81666667, 24562.89333333, 24566.34      , 24585.95      ,\n",
       "       24631.36      , 24629.25333333, 24668.28      , 24675.84333333,\n",
       "       24706.13666667, 24717.19666667, 24696.08666667, 24704.83333333,\n",
       "       24721.64666667, 24773.01333333, 24815.79666667, 24802.21666667,\n",
       "       24807.68      , 24816.63666667, 24859.97      , 24886.76333333,\n",
       "       24925.70666667, 24942.10666667, 24960.27      , 24972.66      ,\n",
       "       25040.71666667, 25031.67      , 25029.28      , 25051.52666667,\n",
       "       25075.49666667, 25083.17      , 25111.35333333, 25124.02333333,\n",
       "       25132.53333333, 25175.16333333, 25166.63666667, 25162.2       ,\n",
       "       25206.18333333, 25228.42666667, 25229.37666667, 25244.85666667,\n",
       "       25237.82      , 25240.22666667, 25244.81666667, 25266.04666667,\n",
       "       25299.56666667]), '10pM': array([26629.13953488, 24701.81063123, 25580.74086379, 25637.35880399,\n",
       "       25612.27906977, 25170.62458472, 25026.47840532, 24824.6910299 ,\n",
       "       24624.97009967, 24423.59800664, 24224.3654485 , 24037.40531561,\n",
       "       23834.05980066, 23650.85049834, 23523.59136213, 23366.93023256,\n",
       "       23211.51162791, 23112.11295681, 22990.28903654, 22891.83056478,\n",
       "       22810.94352159, 22734.82059801, 22705.95348837, 22673.66112957,\n",
       "       22659.76079734, 22646.10631229, 22599.17275748, 22598.95016611,\n",
       "       22592.00664452, 22613.30564784, 22608.14950166, 22628.71096346,\n",
       "       22633.089701  , 22630.72425249, 22646.72757475, 22689.73754153,\n",
       "       22672.41860465, 22687.0166113 , 22719.25581395, 22693.84053156,\n",
       "       22690.97342193, 22725.78737542, 22753.80066445, 22767.58139535,\n",
       "       22783.64119601, 22800.00332226, 22822.23255814, 22845.48504983,\n",
       "       22879.83388704, 22900.87043189, 22878.2358804 , 22914.67774086,\n",
       "       22914.6013289 , 22953.66112957, 22954.62126246, 22994.90033223,\n",
       "       23012.37873754, 23025.99335548, 23056.54152824, 23081.69435216,\n",
       "       23123.71760797]), '15pm': array([26377.93333333, 25081.08333333, 25770.17333333, 25391.37333333,\n",
       "       25070.37      , 23900.19      , 23639.45333333, 23344.10333333,\n",
       "       23045.02666667, 22763.41      , 22459.60666667, 22215.09666667,\n",
       "       21972.44      , 21782.26      , 21568.39      , 21393.71      ,\n",
       "       21277.96333333, 21113.66666667, 20974.7       , 20779.44333333,\n",
       "       20648.89666667, 20520.51333333, 20457.33333333, 20410.02666667,\n",
       "       20388.94666667, 20402.78333333, 20385.82333333, 20410.52      ,\n",
       "       20430.05666667, 20452.74333333, 20483.22      , 20558.43666667,\n",
       "       20576.1       , 20629.12333333, 20674.92      , 20716.54666667,\n",
       "       20810.42666667, 20873.40666667, 20903.83666667, 20951.87333333,\n",
       "       20985.84666667, 21030.83666667, 21095.28      , 21135.82333333,\n",
       "       21183.51      , 21242.89666667, 21292.82666667, 21357.40333333,\n",
       "       21389.88      , 21426.21      , 21452.83333333, 21507.20666667,\n",
       "       21537.34333333, 21582.9       , 21616.69666667, 21668.59      ,\n",
       "       21714.39333333, 21760.66      , 21809.31666667, 21828.45      ,\n",
       "       21869.66333333]), '20pM': array([26263.96      , 16139.77666667, 24584.26      , 24474.37      ,\n",
       "       24122.95666667, 23096.03666667, 22589.78333333, 22062.86666667,\n",
       "       21570.86666667, 21118.23666667, 20695.83666667, 20310.33333333,\n",
       "       19953.92666667, 19659.98666667, 19358.61666667, 19154.94666667,\n",
       "       19008.45666667, 18872.75      , 18748.72      , 18649.57333333,\n",
       "       18550.65333333, 18491.51666667, 18479.08333333, 18410.95333333,\n",
       "       18381.37      , 18386.68666667, 18402.49666667, 18399.12333333,\n",
       "       18416.92333333, 18432.43      , 18433.57666667, 18414.76333333,\n",
       "       18374.11      , 18413.41      , 18421.35333333, 18439.42666667,\n",
       "       18498.49666667, 18520.6       , 18533.91      , 18558.24333333,\n",
       "       18584.15666667, 18616.49      , 18670.35333333, 18710.53      ,\n",
       "       18745.14333333, 18766.74666667, 18817.52333333, 18867.94666667,\n",
       "       18932.26      , 18997.02      , 19019.41333333, 19085.79      ,\n",
       "       19131.5       , 19174.37      , 19247.18333333, 19265.72      ,\n",
       "       19328.71666667, 19395.63      , 19447.39666667, 19518.07333333,\n",
       "       19538.19      ]), '25pM': array([25028.07      , 14698.65      , 24102.68333333, 24084.62333333,\n",
       "       23689.69666667, 22275.53      , 21775.48333333, 21189.03333333,\n",
       "       20595.28333333, 19984.46333333, 19380.05333333, 18834.77666667,\n",
       "       18312.93      , 17858.56333333, 17472.19      , 17104.38      ,\n",
       "       16801.46666667, 16566.09333333, 16355.45      , 16207.14333333,\n",
       "       16043.79666667, 15879.78666667, 15813.25666667, 15733.18333333,\n",
       "       15663.88666667, 15613.55      , 15570.18      , 15518.24333333,\n",
       "       15485.07      , 15466.97666667, 15474.88666667, 15455.83666667,\n",
       "       15470.58      , 15452.62666667, 15465.59      , 15467.01333333,\n",
       "       15525.22      , 15547.03666667, 15560.52333333, 15571.8       ,\n",
       "       15588.63333333, 15598.51666667, 15637.91333333, 15668.38      ,\n",
       "       15696.81      , 15733.86666667, 15732.76      , 15751.88333333,\n",
       "       15783.26666667, 15813.87333333, 15844.99666667, 15872.55      ,\n",
       "       15926.72333333, 15954.96333333, 16005.07333333, 16027.32666667,\n",
       "       16054.95666667, 16104.68666667, 16109.99333333, 16131.24333333,\n",
       "       16142.58666667]), '50pM': array([25722.34666667, 14807.07333333, 23643.21      , 22757.20666667,\n",
       "       21584.03333333, 19079.97      , 17921.25      , 16868.19      ,\n",
       "       15979.91333333, 15225.80333333, 14651.73333333, 14201.49666667,\n",
       "       13855.94666667, 13625.92666667, 13478.25666667, 13349.74666667,\n",
       "       13272.23666667, 13235.31      , 13228.02333333, 13224.21666667,\n",
       "       13202.37666667, 13224.08      , 13239.33333333, 13236.00333333,\n",
       "       13253.71333333, 13292.74      , 13304.74      , 13311.95333333,\n",
       "       13344.47      , 13336.46      , 13359.84      , 13384.26333333,\n",
       "       13384.05      , 13435.09      , 13440.54      , 13470.77333333,\n",
       "       13515.66333333, 13528.80333333, 13540.19      , 13598.1       ,\n",
       "       13639.41      , 13655.92333333, 13670.81333333, 13706.67666667,\n",
       "       13712.35666667, 13745.91333333, 13784.76      , 13806.82666667,\n",
       "       13856.55      , 13848.11333333, 13877.02666667, 13896.85666667,\n",
       "       13905.44333333, 13949.58666667, 13999.64333333, 14016.09333333,\n",
       "       14051.14333333, 14076.84666667, 14122.90666667, 14151.12      ,\n",
       "       14165.36      ]), '250pM': array([25364.01666667, 15195.07      , 22210.54      , 19728.        ,\n",
       "       17204.36      , 13922.90333333, 12978.19      , 12416.83333333,\n",
       "       12114.49      , 11969.74666667, 11904.13333333, 11855.19333333,\n",
       "       11788.52666667, 11766.25333333, 11788.97      , 11753.69333333,\n",
       "       11722.17      , 11688.26666667, 11694.60666667, 11664.38666667,\n",
       "       11636.50666667, 11631.21      , 11614.94666667, 11621.21666667,\n",
       "       11594.24333333, 11557.25333333, 11549.51666667, 11528.84      ,\n",
       "       11533.48      , 11532.58666667, 11512.52666667, 11492.07333333,\n",
       "       11484.97      , 11461.57666667, 11450.52      , 11479.88666667,\n",
       "       11483.97666667, 11458.9       , 11427.47666667, 11427.85      ,\n",
       "       11420.33      , 11420.40666667, 11420.97      , 11383.28      ,\n",
       "       11372.50333333, 11390.21      , 11393.69666667, 11395.52      ,\n",
       "       11386.11666667, 11378.55333333, 11379.37      , 11392.87      ,\n",
       "       11398.16666667, 11404.77666667, 11394.23      , 11387.80666667,\n",
       "       11383.18333333, 11377.90333333, 11387.23333333, 11386.61      ,\n",
       "       11364.79333333])}, dtype=object)"
      ]
     },
     "execution_count": 35,
     "metadata": {},
     "output_type": "execute_result"
    }
   ],
   "source": [
    "np.load('Arrays_for_max_ent/Means_Dictionary.npy', allow_pickle=True)"
   ]
  },
  {
   "cell_type": "code",
   "execution_count": 7,
   "metadata": {},
   "outputs": [],
   "source": [
    "# Making the constrained array \n",
    "# for all the concentrations except 0 pM\n",
    "# 0, 6, 15, 21, 51, 126 min\n",
    "times_constrained = np.array([0, 6, 12, 25, 45,60, 90]) #minutes \n",
    "idx_list = np.array(times_constrained/3, dtype=int)"
   ]
  },
  {
   "cell_type": "code",
   "execution_count": 22,
   "metadata": {},
   "outputs": [
    {
     "data": {
      "text/plain": [
       "array([ 0,  2,  5,  7, 17, 42])"
      ]
     },
     "execution_count": 22,
     "metadata": {},
     "output_type": "execute_result"
    }
   ],
   "source": [
    "# Now making the constrained dictionary "
   ]
  },
  {
   "cell_type": "code",
   "execution_count": 8,
   "metadata": {},
   "outputs": [],
   "source": [
    "Constraints_Dict = defaultdict(lambda:'NotPresent')\n",
    "Constraints_Dict['Mean']= {}\n",
    "Constraints_Dict['Var'] = {}\n",
    "Constraints_Dict['SecMoment'] = {}\n",
    "\n",
    "\n",
    "Constraints_Dict['Times(min)'] = times_constrained\n",
    "\n",
    "for i in range(len(Sheet_labels) -1): \n",
    "    conc = Sheet_labels[i+1]\n",
    "    if conc == '15pm':\n",
    "        con_key = '15pM'\n",
    "    else:\n",
    "        con_key = conc\n",
    "    Constraints_Dict['Mean'][con_key] = Means_dict[conc][idx_list]\n",
    "    Constraints_Dict['SecMoment'][con_key] = SecondMoment_dict[conc][idx_list]\n",
    "    Constraints_Dict['Var'][con_key] = Var_dict[conc][idx_list]"
   ]
  },
  {
   "cell_type": "code",
   "execution_count": 6,
   "metadata": {},
   "outputs": [
    {
     "data": {
      "text/plain": [
       "defaultdict(<function __main__.<lambda>()>,\n",
       "            {'Mean': {'10pM': array([26629.13953488, 25580.74086379, 25612.27906977, 24624.97009967,\n",
       "                     23366.93023256, 22810.94352159, 22608.14950166]),\n",
       "              '15pM': array([26377.93333333, 25770.17333333, 25070.37      , 23045.02666667,\n",
       "                     21393.71      , 20648.89666667, 20483.22      ]),\n",
       "              '20pM': array([26263.96      , 24584.26      , 24122.95666667, 21570.86666667,\n",
       "                     19154.94666667, 18550.65333333, 18433.57666667]),\n",
       "              '25pM': array([25028.07      , 24102.68333333, 23689.69666667, 20595.28333333,\n",
       "                     17104.38      , 16043.79666667, 15474.88666667]),\n",
       "              '50pM': array([25722.34666667, 23643.21      , 21584.03333333, 15979.91333333,\n",
       "                     13349.74666667, 13202.37666667, 13359.84      ]),\n",
       "              '250pM': array([25364.01666667, 22210.54      , 17204.36      , 12114.49      ,\n",
       "                     11753.69333333, 11636.50666667, 11512.52666667])},\n",
       "             'Var': {'10pM': array([10936943.46890211,  9731031.79331354, 10743994.04836591,\n",
       "                     11090930.00242823, 12158826.08483349, 12996413.8340195 ,\n",
       "                     12756830.33313097]),\n",
       "              '15pM': array([11261469.79555554, 11035891.85662222, 10922075.33976667,\n",
       "                     11147136.10595555, 12958637.65256667, 13648168.95932223,\n",
       "                     13788473.77826667]),\n",
       "              '20pM': array([10469113.53173334,  8924880.7324    ,  9710807.78145555,\n",
       "                     10614110.74222222, 12105554.91715555, 12612240.86648889,\n",
       "                     12968604.37745555]),\n",
       "              '25pM': array([10211593.0851    ,  9384701.76972222,  9490290.69132222,\n",
       "                      9409456.18305555, 10998435.08893334, 10923090.08865556,\n",
       "                     10727017.72715556]),\n",
       "              '50pM': array([14496433.11982222, 12176893.69256666, 11379817.06555556,\n",
       "                      9359200.75915556,  7301995.46248888,  7197429.95478888,\n",
       "                      7714891.7144    ]),\n",
       "              '250pM': array([10241461.06305556,  8140848.26840001,  5971277.41706666,\n",
       "                      4210892.00323333,  4360491.52595556,  4382186.22995556,\n",
       "                      4442570.47595556])},\n",
       "             'SecMoment': {'10pM': array([7.20048016e+08, 6.64105335e+08, 6.66732833e+08, 6.17480082e+08,\n",
       "                     5.58172255e+08, 5.33335558e+08, 5.23885254e+08]),\n",
       "              '15pM': array([7.07056837e+08, 6.75137725e+08, 6.39445527e+08, 5.42220390e+08,\n",
       "                     4.70649465e+08, 4.40025103e+08, 4.33350775e+08]),\n",
       "              '20pM': array([7.00264708e+08, 6.13310720e+08, 5.91627846e+08, 4.75916399e+08,\n",
       "                     3.79017537e+08, 3.56738980e+08, 3.52765353e+08]),\n",
       "              '25pM': array([6.36615881e+08, 5.90324046e+08, 5.70692019e+08, 4.33575152e+08,\n",
       "                     3.03558250e+08, 2.68326502e+08, 2.50199135e+08]),\n",
       "              '50pM': array([6.76135551e+08, 5.71178273e+08, 4.77250312e+08, 2.64716831e+08,\n",
       "                     1.85517732e+08, 1.81500180e+08, 1.86200217e+08]),\n",
       "              '250pM': array([6.53574803e+08, 5.01448935e+08, 3.01961280e+08, 1.50971760e+08,\n",
       "                     1.42509798e+08, 1.39790474e+08, 1.36980841e+08])},\n",
       "             'Times(min)': array([ 0,  6, 12, 25, 45, 60, 90])})"
      ]
     },
     "execution_count": 6,
     "metadata": {},
     "output_type": "execute_result"
    }
   ],
   "source": [
    "Constraints_Dict"
   ]
  },
  {
   "cell_type": "code",
   "execution_count": 9,
   "metadata": {
    "scrolled": true
   },
   "outputs": [
    {
     "data": {
      "text/plain": [
       "array([ 0,  6, 12, 25, 45, 60, 90])"
      ]
     },
     "execution_count": 9,
     "metadata": {},
     "output_type": "execute_result"
    }
   ],
   "source": [
    "times_constrained"
   ]
  },
  {
   "cell_type": "code",
   "execution_count": 20,
   "metadata": {},
   "outputs": [
    {
     "data": {
      "text/plain": [
       "0.01870914785101721"
      ]
     },
     "execution_count": 20,
     "metadata": {},
     "output_type": "execute_result"
    }
   ],
   "source": [
    "n_foxO = 710*2/3 \n",
    "au_foxO = 25299.566666666666\n",
    "# scale factor \n",
    "sc = n_foxO/au_foxO\n",
    "sc"
   ]
  },
  {
   "cell_type": "code",
   "execution_count": 22,
   "metadata": {},
   "outputs": [],
   "source": [
    "LigandCon = [10,15,20,25,50,250]\n",
    "nTcon = len(times_constrained)\n",
    "nLcon = len(LigandCon)\n",
    "nCons = nTcon*nLcon*2\n",
    "\n",
    "Cons_means = []\n",
    "Cons_sm    = []\n",
    "Cons_names = []\n",
    "# store means first \n",
    "\n",
    "for ligand in LigandCon: \n",
    "    key = f'{ligand}pM'\n",
    "    ii = 0\n",
    "    for timecon in times_constrained: \n",
    "        timestring = f'{timecon}min'\n",
    "        title = f'{key}_{timestring}'\n",
    "        Cons_names.append(title)\n",
    "        Cons_means.append(Constraints_Dict['Mean'][key][ii])\n",
    "        Cons_sm.append(Constraints_Dict['SecMoment'][key][ii])\n",
    "        ii+=1 \n",
    "        \n",
    "\n",
    "# for key in Constraints_Dict['Mean']: \n",
    "#     Cons_Arr[ii:(ii+6)] = Constraints_Dict['Mean'][key]\n",
    "#     ii+=6\n",
    "Cons_means = np.asarray(Cons_means)*sc\n",
    "Cons_sm = np.asarray(Cons_sm)*(sc**2)"
   ]
  },
  {
   "cell_type": "code",
   "execution_count": 23,
   "metadata": {
    "collapsed": true,
    "jupyter": {
     "outputs_hidden": true
    }
   },
   "outputs": [
    {
     "data": {
      "text/plain": [
       "{'labels': ['mean_10pM_0min',\n",
       "  'mean_10pM_6min',\n",
       "  'mean_10pM_12min',\n",
       "  'mean_10pM_25min',\n",
       "  'mean_10pM_45min',\n",
       "  'mean_10pM_60min',\n",
       "  'mean_10pM_90min',\n",
       "  'mean_15pM_0min',\n",
       "  'mean_15pM_6min',\n",
       "  'mean_15pM_12min',\n",
       "  'mean_15pM_25min',\n",
       "  'mean_15pM_45min',\n",
       "  'mean_15pM_60min',\n",
       "  'mean_15pM_90min',\n",
       "  'mean_20pM_0min',\n",
       "  'mean_20pM_6min',\n",
       "  'mean_20pM_12min',\n",
       "  'mean_20pM_25min',\n",
       "  'mean_20pM_45min',\n",
       "  'mean_20pM_60min',\n",
       "  'mean_20pM_90min',\n",
       "  'mean_25pM_0min',\n",
       "  'mean_25pM_6min',\n",
       "  'mean_25pM_12min',\n",
       "  'mean_25pM_25min',\n",
       "  'mean_25pM_45min',\n",
       "  'mean_25pM_60min',\n",
       "  'mean_25pM_90min',\n",
       "  'mean_50pM_0min',\n",
       "  'mean_50pM_6min',\n",
       "  'mean_50pM_12min',\n",
       "  'mean_50pM_25min',\n",
       "  'mean_50pM_45min',\n",
       "  'mean_50pM_60min',\n",
       "  'mean_50pM_90min',\n",
       "  'mean_250pM_0min',\n",
       "  'mean_250pM_6min',\n",
       "  'mean_250pM_12min',\n",
       "  'mean_250pM_25min',\n",
       "  'mean_250pM_45min',\n",
       "  'mean_250pM_60min',\n",
       "  'mean_250pM_90min',\n",
       "  'sm_10pM_0min',\n",
       "  'sm_10pM_6min',\n",
       "  'sm_10pM_12min',\n",
       "  'sm_10pM_25min',\n",
       "  'sm_10pM_45min',\n",
       "  'sm_10pM_60min',\n",
       "  'sm_10pM_90min',\n",
       "  'sm_15pM_0min',\n",
       "  'sm_15pM_6min',\n",
       "  'sm_15pM_12min',\n",
       "  'sm_15pM_25min',\n",
       "  'sm_15pM_45min',\n",
       "  'sm_15pM_60min',\n",
       "  'sm_15pM_90min',\n",
       "  'sm_20pM_0min',\n",
       "  'sm_20pM_6min',\n",
       "  'sm_20pM_12min',\n",
       "  'sm_20pM_25min',\n",
       "  'sm_20pM_45min',\n",
       "  'sm_20pM_60min',\n",
       "  'sm_20pM_90min',\n",
       "  'sm_25pM_0min',\n",
       "  'sm_25pM_6min',\n",
       "  'sm_25pM_12min',\n",
       "  'sm_25pM_25min',\n",
       "  'sm_25pM_45min',\n",
       "  'sm_25pM_60min',\n",
       "  'sm_25pM_90min',\n",
       "  'sm_50pM_0min',\n",
       "  'sm_50pM_6min',\n",
       "  'sm_50pM_12min',\n",
       "  'sm_50pM_25min',\n",
       "  'sm_50pM_45min',\n",
       "  'sm_50pM_60min',\n",
       "  'sm_50pM_90min',\n",
       "  'sm_250pM_0min',\n",
       "  'sm_250pM_6min',\n",
       "  'sm_250pM_12min',\n",
       "  'sm_250pM_25min',\n",
       "  'sm_250pM_45min',\n",
       "  'sm_250pM_60min',\n",
       "  'sm_250pM_90min'],\n",
       " 'array': array([4.98208509e+02, 4.78593863e+02, 4.79183916e+02, 4.60712206e+02,\n",
       "        4.37175353e+02, 4.26773315e+02, 4.22979212e+02, 4.93508655e+02,\n",
       "        4.82137983e+02, 4.69045259e+02, 4.31152811e+02, 4.00258083e+02,\n",
       "        3.86323261e+02, 3.83223591e+02, 4.91376311e+02, 4.59950555e+02,\n",
       "        4.51319963e+02, 4.03572534e+02, 3.58372729e+02, 3.47066916e+02,\n",
       "        3.44876511e+02, 4.68253862e+02, 4.50940666e+02, 4.43214037e+02,\n",
       "        3.85320201e+02, 3.20008374e+02, 3.00165764e+02, 2.89521943e+02,\n",
       "        4.81243187e+02, 4.42344312e+02, 4.03818871e+02, 2.98970561e+02,\n",
       "        2.49762384e+02, 2.47005217e+02, 2.49951222e+02, 4.74539138e+02,\n",
       "        4.15540277e+02, 3.21878915e+02, 2.26651785e+02, 2.19901586e+02,\n",
       "        2.17709124e+02, 2.15389564e+02, 2.52040001e+05, 2.32458260e+05,\n",
       "        2.33377969e+05, 2.16137920e+05, 1.95378270e+05, 1.86684626e+05,\n",
       "        1.83376715e+05, 2.47492669e+05, 2.36319952e+05, 2.23826533e+05,\n",
       "        1.89794603e+05, 1.64742474e+05, 1.54022961e+05, 1.51686731e+05,\n",
       "        2.45115206e+05, 2.14678509e+05, 2.07088804e+05, 1.66586071e+05,\n",
       "        1.32668347e+05, 1.24870135e+05, 1.23479237e+05, 2.22836066e+05,\n",
       "        2.06632432e+05, 1.99760590e+05, 1.51765270e+05, 1.06255166e+05,\n",
       "        9.39229192e+04, 8.75777570e+04, 2.36669223e+05, 1.99930795e+05,\n",
       "        1.67052983e+05, 9.26594182e+04, 6.49371822e+04, 6.35309096e+04,\n",
       "        6.51760739e+04, 2.28772235e+05, 1.75523281e+05, 1.05696175e+05,\n",
       "        5.28449793e+04, 4.98830202e+04, 4.89311689e+04, 4.79477069e+04])}"
      ]
     },
     "execution_count": 23,
     "metadata": {},
     "output_type": "execute_result"
    }
   ],
   "source": [
    "con_dic = { 'labels' : [], 'array' : []}\n",
    "i = 0 \n",
    "for tit in Cons_names: \n",
    "    con_dic['labels'].append(f'mean_{tit}')\n",
    "    con_dic['array'].append(Cons_means[i])\n",
    "    i+=1 \n",
    "\n",
    "    \n",
    "\n",
    "i = 0 \n",
    "for tit in Cons_names: \n",
    "    con_dic['labels'].append(f'sm_{tit}')\n",
    "    con_dic['array'].append(Cons_sm[i])\n",
    "    i+=1 \n",
    "\n",
    "\n",
    "# \n",
    "con_dic['array']= np.asarray(con_dic['array'])\n",
    "con_dic"
   ]
  },
  {
   "cell_type": "code",
   "execution_count": 24,
   "metadata": {},
   "outputs": [],
   "source": [
    "# Save that dictionary \n",
    "\n",
    "# dictionary = {'hello':'world'}\n",
    "np.save('Cons_1117.npy', con_dic) \n",
    "\n",
    "# # Load\n",
    "# read_dictionary = np.load('my_file.npy',allow_pickle='TRUE').item()\n",
    "# print(read_dictionary['hello']) # displays \"world\"\n",
    "\n",
    "\n"
   ]
  },
  {
   "cell_type": "code",
   "execution_count": 25,
   "metadata": {},
   "outputs": [],
   "source": [
    "read_dictionary = np.load('Cons_1117.npy',allow_pickle='TRUE').item()"
   ]
  },
  {
   "cell_type": "code",
   "execution_count": 27,
   "metadata": {},
   "outputs": [
    {
     "data": {
      "text/plain": [
       "array([4.98208509e+02, 4.78593863e+02, 4.79183916e+02, 4.60712206e+02,\n",
       "       4.37175353e+02, 4.26773315e+02, 4.22979212e+02, 4.93508655e+02,\n",
       "       4.82137983e+02, 4.69045259e+02, 4.31152811e+02, 4.00258083e+02,\n",
       "       3.86323261e+02, 3.83223591e+02, 4.91376311e+02, 4.59950555e+02,\n",
       "       4.51319963e+02, 4.03572534e+02, 3.58372729e+02, 3.47066916e+02,\n",
       "       3.44876511e+02, 4.68253862e+02, 4.50940666e+02, 4.43214037e+02,\n",
       "       3.85320201e+02, 3.20008374e+02, 3.00165764e+02, 2.89521943e+02,\n",
       "       4.81243187e+02, 4.42344312e+02, 4.03818871e+02, 2.98970561e+02,\n",
       "       2.49762384e+02, 2.47005217e+02, 2.49951222e+02, 4.74539138e+02,\n",
       "       4.15540277e+02, 3.21878915e+02, 2.26651785e+02, 2.19901586e+02,\n",
       "       2.17709124e+02, 2.15389564e+02, 2.52040001e+05, 2.32458260e+05,\n",
       "       2.33377969e+05, 2.16137920e+05, 1.95378270e+05, 1.86684626e+05,\n",
       "       1.83376715e+05, 2.47492669e+05, 2.36319952e+05, 2.23826533e+05,\n",
       "       1.89794603e+05, 1.64742474e+05, 1.54022961e+05, 1.51686731e+05,\n",
       "       2.45115206e+05, 2.14678509e+05, 2.07088804e+05, 1.66586071e+05,\n",
       "       1.32668347e+05, 1.24870135e+05, 1.23479237e+05, 2.22836066e+05,\n",
       "       2.06632432e+05, 1.99760590e+05, 1.51765270e+05, 1.06255166e+05,\n",
       "       9.39229192e+04, 8.75777570e+04, 2.36669223e+05, 1.99930795e+05,\n",
       "       1.67052983e+05, 9.26594182e+04, 6.49371822e+04, 6.35309096e+04,\n",
       "       6.51760739e+04, 2.28772235e+05, 1.75523281e+05, 1.05696175e+05,\n",
       "       5.28449793e+04, 4.98830202e+04, 4.89311689e+04, 4.79477069e+04])"
      ]
     },
     "execution_count": 27,
     "metadata": {},
     "output_type": "execute_result"
    }
   ],
   "source": [
    "read_dictionary['array']"
   ]
  },
  {
   "cell_type": "code",
   "execution_count": null,
   "metadata": {},
   "outputs": [],
   "source": []
  },
  {
   "cell_type": "code",
   "execution_count": null,
   "metadata": {},
   "outputs": [],
   "source": []
  },
  {
   "cell_type": "code",
   "execution_count": null,
   "metadata": {},
   "outputs": [],
   "source": []
  },
  {
   "cell_type": "code",
   "execution_count": null,
   "metadata": {},
   "outputs": [],
   "source": []
  }
 ],
 "metadata": {
  "kernelspec": {
   "display_name": "Python 3 (ipykernel)",
   "language": "python",
   "name": "python3"
  },
  "language_info": {
   "codemirror_mode": {
    "name": "ipython",
    "version": 3
   },
   "file_extension": ".py",
   "mimetype": "text/x-python",
   "name": "python",
   "nbconvert_exporter": "python",
   "pygments_lexer": "ipython3",
   "version": "3.9.7"
  }
 },
 "nbformat": 4,
 "nbformat_minor": 4
}
