{
 "cells": [
  {
   "cell_type": "code",
   "execution_count": 1,
   "id": "04300144",
   "metadata": {},
   "outputs": [
    {
     "name": "stdout",
     "output_type": "stream",
     "text": [
      "Last edited: 2022-02-03 10:41:30.994776\n"
     ]
    }
   ],
   "source": [
    "import datetime\n",
    "import numpy as np\n",
    "import os\n",
    "import pandas as pd\n",
    "from collections import defaultdict\n",
    "import matplotlib.pyplot as plt\n",
    "#Created a 01/27/2022 \n",
    "print(f'Last edited: {datetime.datetime.now()}')"
   ]
  },
  {
   "cell_type": "code",
   "execution_count": 2,
   "id": "c242baa7",
   "metadata": {},
   "outputs": [
    {
     "name": "stdout",
     "output_type": "stream",
     "text": [
      "10pM\n",
      "Data shape = (61, 301)\n",
      "15pM\n",
      "Data shape = (61, 300)\n",
      "20pM\n",
      "Data shape = (61, 300)\n",
      "50pM\n",
      "Data shape = (61, 300)\n"
     ]
    }
   ],
   "source": [
    "### load the data \n",
    "DataDict = np.load('ProDataDict.npy', allow_pickle=True)\n",
    "DataDict = DataDict.item()\n",
    "for key in DataDict:\n",
    "    print(key)\n",
    "    \n",
    "    print(f'Data shape = {DataDict[key].shape}')"
   ]
  },
  {
   "cell_type": "code",
   "execution_count": null,
   "id": "7c39f3ed",
   "metadata": {},
   "outputs": [],
   "source": [
    "# following block saves means, and <lnx> to be used as constraints"
   ]
  },
  {
   "cell_type": "code",
   "execution_count": 29,
   "id": "a52350e0",
   "metadata": {},
   "outputs": [],
   "source": [
    "const_dict = defaultdict(lambda:'not present')\n",
    "time_values = [0,6,12,24,45,60,90]\n",
    "times_constrained = np.array(time_values) #minutes \n",
    "idx_list = np.array(times_constrained/3, dtype=int)\n",
    "muFull = np.zeros(len(time_values)*len(DataDict))\n",
    "lnFull = np.zeros(len(time_values)*len(DataDict))\n",
    "i=0\n",
    "\n",
    "for key in DataDict:\n",
    "    # relevant data\n",
    "    drel  = DataDict[key][idx_list,:]\n",
    "    muarr = np.mean(drel, axis = 1)\n",
    "    muFull[i:i+len(muarr)] = muarr\n",
    "    drel  = np.log(DataDict[key][idx_list,:])\n",
    "    lnarr = np.mean(drel, axis = 1)\n",
    "    lnFull[i:i+len(muarr)] = lnarr\n",
    "\n",
    "    i+= len(muarr)\n",
    "\n",
    "        \n"
   ]
  },
  {
   "cell_type": "code",
   "execution_count": 46,
   "id": "1d3df863",
   "metadata": {},
   "outputs": [],
   "source": [
    "# following block saves fraction of cells in the left and the right tail of the distribution\n"
   ]
  },
  {
   "cell_type": "code",
   "execution_count": 26,
   "id": "7f0cb425",
   "metadata": {
    "scrolled": true
   },
   "outputs": [],
   "source": [
    "farr = np.ones(len(times_constrained)*len(DataDict)*2)*.25\n",
    "# print(farr.shape)\n",
    "consarr = np.concatenate((muFull, lnFull,farr ), axis =0)"
   ]
  },
  {
   "cell_type": "code",
   "execution_count": null,
   "id": "5aba874d",
   "metadata": {},
   "outputs": [],
   "source": [
    "# following block saves labels array "
   ]
  },
  {
   "cell_type": "code",
   "execution_count": 67,
   "id": "6e7e9ea5",
   "metadata": {},
   "outputs": [],
   "source": [
    "## make the labels of the cons array \n",
    "mulabels = []\n",
    "lnlabels = []\n",
    "flabels = []\n",
    "for key in DataDict:\n",
    "    for t in time_values:\n",
    "        mulabels.append(r'mu , ' + f'{key}, {t} min' )\n",
    "        lnlabels.append('<ln(x)> , ' + f'{key}, {t} min')\n",
    "        flabels.append('fl , ' + f'{key}, {t} min')\n",
    "#         flabels.append('fr , ' + f'{key}, {t} min')\n",
    "\n",
    "for key in DataDict:\n",
    "    for t in time_values:\n",
    "        flabels.append('fr , ' + f'{key}, {t} min')\n",
    "        \n",
    "# print(mulabels, '\\n',lnlabels , '\\n',flabels  )\n",
    "labels = mulabels + lnlabels + flabels"
   ]
  },
  {
   "cell_type": "code",
   "execution_count": 68,
   "id": "3e96d9e0",
   "metadata": {
    "scrolled": true
   },
   "outputs": [
    {
     "data": {
      "text/plain": [
       "['fl , 10pM, 0 min',\n",
       " 'fl , 10pM, 6 min',\n",
       " 'fl , 10pM, 12 min',\n",
       " 'fl , 10pM, 24 min',\n",
       " 'fl , 10pM, 45 min',\n",
       " 'fl , 10pM, 60 min',\n",
       " 'fl , 10pM, 90 min',\n",
       " 'fl , 15pM, 0 min',\n",
       " 'fl , 15pM, 6 min',\n",
       " 'fl , 15pM, 12 min',\n",
       " 'fl , 15pM, 24 min',\n",
       " 'fl , 15pM, 45 min',\n",
       " 'fl , 15pM, 60 min',\n",
       " 'fl , 15pM, 90 min',\n",
       " 'fl , 20pM, 0 min',\n",
       " 'fl , 20pM, 6 min',\n",
       " 'fl , 20pM, 12 min',\n",
       " 'fl , 20pM, 24 min',\n",
       " 'fl , 20pM, 45 min',\n",
       " 'fl , 20pM, 60 min',\n",
       " 'fl , 20pM, 90 min',\n",
       " 'fl , 50pM, 0 min',\n",
       " 'fl , 50pM, 6 min',\n",
       " 'fl , 50pM, 12 min',\n",
       " 'fl , 50pM, 24 min',\n",
       " 'fl , 50pM, 45 min',\n",
       " 'fl , 50pM, 60 min',\n",
       " 'fl , 50pM, 90 min',\n",
       " 'fr , 10pM, 0 min',\n",
       " 'fr , 10pM, 6 min',\n",
       " 'fr , 10pM, 12 min',\n",
       " 'fr , 10pM, 24 min',\n",
       " 'fr , 10pM, 45 min',\n",
       " 'fr , 10pM, 60 min',\n",
       " 'fr , 10pM, 90 min',\n",
       " 'fr , 15pM, 0 min',\n",
       " 'fr , 15pM, 6 min',\n",
       " 'fr , 15pM, 12 min',\n",
       " 'fr , 15pM, 24 min',\n",
       " 'fr , 15pM, 45 min',\n",
       " 'fr , 15pM, 60 min',\n",
       " 'fr , 15pM, 90 min',\n",
       " 'fr , 20pM, 0 min',\n",
       " 'fr , 20pM, 6 min',\n",
       " 'fr , 20pM, 12 min',\n",
       " 'fr , 20pM, 24 min',\n",
       " 'fr , 20pM, 45 min',\n",
       " 'fr , 20pM, 60 min',\n",
       " 'fr , 20pM, 90 min',\n",
       " 'fr , 50pM, 0 min',\n",
       " 'fr , 50pM, 6 min',\n",
       " 'fr , 50pM, 12 min',\n",
       " 'fr , 50pM, 24 min',\n",
       " 'fr , 50pM, 45 min',\n",
       " 'fr , 50pM, 60 min',\n",
       " 'fr , 50pM, 90 min']"
      ]
     },
     "execution_count": 68,
     "metadata": {},
     "output_type": "execute_result"
    }
   ],
   "source": [
    "flabels"
   ]
  },
  {
   "cell_type": "code",
   "execution_count": 69,
   "id": "81bc0147",
   "metadata": {},
   "outputs": [],
   "source": [
    "## save the constraints dictionary \n",
    "consdict = {'array': consarr, 'labels': labels}\n",
    "np.save('Arrays_for_max_ent/cons_dict_mu_lnx_fraclr_020322.npy', consdict,allow_pickle='TRUE')\n",
    "# real_cons = read_dictionary['array']"
   ]
  },
  {
   "cell_type": "code",
   "execution_count": 51,
   "id": "d3926a12",
   "metadata": {},
   "outputs": [
    {
     "data": {
      "text/plain": [
       "112"
      ]
     },
     "execution_count": 51,
     "metadata": {},
     "output_type": "execute_result"
    }
   ],
   "source": [
    "d = np.load('Arrays_for_max_ent/cons_dict_mu_lnx_fraclr_020322.npy', allow_pickle=True ).item()\n",
    "len(d['array'])"
   ]
  },
  {
   "cell_type": "code",
   "execution_count": 52,
   "id": "6a57e2ba",
   "metadata": {},
   "outputs": [
    {
     "data": {
      "text/plain": [
       "112"
      ]
     },
     "execution_count": 52,
     "metadata": {},
     "output_type": "execute_result"
    }
   ],
   "source": [
    "28*2 + 28*2"
   ]
  },
  {
   "cell_type": "code",
   "execution_count": 73,
   "id": "2d3cd981",
   "metadata": {},
   "outputs": [
    {
     "data": {
      "text/plain": [
       "defaultdict(<function __main__.<lambda>()>,\n",
       "            {'10pM_x25': array([420.74037322, 406.97179005, 404.67064872, 386.71511377,\n",
       "                    357.66530152, 347.3870103 , 346.36910602]),\n",
       "             '10pM_x75': array([519.9828141 , 492.68499047, 494.79555799, 471.86109448,\n",
       "                    454.05063572, 442.91101087, 442.18722051]),\n",
       "             '15pM_x25': array([426.98937396, 414.22918139, 403.28844357, 362.1294209 ,\n",
       "                    322.22365368, 301.3992775 , 297.89190894]),\n",
       "             '15pM_x75': array([521.57326038, 510.15233656, 494.09086526, 456.02003879,\n",
       "                    426.00910426, 412.35375495, 413.54695713]),\n",
       "             '20pM_x25': array([420.73364085, 391.36126366, 383.54023424, 330.29628056,\n",
       "                    279.58182666, 266.99264032, 263.28569446]),\n",
       "             '20pM_x75': array([517.04544656, 483.43467766, 470.7292563 , 422.59028   ,\n",
       "                    377.31168165, 363.52503148, 360.9157608 ]),\n",
       "             '50pM_x25': array([417.15413435, 381.71040546, 338.20705474, 227.71067472,\n",
       "                    178.13591228, 174.50144449, 179.6756887 ]),\n",
       "             '50pM_x75': array([527.47836768, 481.53582215, 433.31089256, 319.58976346,\n",
       "                    251.12868553, 247.35241282, 254.56444635])})"
      ]
     },
     "execution_count": 73,
     "metadata": {},
     "output_type": "execute_result"
    }
   ],
   "source": [
    "# The constraints of choice will be for each condition in \n",
    "# time_values = [0,6,12,24,45,60,90] \n",
    "# and ligand concentration [10,15,20,50]pM \n",
    "# save means and lnx and the number \n",
    "# save the x limits at which those numbers happen of cells in 25 percentile and 75 percentile \n",
    "time_values = [0,6,12,24,45,60,90]\n",
    "times_constrained = np.array(time_values) #minutes \n",
    "idx_list = np.array(times_constrained/3, dtype=int)\n",
    "XLimDict = defaultdict(lambda:\"not present\")\n",
    "## do it with one key first \n",
    "for key in DataDict:\n",
    "    data = DataDict[key]\n",
    "#     data.shape\n",
    "    ChosenData = data[idx_list]\n",
    "    x25, x75 = np.percentile(ChosenData, [25,75], axis = 1)\n",
    "    if key == '10pM': \n",
    "        conc25 = x25\n",
    "        conc75 = x75\n",
    "    else:\n",
    "        conc25 = np.concatenate((conc25, x25), axis = 0)\n",
    "        conc75 = np.concatenate((conc75, x75), axis = 0)\n",
    "\n",
    "    \n",
    "    XLimDict[f'{key}_x25'] = x25\n",
    "    XLimDict[f'{key}_x75'] = x75\n",
    "#     print(x25, x75)\n",
    "#     np.concatenate((x25,x75), axis = 0)\n",
    "XLimDict"
   ]
  },
  {
   "cell_type": "code",
   "execution_count": 77,
   "id": "cf05da7f",
   "metadata": {},
   "outputs": [
    {
     "data": {
      "text/plain": [
       "(28,)"
      ]
     },
     "execution_count": 77,
     "metadata": {},
     "output_type": "execute_result"
    }
   ],
   "source": [
    "conc25.shape\n"
   ]
  },
  {
   "cell_type": "code",
   "execution_count": 76,
   "id": "6a4c4576",
   "metadata": {
    "collapsed": true,
    "jupyter": {
     "outputs_hidden": true
    }
   },
   "outputs": [
    {
     "data": {
      "text/plain": [
       "['10pM, 0 min',\n",
       " '10pM, 6 min',\n",
       " '10pM, 12 min',\n",
       " '10pM, 24 min',\n",
       " '10pM, 45 min',\n",
       " '10pM, 60 min',\n",
       " '10pM, 90 min',\n",
       " '15pM, 0 min',\n",
       " '15pM, 6 min',\n",
       " '15pM, 12 min',\n",
       " '15pM, 24 min',\n",
       " '15pM, 45 min',\n",
       " '15pM, 60 min',\n",
       " '15pM, 90 min',\n",
       " '20pM, 0 min',\n",
       " '20pM, 6 min',\n",
       " '20pM, 12 min',\n",
       " '20pM, 24 min',\n",
       " '20pM, 45 min',\n",
       " '20pM, 60 min',\n",
       " '20pM, 90 min',\n",
       " '50pM, 0 min',\n",
       " '50pM, 6 min',\n",
       " '50pM, 12 min',\n",
       " '50pM, 24 min',\n",
       " '50pM, 45 min',\n",
       " '50pM, 60 min',\n",
       " '50pM, 90 min']"
      ]
     },
     "execution_count": 76,
     "metadata": {},
     "output_type": "execute_result"
    }
   ],
   "source": [
    "labelsxlim = []\n",
    "for key in DataDict:\n",
    "    for t in time_values:\n",
    "        labelsxlim.append(f'{key}, {t} min')\n",
    "labelsxlim"
   ]
  },
  {
   "cell_type": "code",
   "execution_count": 78,
   "id": "9a824965",
   "metadata": {},
   "outputs": [],
   "source": [
    "XLimitsDict_new = {'labels': labelsxlim, 'x25': conc25, 'x75': conc75 } \n",
    "np.save('Arrays_for_max_ent/XLimDict_25_75_020322.npy' ,XLimitsDict_new)"
   ]
  },
  {
   "cell_type": "code",
   "execution_count": 79,
   "id": "3e3d769c",
   "metadata": {
    "scrolled": true
   },
   "outputs": [
    {
     "data": {
      "text/plain": [
       "{'labels': ['10pM, 0 min',\n",
       "  '10pM, 6 min',\n",
       "  '10pM, 12 min',\n",
       "  '10pM, 24 min',\n",
       "  '10pM, 45 min',\n",
       "  '10pM, 60 min',\n",
       "  '10pM, 90 min',\n",
       "  '15pM, 0 min',\n",
       "  '15pM, 6 min',\n",
       "  '15pM, 12 min',\n",
       "  '15pM, 24 min',\n",
       "  '15pM, 45 min',\n",
       "  '15pM, 60 min',\n",
       "  '15pM, 90 min',\n",
       "  '20pM, 0 min',\n",
       "  '20pM, 6 min',\n",
       "  '20pM, 12 min',\n",
       "  '20pM, 24 min',\n",
       "  '20pM, 45 min',\n",
       "  '20pM, 60 min',\n",
       "  '20pM, 90 min',\n",
       "  '50pM, 0 min',\n",
       "  '50pM, 6 min',\n",
       "  '50pM, 12 min',\n",
       "  '50pM, 24 min',\n",
       "  '50pM, 45 min',\n",
       "  '50pM, 60 min',\n",
       "  '50pM, 90 min'],\n",
       " 'x25': array([420.74037322, 406.97179005, 404.67064872, 386.71511377,\n",
       "        357.66530152, 347.3870103 , 346.36910602, 426.98937396,\n",
       "        414.22918139, 403.28844357, 362.1294209 , 322.22365368,\n",
       "        301.3992775 , 297.89190894, 420.73364085, 391.36126366,\n",
       "        383.54023424, 330.29628056, 279.58182666, 266.99264032,\n",
       "        263.28569446, 417.15413435, 381.71040546, 338.20705474,\n",
       "        227.71067472, 178.13591228, 174.50144449, 179.6756887 ]),\n",
       " 'x75': array([519.9828141 , 492.68499047, 494.79555799, 471.86109448,\n",
       "        454.05063572, 442.91101087, 442.18722051, 521.57326038,\n",
       "        510.15233656, 494.09086526, 456.02003879, 426.00910426,\n",
       "        412.35375495, 413.54695713, 517.04544656, 483.43467766,\n",
       "        470.7292563 , 422.59028   , 377.31168165, 363.52503148,\n",
       "        360.9157608 , 527.47836768, 481.53582215, 433.31089256,\n",
       "        319.58976346, 251.12868553, 247.35241282, 254.56444635])}"
      ]
     },
     "execution_count": 79,
     "metadata": {},
     "output_type": "execute_result"
    }
   ],
   "source": [
    "XLimitsDict_new"
   ]
  },
  {
   "cell_type": "code",
   "execution_count": null,
   "id": "6843466f",
   "metadata": {},
   "outputs": [],
   "source": []
  },
  {
   "cell_type": "code",
   "execution_count": 70,
   "id": "94e6fa6c",
   "metadata": {},
   "outputs": [
    {
     "data": {
      "text/plain": [
       "{'10pM_x25': array([420.74037322, 406.97179005, 404.67064872, 386.71511377,\n",
       "        357.66530152, 347.3870103 , 346.36910602]),\n",
       " '10pM_x75': array([519.9828141 , 492.68499047, 494.79555799, 471.86109448,\n",
       "        454.05063572, 442.91101087, 442.18722051]),\n",
       " '15pM_x25': array([426.98937396, 414.22918139, 403.28844357, 362.1294209 ,\n",
       "        322.22365368, 301.3992775 , 297.89190894]),\n",
       " '15pM_x75': array([521.57326038, 510.15233656, 494.09086526, 456.02003879,\n",
       "        426.00910426, 412.35375495, 413.54695713]),\n",
       " '20pM_x25': array([420.73364085, 391.36126366, 383.54023424, 330.29628056,\n",
       "        279.58182666, 266.99264032, 263.28569446]),\n",
       " '20pM_x75': array([517.04544656, 483.43467766, 470.7292563 , 422.59028   ,\n",
       "        377.31168165, 363.52503148, 360.9157608 ]),\n",
       " '50pM_x25': array([417.15413435, 381.71040546, 338.20705474, 227.71067472,\n",
       "        178.13591228, 174.50144449, 179.6756887 ]),\n",
       " '50pM_x75': array([527.47836768, 481.53582215, 433.31089256, 319.58976346,\n",
       "        251.12868553, 247.35241282, 254.56444635])}"
      ]
     },
     "execution_count": 70,
     "metadata": {},
     "output_type": "execute_result"
    }
   ],
   "source": [
    "conclist = ['10pM' , '15pM' , '20pM' , '25pM']\n",
    "# print(XLimDict)\n",
    "i = 0 \n",
    "x25list =\n",
    "x72list = \n",
    "for conc in conclist:\n",
    "#     if i==0:\n",
    "        concarr_25 = XLimDict[key]\n",
    "#     else:\n",
    "        concarr_25 = np.concatenate(concarr,XLimDict[key] )\n",
    "    i+=1 \n",
    "\n",
    "    \n",
    "print(concarr)"
   ]
  },
  {
   "cell_type": "code",
   "execution_count": 65,
   "id": "fc87ea63",
   "metadata": {
    "collapsed": true,
    "jupyter": {
     "outputs_hidden": true
    }
   },
   "outputs": [
    {
     "name": "stdout",
     "output_type": "stream",
     "text": [
      "0.24916943521594684\n",
      "0.24916943521594684\n",
      "0.24916943521594684\n",
      "0.24916943521594684\n",
      "0.24916943521594684\n",
      "0.24916943521594684\n",
      "0.24916943521594684\n",
      "0.25\n",
      "0.25\n",
      "0.25\n",
      "0.25\n",
      "0.25\n",
      "0.25\n",
      "0.25\n",
      "0.25\n",
      "0.25\n",
      "0.25\n",
      "0.25\n",
      "0.25\n",
      "0.25\n",
      "0.25\n",
      "0.25\n",
      "0.25\n",
      "0.25\n",
      "0.25\n",
      "0.25\n",
      "0.25\n",
      "0.25\n"
     ]
    }
   ],
   "source": [
    "## check that actually those lims are correct \n",
    "# xlimdict2 \n",
    "for key in DataDict: \n",
    "    data = DataDict[key]\n",
    "    ChosenData = data[idx_list]\n",
    "    for ti in range(len(time_values)):\n",
    "        x25 = XLimDict[f'{key}_x25'][ti]\n",
    "        x75 = XLimDict[f'{key}_x75'][ti]\n",
    "        d = ChosenData[ti,:]\n",
    "        print(len(np.where(d>x75)[0])/len(d))\n",
    "    \n",
    "    \n",
    "    # that works so let's save !!! "
   ]
  },
  {
   "cell_type": "code",
   "execution_count": 66,
   "id": "4f05ade8",
   "metadata": {},
   "outputs": [],
   "source": [
    "XLimDict = dict(XLimDict)\n",
    "np.save('Arrays_for_max_ent/XLimDict_25_75_020322.npy' ,XLimDict)"
   ]
  },
  {
   "cell_type": "code",
   "execution_count": null,
   "id": "1ac1067f",
   "metadata": {},
   "outputs": [],
   "source": []
  }
 ],
 "metadata": {
  "kernelspec": {
   "display_name": "Python 3 (ipykernel)",
   "language": "python",
   "name": "python3"
  },
  "language_info": {
   "codemirror_mode": {
    "name": "ipython",
    "version": 3
   },
   "file_extension": ".py",
   "mimetype": "text/x-python",
   "name": "python",
   "nbconvert_exporter": "python",
   "pygments_lexer": "ipython3",
   "version": "3.9.7"
  }
 },
 "nbformat": 4,
 "nbformat_minor": 5
}
