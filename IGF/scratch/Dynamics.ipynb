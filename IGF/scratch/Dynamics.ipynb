{
 "cells": [
  {
   "cell_type": "code",
   "execution_count": 1,
   "id": "c8162128",
   "metadata": {},
   "outputs": [],
   "source": [
    "import csv\n",
    "import numpy as np \n",
    "import random\n",
    "import time\n",
    "# sve_ivp\n",
    "import os\n",
    "import pandas as pd\n",
    "import matplotlib.pyplot as plt\n",
    "from Update_LM_functions import calculate_constraints, update_lambda, openfile\n",
    "from PredictionFunctions import solve_Moments_fn, FoxOn_preds_fn, Moments_Preds_full_fn"
   ]
  },
  {
   "cell_type": "code",
   "execution_count": 2,
   "id": "8add5cda",
   "metadata": {},
   "outputs": [],
   "source": [
    "on_mac = True\n",
    "on_thinkpad = False \n",
    "on_hpg = False\n",
    "\n",
    "if on_mac == True: \n",
    "    data_path = \"/Volumes/hodaakl/\"\n",
    "if on_thinkpad== True: \n",
    "    data_path = \"//exasmb.rc.ufl.edu/blue/pdixit/hodaakl/\"\n",
    "if on_hpg == True: \n",
    "    data_path = \"/blue/pdixit/hodaakl/\"\n",
    "\n",
    "# specify the project you are working on     \n",
    "spec_folder = data_path + 'A5MCMC_IGF_FoxO/'\n",
    "folder_out = '0120_test_lnx/' #    Lambda = old_lambda.copy() + alpha_arr*(Error)/true_constraints\n",
    "\n",
    "#    Lambda = old_lambda.copy() + alpha_arr*(Error)/true_constraints\n",
    "output_dir = spec_folder + folder_out"
   ]
  },
  {
   "cell_type": "code",
   "execution_count": 3,
   "id": "e9e1c01a",
   "metadata": {},
   "outputs": [],
   "source": [
    "def Csv_to_Np(index = 0, dat = 'moments' , path = spec_folder + folder_out ): \n",
    "    if dat == 'moments':\n",
    "        fn = path + f'moments_{index}.csv'\n",
    "    if dat == 'lambdas':\n",
    "        fn = path + f'Lambdas.csv'\n",
    "    if dat == 'params': \n",
    "        fn = path + f'params_{index}.csv'\n",
    "    \n",
    "    df = pd.read_csv(fn, sep = ',', header = None) \n",
    "    \n",
    "    table = df.to_numpy()\n",
    "    return table\n",
    "    "
   ]
  },
  {
   "cell_type": "markdown",
   "id": "801e952c",
   "metadata": {},
   "source": [
    "### Plotting Max Ent Dynamics. \n",
    "\n",
    "I already have the parameters, I can put the parameters in and solve the differential equations as a function of time. For a specific ligand concentration every cell would have a different solution so I will take the mean of those cells. I will have a seperate plot for all the ligand concentrations but I can plot them all on the same plot. I can highlight the constraints that I am using for the max entropy too.  <br> \n",
    "Do the same for the actual data, have the actual data in solid lines and the real data in something else. \n"
   ]
  },
  {
   "cell_type": "code",
   "execution_count": null,
   "id": "bbfb1659",
   "metadata": {},
   "outputs": [],
   "source": []
  },
  {
   "cell_type": "code",
   "execution_count": 4,
   "id": "cac8d536",
   "metadata": {},
   "outputs": [],
   "source": [
    "t_arr = np.array([ 0,  6, 12, 24, 45, 60, 90])*60 #make it in seconds \n",
    "L_arr  = np.array([10,15,20,50])*10**-3 #make it in nM\n",
    "nL = len(L_arr)\n",
    "nT = len(t_arr)\n",
    "# \n",
    "# read_dictionary = np.load(spec_folder + 'Arrays_for_max_ent/Cons_1208_Zero2ndMoments.npy',allow_pickle='TRUE').item()\n",
    "# real_cons = read_dictionary['array']\n",
    "# nCons = len(real_cons)\n",
    "# read_dictionary\n",
    "# Conditions_list = read_dictionary['labels']"
   ]
  },
  {
   "cell_type": "code",
   "execution_count": 5,
   "id": "d0cdae39",
   "metadata": {},
   "outputs": [],
   "source": [
    "read_dictionary = np.load(spec_folder + 'Arrays_for_max_ent/MuLnCons_28Conds_0119.npy',allow_pickle='TRUE').item()\n",
    "\n",
    "real_cons = read_dictionary['array']\n",
    "nCons = len(real_cons)"
   ]
  },
  {
   "cell_type": "code",
   "execution_count": 6,
   "id": "8c70ef49",
   "metadata": {},
   "outputs": [
    {
     "name": "stdout",
     "output_type": "stream",
     "text": [
      "Best_iteration 37\n",
      "LatestIterI 38\n"
     ]
    }
   ],
   "source": [
    "#load latest iteration: \n",
    "lambda_fn = spec_folder + folder_out + 'Lambdas.csv'\n",
    "err_fn = spec_folder + folder_out +  'Errors.csv'\n",
    "df = pd.read_csv(err_fn, sep = ',', header = None) \n",
    "err_np = df.to_numpy()\n",
    "rc_m= np.tile(real_cons[:len(err_np[0,:])] , [err_np.shape[0],1])\n",
    "# print(rc_m.shape)\n",
    "mean_err = np.mean(abs(err_np), axis = 1)\n",
    "# mean_err.shape\n",
    "real_abs = abs(err_np/rc_m)\n",
    "mean_rel_abs = np.mean(real_abs, axis = 1)\n",
    "df_l = pd.read_csv(lambda_fn, sep = ',', header = None)\n",
    "lambda_np = df_l.to_numpy()\n",
    "lambda_np.shape\n",
    "LatestIterI = lambda_np.shape[0] -2\n",
    "Best_iteration = np.argmin(mean_rel_abs)\n",
    "# print(Best_iteration)\n",
    "print('Best_iteration', Best_iteration)\n",
    "print('LatestIterI', LatestIterI)"
   ]
  },
  {
   "cell_type": "code",
   "execution_count": 7,
   "id": "cc1beab0",
   "metadata": {
    "scrolled": true
   },
   "outputs": [
    {
     "data": {
      "text/plain": [
       "(40, 56)"
      ]
     },
     "execution_count": 7,
     "metadata": {},
     "output_type": "execute_result"
    }
   ],
   "source": [
    "lambda_np.shape"
   ]
  },
  {
   "cell_type": "code",
   "execution_count": 14,
   "id": "8b99ccf0",
   "metadata": {},
   "outputs": [],
   "source": [
    "# get the constraints\n",
    "# best_iter = 26\n",
    "mom_n= Csv_to_Np(index =Best_iteration, dat ='moments', path = output_dir)\n",
    "preds = calculate_constraints(mom_n)"
   ]
  },
  {
   "cell_type": "code",
   "execution_count": 15,
   "id": "d05e8eca",
   "metadata": {},
   "outputs": [
    {
     "data": {
      "text/plain": [
       "(1120, 56)"
      ]
     },
     "execution_count": 15,
     "metadata": {},
     "output_type": "execute_result"
    }
   ],
   "source": [
    "mom_n.shape"
   ]
  },
  {
   "cell_type": "code",
   "execution_count": 16,
   "id": "f3607f26",
   "metadata": {},
   "outputs": [],
   "source": [
    "from collections import defaultdict\n",
    "results_dict = defaultdict(lambda:'not present')\n"
   ]
  },
  {
   "cell_type": "code",
   "execution_count": 17,
   "id": "1eb0703c",
   "metadata": {},
   "outputs": [
    {
     "data": {
      "text/plain": [
       "Text(0.5, 1.0, 'Means')"
      ]
     },
     "execution_count": 17,
     "metadata": {},
     "output_type": "execute_result"
    },
    {
     "data": {
      "image/png": "[encoded data removed]",
      "text/plain": [
       "<Figure size 432x288 with 1 Axes>"
      ]
     },
     "metadata": {
      "needs_background": "light"
     },
     "output_type": "display_data"
    }
   ],
   "source": [
    "i = 0\n",
    "color_arr = ['b','r','g','y','purple','k']\n",
    "for li in range(nL):\n",
    "    labeldata = f'igf={L_arr[li]}pM, Data, means'\n",
    "    labelmodel = f'igf={L_arr[li]}pM, Model, means'\n",
    "    results_dict[labeldata] = real_cons[i:i+nT]\n",
    "    results_dict[labelmodel] = preds[i:i+nT]\n",
    "    plt.plot(t_arr,real_cons[i:i+nT], c = color_arr[li], label = f'igf={L_arr[li]}pM, Data')\n",
    "    plt.scatter(t_arr,real_cons[i:i+nT], c = color_arr[li])\n",
    "    plt.plot(t_arr,preds[i:i+nT], '--',c = color_arr[li],label = f'igf={L_arr[li]}pM, Preds')\n",
    "    i=i+nT\n",
    "plt.legend(bbox_to_anchor=(1.05, 1))\n",
    "plt.xlabel('time (seconds)')\n",
    "plt.ylabel('number')\n",
    "plt.title('Means')"
   ]
  },
  {
   "cell_type": "code",
   "execution_count": 18,
   "id": "d09f1bde",
   "metadata": {},
   "outputs": [
    {
     "data": {
      "text/plain": [
       "Text(0.5, 1.0, '<log(x)>')"
      ]
     },
     "execution_count": 18,
     "metadata": {},
     "output_type": "execute_result"
    },
    {
     "data": {
      "image/png": "[encoded data removed]",
      "text/plain": [
       "<Figure size 432x288 with 1 Axes>"
      ]
     },
     "metadata": {
      "needs_background": "light"
     },
     "output_type": "display_data"
    }
   ],
   "source": [
    "i = 0\n",
    "\n",
    "color_arr = ['b','r','g','y','purple','k']\n",
    "for li in range(nL):\n",
    "#     labeldata = f'igf={L_arr[li]}pM, Data, 2nd moment'\n",
    "#     labelmodel = f'igf={L_arr[li]}pM, Model, 2nd moment'\n",
    "    results_dict[labeldata] = real_cons[i+int(nCons/2):i+nT+int(nCons/2)]\n",
    "    results_dict[labelmodel] = preds[i+int(nCons/2):i+nT+int(nCons/2)]\n",
    "    plt.plot(t_arr,real_cons[i+int(nCons/2):i+nT+int(nCons/2)], c = color_arr[li], label = f'igf={L_arr[li]}pM, Data')\n",
    "    plt.scatter(t_arr,real_cons[i+int(nCons/2):i+nT+int(nCons/2)], c = color_arr[li])\n",
    "    plt.plot(t_arr,preds[i+int(nCons/2):i+nT+int(nCons/2)], '--',c = color_arr[li], label = f'igf={L_arr[li]}pM, Preds')\n",
    "    i=i+nT\n",
    "plt.legend(bbox_to_anchor=(1.05, 1))\n",
    "\n",
    "plt.xlabel('time (seconds)')\n",
    "plt.ylabel('number')\n",
    "plt.title('<log(x)>')"
   ]
  },
  {
   "cell_type": "code",
   "execution_count": 19,
   "id": "e9667526",
   "metadata": {},
   "outputs": [],
   "source": [
    "results_dict['t_arr'] = t_arr"
   ]
  },
  {
   "cell_type": "code",
   "execution_count": 46,
   "id": "3a7a8a95",
   "metadata": {},
   "outputs": [],
   "source": [
    "results_dict = dict(results_dict)\n",
    "np.save(spec_folder+f'Results_dict_iter{best_iter}_0107.npy', results_dict)"
   ]
  },
  {
   "cell_type": "code",
   "execution_count": 47,
   "id": "5cd9fb43",
   "metadata": {},
   "outputs": [
    {
     "data": {
      "text/plain": [
       "{'igf=0.01pM, Data, means': array([473.3266724 , 454.10860632, 454.92797602, 436.5247793 ,\n",
       "        410.89845591, 399.71709395, 396.37161368]),\n",
       " 'igf=0.01pM, Model, means': array([477.01296763, 468.43343243, 453.69030261, 427.99135503,\n",
       "        402.29057621, 393.26745604, 385.15047745]),\n",
       " 'igf=0.015pM, Data, means': array([473.3266724 , 463.36560404, 448.82085023, 408.61048502,\n",
       "        374.72214861, 359.57389104, 357.00817722]),\n",
       " 'igf=0.015pM, Model, means': array([477.01296763, 464.22525385, 442.57304166, 405.96380932,\n",
       "        371.40035089, 360.05541409, 350.52169424]),\n",
       " 'igf=0.02pM, Data, means': array([473.3266724 , 440.84614128, 431.31182823, 380.0354967 ,\n",
       "        330.08426843, 317.88807432, 316.34335599]),\n",
       " 'igf=0.02pM, Model, means': array([477.01296763, 460.07029246, 431.80077576, 385.4206178 ,\n",
       "        344.0392098 , 331.32850432, 321.33534901]),\n",
       " 'igf=0.05pM, Data, means': array([473.3266724 , 432.45472093, 389.35206541, 273.95826841,\n",
       "        219.50611675, 216.90903078, 221.13188648]),\n",
       " 'igf=0.05pM, Model, means': array([477.01296763, 436.21049084, 373.74600656, 287.5734626 ,\n",
       "        231.70146782, 219.97886257, 213.55231208]),\n",
       " 'igf=0.01pM, Data, 2nd moment': array([228865.06950352, 210509.3377612 , 211701.23741619, 195448.77434065,\n",
       "        174203.73968426, 165509.61633014, 162740.57904566]),\n",
       " 'igf=0.01pM, Model, 2nd moment': array([228011.2292383 , 219884.9142981 , 206290.03926644, 183641.0481271 ,\n",
       "        162310.16664   , 155146.15223073, 148874.50838209]),\n",
       " 'igf=0.015pM, Data, 2nd moment': array([229008.29654811, 219578.28377667, 206260.52437945, 171882.22597873,\n",
       "        146135.87758281, 135316.89105136, 133540.26892794]),\n",
       " 'igf=0.015pM, Model, 2nd moment': array([228011.2292383 , 215957.93944917, 196333.71902383, 165285.99276689,\n",
       "        138426.69154246, 130154.74290645, 123458.49841545]),\n",
       " 'igf=0.02pM, Data, 2nd moment': array([228658.59658047, 198284.24352742, 190315.67890255, 149111.42986571,\n",
       "        114298.31209115, 106619.13732642, 105796.70653268]),\n",
       " 'igf=0.02pM, Model, 2nd moment': array([228011.2292383 , 212118.50221849, 186929.92855835, 149047.75756622,\n",
       "        118866.76467724, 110319.85546188, 103900.09125937]),\n",
       " 'igf=0.05pM, Data, 2nd moment': array([230436.02119859, 192391.25826074, 156617.42018588,  79183.7396712 ,\n",
       "         51405.61136711,  50226.05458017,  52304.21568455]),\n",
       " 'igf=0.05pM, Model, 2nd moment': array([228011.2292383 , 190793.47849343, 140341.05353142,  83285.73816995,\n",
       "         54206.66207308,  48980.88475955,  46304.93890774])}"
      ]
     },
     "execution_count": 47,
     "metadata": {},
     "output_type": "execute_result"
    }
   ],
   "source": [
    "results_dict"
   ]
  },
  {
   "cell_type": "code",
   "execution_count": 9,
   "id": "18bb6327",
   "metadata": {},
   "outputs": [
    {
     "ename": "NameError",
     "evalue": "name 'iter_idx' is not defined",
     "output_type": "error",
     "traceback": [
      "\u001b[0;31m---------------------------------------------------------------------------\u001b[0m",
      "\u001b[0;31mNameError\u001b[0m                                 Traceback (most recent call last)",
      "\u001b[0;32m<ipython-input-9-e2316e2ee514>\u001b[0m in \u001b[0;36m<module>\u001b[0;34m\u001b[0m\n\u001b[0;32m----> 1\u001b[0;31m \u001b[0mk_np\u001b[0m \u001b[0;34m=\u001b[0m \u001b[0mCsv_to_Np\u001b[0m\u001b[0;34m(\u001b[0m\u001b[0mindex\u001b[0m \u001b[0;34m=\u001b[0m \u001b[0miter_idx\u001b[0m\u001b[0;34m,\u001b[0m \u001b[0mdat\u001b[0m \u001b[0;34m=\u001b[0m\u001b[0;34m'params'\u001b[0m\u001b[0;34m,\u001b[0m \u001b[0mpath\u001b[0m \u001b[0;34m=\u001b[0m \u001b[0moutput_dir\u001b[0m\u001b[0;34m)\u001b[0m\u001b[0;34m\u001b[0m\u001b[0;34m\u001b[0m\u001b[0m\n\u001b[0m",
      "\u001b[0;31mNameError\u001b[0m: name 'iter_idx' is not defined"
     ]
    }
   ],
   "source": [
    "k_np = Csv_to_Np(index = iter_idx, dat ='params', path = output_dir)"
   ]
  },
  {
   "cell_type": "code",
   "execution_count": null,
   "id": "39f58cb6",
   "metadata": {},
   "outputs": [],
   "source": [
    "np.random.randint(0,9,20)"
   ]
  },
  {
   "cell_type": "markdown",
   "id": "c21bf5db",
   "metadata": {},
   "source": [
    "### PIGFR"
   ]
  },
  {
   "cell_type": "code",
   "execution_count": null,
   "id": "f3678e94",
   "metadata": {},
   "outputs": [],
   "source": []
  },
  {
   "cell_type": "code",
   "execution_count": null,
   "id": "eda49c38",
   "metadata": {},
   "outputs": [],
   "source": [
    "len(L_arr)"
   ]
  },
  {
   "cell_type": "code",
   "execution_count": 10,
   "id": "974d87e4",
   "metadata": {},
   "outputs": [],
   "source": [
    "import random\n",
    "from collections import defaultdict"
   ]
  },
  {
   "cell_type": "code",
   "execution_count": null,
   "id": "1faefdaa",
   "metadata": {},
   "outputs": [],
   "source": [
    "t = 10*60*60\n",
    "k = k_np[100,:]\n",
    "result = defaultdict(lambda: 'Not present')\n",
    "for igf in L_arr:\n",
    "    sol_dyn, sol =  solve_Moments_fn(K=k, IGF = igf, t = t)\n",
    "    result\n",
    "# p_means_arr[ti] += sol[7]"
   ]
  },
  {
   "cell_type": "code",
   "execution_count": null,
   "id": "e840db68",
   "metadata": {},
   "outputs": [],
   "source": [
    "# k34 = k_np[3,:] - k_np[2,:]"
   ]
  },
  {
   "cell_type": "code",
   "execution_count": null,
   "id": "2935d02c",
   "metadata": {},
   "outputs": [],
   "source": [
    "# 10**np.mean(k34)"
   ]
  },
  {
   "cell_type": "code",
   "execution_count": null,
   "id": "d3785265",
   "metadata": {},
   "outputs": [],
   "source": [
    "# k_np.shape"
   ]
  },
  {
   "cell_type": "code",
   "execution_count": 12,
   "id": "956ad2a0",
   "metadata": {
    "scrolled": true
   },
   "outputs": [
    {
     "name": "stdout",
     "output_type": "stream",
     "text": [
      "Orig\n"
     ]
    }
   ],
   "source": [
    "## make a dictionary \n",
    "k_np = Csv_to_Np(index = LatestIterI, dat ='params', path = output_dir)\n",
    "\n",
    "t_arr = [0, 6, 12, 25, 45, 60, 90]*60\n",
    "L_arr  = np.array([10,15,20,25,50,250])*10**-3 #make it in nM\n",
    "nL = len(L_arr)\n",
    "nT = len(t_arr)\n",
    "\n",
    "\n",
    "from collections import defaultdict\n",
    "## pick 100 values for the k randomly \n",
    "nPoints = 100\n",
    "\n",
    "k_idx = random.sample(range(k_np.shape[0]), nPoints)\n",
    "k_np_m2_5 = k_np.copy()\n",
    "k_np_m2_5[:,2] =k_np_m2_5[:,2]- .5\n",
    "\n",
    "\n",
    "k_np_m2 = k_np.copy()\n",
    "k_np_m2[:,2] =k_np_m2[:,2]- .2\n",
    "k_np_p3 = k_np.copy()\n",
    "k_np_p3[:,3] =k_np_p3[:,3]+ .2\n",
    "\n",
    "\n",
    "params_dict= {'K2-0.5': k_np_m2_5 ,'K2-0.2': k_np_m2, 'Orig':k_np, 'K3+0.2':k_np_p3}\n",
    "\n",
    "Full_dict = defaultdict(lambda: 'NotPresent')\n",
    "\n",
    "\n",
    "# for key in params_dict: \n",
    "# I just wanna do the original parameters for now \n",
    "for key in ['Orig']: \n",
    "    params_database = params_dict[key]\n",
    "    \n",
    "    print(key)\n",
    "    model_dict = defaultdict(lambda: 'NotPresent')\n",
    "\n",
    "\n",
    "    for igf in L_arr : \n",
    "#         print(f'{igf*(1000)}pM')\n",
    "\n",
    "    #     model_dict[f'{igf*(1000)}pM'] = defaultdict(lambda: 'NotPresent')\n",
    "        r_means_arr = np.zeros(nT)\n",
    "        b_means_arr = np.zeros(nT)\n",
    "        p_means_arr = np.zeros(nT)\n",
    "        pakt_means_arr = np.zeros(nT)\n",
    "        f_means_arr = np.zeros(nT)\n",
    "\n",
    "        for ki in k_idx: \n",
    "            kk = params_database[ki,:]\n",
    "\n",
    "    #         print(ko == kk)\n",
    "\n",
    "            for ti in range(nT):\n",
    "\n",
    "                tend = t_arr[ti]\n",
    "    #             print(ko == kk)\n",
    "\n",
    "    #             _, sol =  solve_Moments_fn(K=kk, IGF = igf, tend = tend)\n",
    "                _, sol =  solve_Moments_fn(K=kk, IGF = igf, t = tend)\n",
    "\n",
    "                r_means_arr[ti] += sol[0].copy()\n",
    "                b_means_arr[ti] += sol[1].copy()\n",
    "                p_means_arr[ti] += sol[2].copy()\n",
    "                pakt_means_arr[ti] += sol[4].copy()\n",
    "                f_means_arr[ti] += sol[7].copy()\n",
    "\n",
    "\n",
    "#         print(p_means_arr)\n",
    "        model_dict[f'{igf*(1000)}pM'] =  {'R': r_means_arr/nPoints, 'pAKT': pakt_means_arr/nPoints, 'B': b_means_arr/nPoints, 'P': p_means_arr/nPoints, 'FoxO':f_means_arr/nPoints} \n",
    "        \n",
    "    Full_dict[key] = dict(model_dict)"
   ]
  },
  {
   "cell_type": "code",
   "execution_count": null,
   "id": "26c01fa4",
   "metadata": {},
   "outputs": [],
   "source": [
    "Full_dict\n"
   ]
  },
  {
   "cell_type": "code",
   "execution_count": null,
   "id": "c4cf3c00",
   "metadata": {},
   "outputs": [],
   "source": [
    "i = 0\n",
    "color_arr = ['b','r','g','y','purple','k']\n",
    "constraints_dict = defaultdict(lambda:'Not Present')\n",
    "for li in range(nL-1):\n",
    "    LigandConc = L_arr[1+li]\n",
    "    constraints_dict[f'{LigandConc*1000}pM'] = real_cons[i:i+nT]\n",
    "    i=i+nT\n",
    "i-nT"
   ]
  },
  {
   "cell_type": "code",
   "execution_count": null,
   "id": "c2ffb05a",
   "metadata": {
    "scrolled": true
   },
   "outputs": [],
   "source": [
    "colorlist = ['k', 'purple','r', 'b', 'g' , 'orange', 'pink']\n",
    "fig, axs = plt.subplots(4,4, figsize = (20,15))\n",
    "\n",
    "ii = 0\n",
    "jj = 0 \n",
    "x = t_arr/60 \n",
    "for params_description in Full_dict: \n",
    "    ci = 0\n",
    "    \n",
    "    for ligand_conc in Full_dict[params_description]:\n",
    "#         print(ligand_conc)\n",
    "#         print(jj)\n",
    "#         print(ci)\n",
    "        axs[0,jj].plot(x,Full_dict[params_description][ligand_conc]['R'], c = colorlist[ci], label = ligand_conc)\n",
    "        axs[0,jj].scatter(x,Full_dict[params_description][ligand_conc]['R'],c = colorlist[ci])\n",
    "        axs[1,jj].plot(x,Full_dict[params_description][ligand_conc]['B'],c = colorlist[ci])\n",
    "        axs[1,jj].scatter(x,Full_dict[params_description][ligand_conc]['B'],c = colorlist[ci])\n",
    "        axs[2,jj].plot(x,Full_dict[params_description][ligand_conc]['P'],c = colorlist[ci])\n",
    "        axs[2,jj].scatter(x,Full_dict[params_description][ligand_conc]['P'],c = colorlist[ci])\n",
    "        axs[3,jj].plot(x,Full_dict[params_description][ligand_conc]['FoxO'],c = colorlist[ci])\n",
    "        axs[3,jj].scatter(x,Full_dict[params_description][ligand_conc]['FoxO'],c = colorlist[ci])\n",
    "        if ligand_conc != '0.0pM':\n",
    "            axs[3,jj].plot(x,constraints_dict[ligand_conc], '--',c = colorlist[ci])\n",
    "            axs[3,jj].scatter(x,constraints_dict[ligand_conc], c = colorlist[ci])\n",
    "        \n",
    "#         jj+=1\n",
    "        ci+=1\n",
    "    \n",
    "    \n",
    "    \n",
    "    jj+=1\n",
    "axs[0,3].legend(loc = \"upper right\",prop={'size': 14})\n",
    "    \n",
    "plt.tight_layout()\n",
    "    "
   ]
  },
  {
   "cell_type": "markdown",
   "id": "b6bfb92e",
   "metadata": {},
   "source": [
    "### Some more things to plot\n",
    "1. P vs IGF \n",
    "2. pAKT vs P \n",
    "3. FoxO vs pAKT <br>\n",
    "This can be done for K3 - 0.5 (we can do that at steady state, so we can say last time point)"
   ]
  },
  {
   "cell_type": "code",
   "execution_count": null,
   "id": "ab6b2e45",
   "metadata": {},
   "outputs": [],
   "source": [
    "Full_dict"
   ]
  },
  {
   "cell_type": "code",
   "execution_count": null,
   "id": "c55c5d86",
   "metadata": {},
   "outputs": [],
   "source": [
    "species_key_list = ['R', 'pAKT', 'B', 'P', 'FoxO']\n",
    "rel_dict = Full_dict['Orig']\n",
    "# \n",
    "R_arr =np.zeros(nL)\n",
    "B_arr =np.zeros(nL)\n",
    "P_arr =np.zeros(nL)\n",
    "pAKT_arr =np.zeros(nL)\n",
    "FoxO_arr =np.zeros(nL)\n",
    "\n",
    "\n",
    "\n",
    "i = 0 \n",
    "# j=0\n",
    "for key in rel_dict:\n",
    "    R_arr[i] = rel_dict[key]['R'][-1]\n",
    "    B_arr[i] = rel_dict[key]['B'][-1]\n",
    "    P_arr[i] = rel_dict[key]['P'][-1]\n",
    "    pAKT_arr[i] = rel_dict[key]['pAKT'][-1]\n",
    "    FoxO_arr[i] = rel_dict[key]['FoxO'][-1]\n",
    "    \n",
    "    i+=1\n",
    "    \n",
    "    "
   ]
  },
  {
   "cell_type": "code",
   "execution_count": null,
   "id": "f02b3358",
   "metadata": {},
   "outputs": [],
   "source": [
    "pAKT_arr"
   ]
  },
  {
   "cell_type": "code",
   "execution_count": null,
   "id": "ec40aa32",
   "metadata": {},
   "outputs": [],
   "source": [
    "plt.scatter(np.log10(L_arr), P_arr)\n",
    "plt.title('P')\n",
    "plt.xlabel('Log(ligand Concentration)')\n",
    "plt.ylabel('Number')\n",
    "plt.show()\n",
    "\n",
    "plt.scatter(P_arr, pAKT_arr)\n",
    "plt.title('pAKT vs P')\n",
    "plt.xlabel('P')\n",
    "plt.ylabel('pAKT')\n",
    "plt.show()\n",
    "\n",
    "plt.scatter(pAKT_arr, FoxO_arr)\n",
    "plt.title('FoxO vs pAKT')\n",
    "plt.xlabel('pAKT')\n",
    "plt.ylabel('FoxO')\n",
    "plt.show()"
   ]
  },
  {
   "cell_type": "code",
   "execution_count": null,
   "id": "6d273125",
   "metadata": {},
   "outputs": [],
   "source": [
    "constraints_dict"
   ]
  },
  {
   "cell_type": "code",
   "execution_count": null,
   "id": "6cdbfb14",
   "metadata": {},
   "outputs": [],
   "source": []
  },
  {
   "cell_type": "code",
   "execution_count": null,
   "id": "694628cf",
   "metadata": {},
   "outputs": [],
   "source": [
    "Full_dict['K2-0.2']['10.0pM']['FoxO'] == Full_dict['K3+0.2']['10.0pM']['FoxO']\n"
   ]
  },
  {
   "cell_type": "code",
   "execution_count": null,
   "id": "90bd1f73",
   "metadata": {},
   "outputs": [],
   "source": [
    "i = 0\n",
    "color_arr = ['b','r','g','y','purple','k']\n",
    "for li in range(nL):\n",
    "    plt.plot(t_arr,real_cons[i:i+nT], c = color_arr[li], label = f'igf={L_arr[li]}pM, Data')\n",
    "    plt.scatter(t_arr,real_cons[i:i+nT], c = color_arr[li])\n",
    "    plt.plot(t_arr,preds[i:i+nT], '--',c = color_arr[li],label = f'igf={L_arr[li]}pM, Preds')\n",
    "    i=i+nT\n",
    "plt.legend(bbox_to_anchor=(1.05, 1))\n",
    "plt.xlabel('time (min)')\n",
    "plt.ylabel('number')\n",
    "plt.title('Means')"
   ]
  },
  {
   "cell_type": "code",
   "execution_count": null,
   "id": "f4b3d088",
   "metadata": {},
   "outputs": [],
   "source": [
    "real_cons\n"
   ]
  },
  {
   "cell_type": "code",
   "execution_count": null,
   "id": "cce1c5b2",
   "metadata": {},
   "outputs": [],
   "source": [
    "L_arr"
   ]
  },
  {
   "cell_type": "code",
   "execution_count": null,
   "id": "5548136b",
   "metadata": {},
   "outputs": [],
   "source": [
    "i = 0\n",
    "color_arr = ['b','r','g','y','purple','k']\n",
    "constraints_dict = defaultdict(lambda:'Not Present')\n",
    "for li in range(nL-1):\n",
    "    LigandConc = L_arr[1+li]\n",
    "    constraints_dict[f'{LigandConc*1000}pM'] = real_cons[i:i+nT]\n",
    "    i=i+nT\n",
    "i-nT"
   ]
  },
  {
   "cell_type": "code",
   "execution_count": null,
   "id": "a56b328a",
   "metadata": {},
   "outputs": [],
   "source": [
    "constraints_dict = dict(constraints_dict)"
   ]
  },
  {
   "cell_type": "code",
   "execution_count": null,
   "id": "50c987a3",
   "metadata": {},
   "outputs": [],
   "source": [
    "constraints_dict"
   ]
  },
  {
   "cell_type": "code",
   "execution_count": null,
   "id": "b950224d",
   "metadata": {},
   "outputs": [],
   "source": []
  }
 ],
 "metadata": {
  "kernelspec": {
   "display_name": "Python 3 (ipykernel)",
   "language": "python",
   "name": "python3"
  },
  "language_info": {
   "codemirror_mode": {
    "name": "ipython",
    "version": 3
   },
   "file_extension": ".py",
   "mimetype": "text/x-python",
   "name": "python",
   "nbconvert_exporter": "python",
   "pygments_lexer": "ipython3",
   "version": "3.9.7"
  }
 },
 "nbformat": 4,
 "nbformat_minor": 5
}
