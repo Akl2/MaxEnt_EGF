{
 "cells": [
  {
   "cell_type": "code",
   "execution_count": 1,
   "id": "6a3ad518-9f29-4a52-8c92-e31e25092bd8",
   "metadata": {},
   "outputs": [],
   "source": [
    "# Max Ent development code - Local \n",
    "import numpy as np\n",
    "import matplotlib.pyplot as plt\n",
    "from scipy.integrate import solve_ivp\n",
    "from PredictionFunctions import  Get_Init_fn, solve_Moments_fn, FoxOn_preds\n",
    "from MomentEquations import MomentsDiff_Eq_fn"
   ]
  },
  {
   "cell_type": "code",
   "execution_count": null,
   "id": "b620b81a",
   "metadata": {},
   "outputs": [],
   "source": [
    "sc = 0.01870914785101721\n",
    "Spec_list = [ 'R', 'B', 'P', 'akt', 'pakt', 'pfoxoc', 'foxoc', 'foxon']\n",
    "add = np.log10(34049)\n",
    "\n",
    "print(add)"
   ]
  },
  {
   "cell_type": "code",
   "execution_count": null,
   "id": "6675d17d",
   "metadata": {},
   "outputs": [],
   "source": [
    "add = 7\n",
    "\n",
    "par_dict = {'par_name': ['k1', 'k2','k3', 'k4', 'k5', 'k6', 'k7', 'k8', 'k9', 'k10', 'k11', 'k12']\n",
    "            , 'low_lim_log':np.array([  -0.2, -4.1, -1.5, -4.8, -.5, -1.5,-2, -0.25 - add,-5, -2.3, -2.7, -3.5])\n",
    "            , 'high_lim_log': np.array([ 0.2, -3.1, -0.5, -2.8,  .5, -.5, -.5, 1.25 - add,-4, -1.8 ,-2.3, -2.8])}\n",
    "# k = (par_dict['low_lim_log'] + par_dict['high_lim_log'])/2\n",
    "# solve the equations for 0,10,15,20,25,50,250 and plot the nuclear foxO mean \n",
    "L_arr = [0,10,15,20,25,50,100,125,250]\n",
    "tend = 60*60*3\n",
    "# k = (par_dict['low_lim_log'] + par_dict['high_lim_log'])/2\n",
    "k = par_dict['low_lim_log']\n",
    "# figure, axs = plt.subplots(3,3, figsize = (10,10))\n",
    "ii = 0 ; jj = -1;\n",
    "## making sure that the model solver work \n",
    "for i in range(len(L_arr)):\n",
    "    jj +=1 \n",
    "    if jj == 3: \n",
    "        ii+=1\n",
    "        jj = 0\n",
    "    IGF = L_arr[i]/1000\n",
    "    t0 = time.time()\n",
    "    Dynamical_Solution, LastP_Solution = solve_Moments_fn(k, IGF, tend)\n",
    "    t1 = time.time()\n",
    "    print(t1 - t0)\n",
    "    t = Dynamical_Solution.t\n",
    "    # extract the foxOn solution\n",
    "    thr = t/3600\n",
    "    y = Dynamical_Solution.y[7,:]\n",
    "    plt.plot(thr,y, label = f'L={IGF}nM')\n",
    "\n",
    "    \n",
    "#     plt.legend()\n",
    "    # plt.title('Model mean FoxOn')\n",
    "plt.xlabel('time(hr)')\n",
    "plt.ylabel('number')\n",
    "plt.legend()\n",
    "plt.title('Model mean FoxOn \\n low bound of params')\n",
    "#     axs[ii,jj].set_title(f'L={IGF}pM')\n",
    "\n",
    "plt.tight_layout()\n",
    "plt.show()\n",
    "\n",
    "\n",
    "\n",
    "for i in range(len(L_arr)):\n",
    "    jj +=1 \n",
    "    if jj == 3: \n",
    "        ii+=1\n",
    "        jj = 0\n",
    "    IGF = L_arr[i]/1000\n",
    "    Dynamical_Solution, LastP_Solution = solve_Moments_fn(k, IGF, tend)\n",
    "    t = Dynamical_Solution.t\n",
    "    # extract the foxOn solution\n",
    "    thr = t/3600\n",
    "    y = Dynamical_Solution.y[2,:]\n",
    "    plt.plot(thr,y, label = f'L={IGF}nM')\n",
    "\n",
    "\n",
    "    \n",
    "#     plt.legend()\n",
    "    # plt.title('Model mean FoxOn')\n",
    "plt.xlabel('time(hr)')\n",
    "plt.ylabel('number')\n",
    "plt.legend()\n",
    "plt.title('Model mean P \\n low bound of params')\n",
    "#     axs[ii,jj].set_title(f'L={IGF}pM')\n",
    "\n",
    "plt.tight_layout()\n",
    "plt.show()\n",
    "\n",
    "for i in range(len(L_arr)):\n",
    "    jj +=1 \n",
    "    if jj == 3: \n",
    "        ii+=1\n",
    "        jj = 0\n",
    "    IGF = L_arr[i]/1000\n",
    "    Dynamical_Solution, LastP_Solution = solve_Moments_fn(k, IGF, tend)\n",
    "    t = Dynamical_Solution.t\n",
    "    # extract the foxOn solution\n",
    "    thr = t/3600\n",
    "    y = Dynamical_Solution.y[4,:]\n",
    "    plt.plot(thr,y, label = f'L={IGF}nM')\n",
    "\n",
    "\n",
    "    \n",
    "#     plt.legend()\n",
    "    # plt.title('Model mean FoxOn')\n",
    "plt.xlabel('time(hr)')\n",
    "plt.ylabel('number')\n",
    "plt.legend()\n",
    "plt.title('Model mean pAKT \\n low bound of params')\n",
    "#     axs[ii,jj].set_title(f'L={IGF}pM')\n",
    "\n",
    "plt.tight_layout()\n",
    "plt.show()\n",
    "\n",
    "# Load the experimental data and convert it using the scaling factor, get the "
   ]
  },
  {
   "cell_type": "code",
   "execution_count": null,
   "id": "e1809b66",
   "metadata": {},
   "outputs": [],
   "source": [
    "plt.plot(Dynamical_Solution.t/3600)\n",
    "# plt.scatter(np.arange(len(Dynamical_Solution.t)),t/3600, s = 1)"
   ]
  },
  {
   "cell_type": "code",
   "execution_count": null,
   "id": "dcfda6e9",
   "metadata": {},
   "outputs": [],
   "source": [
    "t_cons = np.array([  0,   6,  15,  21,  51, 126])*60\n",
    "nConT = 6"
   ]
  },
  {
   "cell_type": "code",
   "execution_count": null,
   "id": "27a0a3ba",
   "metadata": {},
   "outputs": [],
   "source": [
    "for i in range(nConT):\n",
    "#     t_rounded = np.round( Dynamical_Solution.t,3) \n",
    "    print(np.argwhere(t_rounded == t_cons[i]))"
   ]
  },
  {
   "cell_type": "code",
   "execution_count": null,
   "id": "67252bb6",
   "metadata": {},
   "outputs": [],
   "source": [
    "def find_nearest(array, value):\n",
    "    array = np.asarray(array)\n",
    "    idx = (np.abs(array - value)).argmin()\n",
    "    return array[idx], idx"
   ]
  },
  {
   "cell_type": "code",
   "execution_count": null,
   "id": "8d1f0f46",
   "metadata": {},
   "outputs": [],
   "source": [
    "c, i = find_nearest(Dynamical_Solution.t, 360)\n",
    "# Dynamical_Solution.t[130]"
   ]
  },
  {
   "cell_type": "code",
   "execution_count": null,
   "id": "11453386",
   "metadata": {},
   "outputs": [],
   "source": [
    "i"
   ]
  },
  {
   "cell_type": "code",
   "execution_count": null,
   "id": "c4a67c78",
   "metadata": {},
   "outputs": [],
   "source": [
    "LastP_Solution.shape"
   ]
  },
  {
   "cell_type": "code",
   "execution_count": null,
   "id": "79c65d78",
   "metadata": {},
   "outputs": [],
   "source": [
    "# load the constraints "
   ]
  },
  {
   "cell_type": "code",
   "execution_count": null,
   "id": "6abe2744",
   "metadata": {},
   "outputs": [],
   "source": [
    "# Def the prediction funtion \n",
    "def FoxOn_preds(k,L,t):\n",
    "    \"\"\"\"Function spits out mean and second moment of nuclear foxO at time t\n",
    "    input:  L = IGF concentration in nM \n",
    "            t = end time in seconds\n",
    "    output: meanfoxO, variancefoxO\"\"\"\n",
    "    _, Sol_t = solve_Moments_fn(k, IGF, tend)\n",
    "    foxOn_mean, foxOn_var = Sol_t[7], Sol_t[-1]\n",
    "    return foxOn_mean, foxOn_var\n",
    "    \n",
    "    \n",
    "    "
   ]
  },
  {
   "cell_type": "code",
   "execution_count": null,
   "id": "6166897f",
   "metadata": {},
   "outputs": [],
   "source": [
    "t0 = time.time()\n",
    "L = 100*10**-3\n",
    "\n",
    "\n",
    "t = 3600\n",
    "m,v = FoxOn_preds(k,L,t)\n",
    "t1 = time.time()\n",
    "print(t1 - t0)"
   ]
  },
  {
   "cell_type": "code",
   "execution_count": null,
   "id": "901abab9",
   "metadata": {},
   "outputs": [],
   "source": [
    "L=\n",
    "# L = \n",
    "\n",
    "\n",
    "t0 = time.time()\n",
    "SolD, Sol_t = solve_Moments_fn(k, L, tend)\n",
    "t1 = time.time()\n",
    "print(t1-t0)"
   ]
  },
  {
   "cell_type": "code",
   "execution_count": null,
   "id": "6837cf43",
   "metadata": {},
   "outputs": [],
   "source": [
    "L = 100*10**-3\n",
    "t = np.arange(0,3600, 60)\n",
    "import time"
   ]
  },
  {
   "cell_type": "code",
   "execution_count": null,
   "id": "8f0a71e3",
   "metadata": {},
   "outputs": [],
   "source": [
    "foxOnmean_arr = np.zeros(len(t))\n",
    "for t_i in range(len(t)):\n",
    "    t0=time.time()\n",
    "    time_1 = t[t_i]\n",
    "    foxOnmean_arr[t_i], _ = FoxOn_preds(L,time_1)\n",
    "    print(time.time() - t0)\n",
    "    \n",
    "plt.plot(foxOnmean_arr)\n",
    "    "
   ]
  },
  {
   "cell_type": "code",
   "execution_count": null,
   "id": "2715eeab",
   "metadata": {},
   "outputs": [],
   "source": [
    "t0 = time.time()\n",
    "Dynamical_Solution, LastP_Solution = solve_Moments_fn(k, L, 3*60*60)\n",
    "print(t0-time.time())"
   ]
  },
  {
   "cell_type": "code",
   "execution_count": null,
   "id": "85d175f9",
   "metadata": {},
   "outputs": [],
   "source": [
    "# initialize the lambda \n",
    "nCons = "
   ]
  }
 ],
 "metadata": {
  "kernelspec": {
   "display_name": "Python 3",
   "language": "python",
   "name": "python3"
  },
  "language_info": {
   "codemirror_mode": {
    "name": "ipython",
    "version": 3
   },
   "file_extension": ".py",
   "mimetype": "text/x-python",
   "name": "python",
   "nbconvert_exporter": "python",
   "pygments_lexer": "ipython3",
   "version": "3.8.8"
  }
 },
 "nbformat": 4,
 "nbformat_minor": 5
}
