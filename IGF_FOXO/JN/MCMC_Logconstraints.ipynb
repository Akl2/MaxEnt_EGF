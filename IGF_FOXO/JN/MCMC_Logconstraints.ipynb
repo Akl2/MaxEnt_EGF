{
 "cells": [
  {
   "cell_type": "code",
   "execution_count": 40,
   "metadata": {},
   "outputs": [],
   "source": [
    "## updating the lammbda\n",
    "\n",
    "import csv\n",
    "import numpy as np \n",
    "import random\n",
    "import time\n",
    "# sve_ivp\n",
    "import os\n",
    "import pandas as pd\n",
    "from Update_LM_functions import calculate_constraints, update_lambda, openfile\n",
    "# load old lambda \n",
    "## path would change depending on where I am running this. \n",
    "\n",
    "# ------------------------------------------\n",
    "\n",
    "\n",
    "## set path \n",
    "on_mac = False\n",
    "on_thinkpad = False \n",
    "on_hpg = True\n",
    "\n",
    "if on_mac == True: \n",
    "    data_path = \"/Volumes/hodaakl/\"\n",
    "if on_thinkpad== True: \n",
    "    data_path = \"//exasmb.rc.ufl.edu/blue/pdixit/hodaakl/\"\n",
    "if on_hpg == True: \n",
    "    data_path = \"/blue/pdixit/hodaakl/\"\n",
    "\n",
    "# specify the project you are working on     \n",
    "spec_folder_onServer = data_path + 'A5MCMC_IGF_FoxO/'\n",
    "path = spec_folder_onServer + '0120_test_lnx/'\n",
    "# ------------------------------------------\n",
    "\n",
    "file_name_lambda = path + 'Lambdas.csv'\n",
    "file_name_error = path+ 'Errors.csv'\n",
    "read_dictionary = np.load(spec_folder_onServer + 'Arrays_for_max_ent/MuLnCons_28Conds_0119.npy',allow_pickle='TRUE').item()\n",
    "real_cons = read_dictionary['array']\n"
   ]
  },
  {
   "cell_type": "code",
   "execution_count": 41,
   "metadata": {},
   "outputs": [
    {
     "data": {
      "text/plain": [
       "array([473.3266724 , 454.10860632, 454.92797602, 436.5247793 ,\n",
       "       410.89845591, 399.71709395, 396.37161368, 473.3266724 ,\n",
       "       463.36560404, 448.82085023, 408.61048502, 374.72214861,\n",
       "       359.57389104, 357.00817722, 473.3266724 , 440.84614128,\n",
       "       431.31182823, 380.0354967 , 330.08426843, 317.88807432,\n",
       "       316.34335599, 473.3266724 , 432.45472093, 389.35206541,\n",
       "       273.95826841, 219.50611675, 216.90903078, 221.13188648,\n",
       "         6.14919878,   6.10824505,   6.10904954,   6.06641388,\n",
       "         6.00272755,   5.9728854 ,   5.96429802,   6.14845295,\n",
       "         6.12703243,   6.09448777,   5.99752984,   5.90432614,\n",
       "         5.85977955,   5.85218455,   6.14952339,   6.07859007,\n",
       "         6.05544323,   5.92421553,   5.77407555,   5.73330474,\n",
       "         5.72727125,   6.14559706,   6.05520892,   5.94798073,\n",
       "         5.58558721,   5.35800592,   5.34594168,   5.36404087])"
      ]
     },
     "execution_count": 41,
     "metadata": {},
     "output_type": "execute_result"
    }
   ],
   "source": [
    "real_cons"
   ]
  },
  {
   "cell_type": "code",
   "execution_count": null,
   "metadata": {},
   "outputs": [],
   "source": []
  },
  {
   "cell_type": "code",
   "execution_count": null,
   "metadata": {},
   "outputs": [],
   "source": []
  },
  {
   "cell_type": "code",
   "execution_count": 42,
   "metadata": {},
   "outputs": [],
   "source": [
    "\n",
    "\n",
    "if not os.path.exists(file_name_lambda): \n",
    "\n",
    "    raise ValueError(\"No saved Lagrange multipliers, nothing to update. You have to save initial Lagrange multipliers first\")\n",
    "    \n",
    "Lambda_np = openfile(file_name_lambda)\n",
    "\n",
    "iterationp1, _ = Lambda_np.shape\n",
    "iteration = iterationp1 -1\n",
    "\n",
    "#\n",
    "moments_filename =path + f'moments_{iteration}.csv'\n",
    "\n",
    "\n",
    "df = pd.read_csv(moments_filename, sep = ',', header = None) \n",
    "\n",
    "Data_np = df.to_numpy()\n",
    "### take away the nan values \n",
    "idxn = np.argwhere(np.isnan(Data_np))\n",
    "idx_nan_rows = idxn[:,0]\n",
    "\n",
    "data = np.delete(Data_np,idx_nan_rows, 0)\n",
    "Preds = calculate_constraints(data)\n",
    "\n",
    "# preds_power = np.floor(np.log10(Preds))\n",
    "# alpha_power = np.ones(len(Preds))\n",
    "\n",
    "Error = Preds - real_cons[:len(Preds)]\n",
    "Old_Lambda = Lambda_np[-1,:]\n",
    "# alpha_arr = 10**(-np.log10(Preds) -1 )\n"
   ]
  },
  {
   "cell_type": "code",
   "execution_count": 43,
   "metadata": {},
   "outputs": [
    {
     "data": {
      "text/plain": [
       "array([102.30333364, 116.85718373, 105.36706328,  99.2536584 ,\n",
       "        94.03638884,  93.37800454,  86.54143598, 102.30333364,\n",
       "       105.28889104, 104.01857215, 108.78049153, 100.53902101,\n",
       "       100.70868716,  91.4958171 , 102.30333364, 125.51111895,\n",
       "       114.20910566, 119.90434511, 118.60070757, 113.87281362,\n",
       "       103.16223487, 102.30333364, 120.40108558, 114.97129178,\n",
       "       137.99855606, 115.55686166, 100.90858486,  88.01694067,\n",
       "         0.17119589,   0.2043788 ,   0.18565553,   0.18601821,\n",
       "         0.19364425,   0.20086737,   0.18939769,   0.17194172,\n",
       "         0.18171439,   0.1874371 ,   0.22149332,   0.23327979,\n",
       "         0.24654617,   0.22845331,   0.17087128,   0.22628594,\n",
       "         0.21374458,   0.2617729 ,   0.30687133,   0.30927067,\n",
       "         0.28605937,   0.17479761,   0.22655784,   0.24568459,\n",
       "         0.41012683,   0.42430249,   0.37927456,   0.33106506])"
      ]
     },
     "execution_count": 43,
     "metadata": {},
     "output_type": "execute_result"
    }
   ],
   "source": [
    "\n",
    "Error"
   ]
  },
  {
   "cell_type": "code",
   "execution_count": 44,
   "metadata": {},
   "outputs": [],
   "source": [
    "\n",
    "mumu_data = np.mean(real_cons[:int(len(real_cons)/2)])\n",
    "mulnx_data = np.mean(real_cons[int(len(real_cons)/2):])\n",
    "# print(mumu_data)\n",
    "# print(mus_data)\n",
    "norm_vec = np.ones(len(real_cons))\n",
    "norm_vec[:int(len(norm_vec)/2)] = norm_vec[:int(len(norm_vec)/2)]*mumu_data\n",
    "norm_vec[int(len(norm_vec)/2):] = norm_vec[int(len(norm_vec)/2):]*mulnx_data\n",
    "# norm_vec2 = np.concatenate((mumu_data*np.ones(int(len(real_cons)/2)), mulnx_data*np.ones(int(len(real_cons)/2))), axis = 0)\n",
    "# norm_vec2 == norm_vec"
   ]
  },
  {
   "cell_type": "code",
   "execution_count": 45,
   "metadata": {},
   "outputs": [
    {
     "data": {
      "text/plain": [
       "array([0.26455044, 0.30218585, 0.27247307, 0.25666416, 0.2431726 ,\n",
       "       0.24147006, 0.22379109, 0.26455044, 0.27227092, 0.26898595,\n",
       "       0.28129999, 0.25998803, 0.26042678, 0.23660283, 0.26455044,\n",
       "       0.32456442, 0.29533807, 0.31006563, 0.3066945 , 0.29446844,\n",
       "       0.26677151, 0.26455044, 0.31135017, 0.29730904, 0.3568562 ,\n",
       "       0.29882329, 0.2609437 , 0.22760666, 0.02894592, 0.03455651,\n",
       "       0.03139077, 0.03145209, 0.0327415 , 0.03396279, 0.03202349,\n",
       "       0.02907203, 0.0307244 , 0.031692  , 0.03745025, 0.03944311,\n",
       "       0.0416862 , 0.03862705, 0.02889104, 0.03826058, 0.03614008,\n",
       "       0.04426074, 0.05188602, 0.0522917 , 0.04836712, 0.0295549 ,\n",
       "       0.03830656, 0.04154052, 0.06934453, 0.07174136, 0.06412801,\n",
       "       0.05597671])"
      ]
     },
     "execution_count": 45,
     "metadata": {},
     "output_type": "execute_result"
    }
   ],
   "source": [
    "Error/norm_vec"
   ]
  },
  {
   "cell_type": "code",
   "execution_count": 46,
   "metadata": {},
   "outputs": [],
   "source": [
    "# Lambda_lnx ~ 10^-1 \n",
    "# lambda_mu ~ 10^-2 "
   ]
  },
  {
   "cell_type": "code",
   "execution_count": 47,
   "metadata": {},
   "outputs": [],
   "source": [
    "alpha =np.concatenate( (np.ones(int(len(real_cons)/2))*10**(-1), np.ones(int(len(real_cons)/2))*10), axis = 0)\n",
    "Lambda = update_lambda(Error = Error, old_lambda= Old_Lambda, norm_vector= norm_vec, alpha_cons = alpha)#, alpha_power = alpha_power) \n",
    "# Lambda= Lambda.tolist()\n",
    "# Error = Error.tolist()\n",
    "\n",
    "\n",
    "\n"
   ]
  },
  {
   "cell_type": "code",
   "execution_count": 48,
   "metadata": {},
   "outputs": [
    {
     "data": {
      "text/plain": [
       "array([0.02645504, 0.03021858, 0.02724731, 0.02566642, 0.02431726,\n",
       "       0.02414701, 0.02237911, 0.02645504, 0.02722709, 0.02689859,\n",
       "       0.02813   , 0.0259988 , 0.02604268, 0.02366028, 0.02645504,\n",
       "       0.03245644, 0.02953381, 0.03100656, 0.03066945, 0.02944684,\n",
       "       0.02667715, 0.02645504, 0.03113502, 0.0297309 , 0.03568562,\n",
       "       0.02988233, 0.02609437, 0.02276067, 0.28945921, 0.3455651 ,\n",
       "       0.31390767, 0.31452088, 0.32741505, 0.33962795, 0.32023493,\n",
       "       0.29072027, 0.30724397, 0.31691995, 0.37450245, 0.39443109,\n",
       "       0.41686198, 0.38627045, 0.28891036, 0.38260584, 0.36140083,\n",
       "       0.44260745, 0.51886019, 0.52291702, 0.48367118, 0.29554902,\n",
       "       0.38306557, 0.41540522, 0.69344531, 0.71741361, 0.64128008,\n",
       "       0.55976712])"
      ]
     },
     "execution_count": 48,
     "metadata": {},
     "output_type": "execute_result"
    }
   ],
   "source": [
    "Lambda"
   ]
  },
  {
   "cell_type": "code",
   "execution_count": 49,
   "metadata": {},
   "outputs": [
    {
     "name": "stdout",
     "output_type": "stream",
     "text": [
      "saved figure\n"
     ]
    },
    {
     "data": {
      "image/png": "[encoded data removed]",
      "text/plain": [
       "<Figure size 432x288 with 1 Axes>"
      ]
     },
     "metadata": {
      "needs_background": "light"
     },
     "output_type": "display_data"
    }
   ],
   "source": [
    "\n",
    "\n",
    "# ------------------------------------------\n",
    "#write the result \n",
    "\n",
    "\n",
    "if os.path.exists(file_name_error): \n",
    "    with open(file_name_error, 'a') as add_file_error:\n",
    "        csv_adder_error = csv.writer(add_file_error, delimiter = ',')\n",
    "        csv_adder_error.writerow(Error)\n",
    "        add_file_error.flush()\n",
    "else:\n",
    "    with open(file_name_error, 'w') as new_file_error:\n",
    "\n",
    "        csv_writer_error = csv.writer(new_file_error, delimiter = ',')\n",
    "#         csv_writer_pars.writerow(Par_fieldnames)\n",
    "        csv_writer_error.writerow(Error)\n",
    "        new_file_error.flush()\n",
    "    \n",
    "#################################################### Storing the Lambda  \n",
    "\n",
    "if os.path.exists(file_name_lambda): \n",
    "    with open(file_name_lambda, 'a') as add_file_lambda:\n",
    "        csv_adder_lambda = csv.writer(add_file_lambda, delimiter = ',')\n",
    "        csv_adder_lambda.writerow(Lambda)\n",
    "        add_file_lambda.flush()\n",
    "else:\n",
    "    print('trouble loading file')\n",
    "\n",
    "\n",
    "############################################# Plotting\n",
    "import matplotlib.pyplot as plt\n",
    "if os.path.isdir(path+'figs')==False:\n",
    "    os.mkdir(path+'figs') \n",
    "# plot the absolute relative error\n",
    "df_err = pd.read_csv(file_name_error, sep = ',', header = None) \n",
    "err_np = df_err.to_numpy()\n",
    "rc_m= np.tile(real_cons[:len(err_np[0,:])] , [err_np.shape[0],1])\n",
    "#print(rc_m.shape)\n",
    "mean_err = np.mean(abs(err_np), axis = 1)\n",
    "# mean_err.shape\n",
    "real_abs = abs(err_np/rc_m)\n",
    "mean_rel_abs = np.mean(real_abs, axis = 1)\n",
    "# mean_err = np.mean(abs(err_np), axis = 1)\n",
    "plt.plot(range(len(mean_rel_abs) ), mean_rel_abs)\n",
    "plt.ylabel('Mean Abs relative Error ')\n",
    "plt.xlabel('Iteration')\n",
    "# plt.title('Iteration[1:]')\n",
    "plt.savefig(path+'figs/error.png')\n",
    "print('saved figure')\n",
    "# save error array \n",
    "np.save(path+'mean_abs_error.npy', mean_rel_abs)\n",
    "# plot the lagrange multipliers \n",
    "\n",
    "# plot the parameters \n",
    "\n",
    "# store the absolute relative error array \n",
    "\n",
    "\n"
   ]
  },
  {
   "cell_type": "code",
   "execution_count": null,
   "metadata": {},
   "outputs": [],
   "source": []
  }
 ],
 "metadata": {
  "kernelspec": {
   "display_name": "Python 3 (ipykernel)",
   "language": "python",
   "name": "python3"
  },
  "language_info": {
   "codemirror_mode": {
    "name": "ipython",
    "version": 3
   },
   "file_extension": ".py",
   "mimetype": "text/x-python",
   "name": "python",
   "nbconvert_exporter": "python",
   "pygments_lexer": "ipython3",
   "version": "3.8.1"
  }
 },
 "nbformat": 4,
 "nbformat_minor": 4
}
