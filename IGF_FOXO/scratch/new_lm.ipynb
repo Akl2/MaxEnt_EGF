{
 "cells": [
  {
   "cell_type": "code",
   "execution_count": 1,
   "id": "6bd92939",
   "metadata": {},
   "outputs": [],
   "source": [
    "\n",
    "import csv\n",
    "import numpy as np \n",
    "import random\n",
    "import time\n",
    "# sve_ivp\n",
    "import os\n",
    "import pandas as pd\n",
    "import matplotlib.pyplot as plt\n",
    "# plt.rcParams.update({'font.size': 15})\n",
    "from Update_LM_functions import calculate_constraints, update_lambda, openfile\n",
    "\n",
    "on_mac = True \n",
    "on_thinkpad = False \n",
    "on_hpg = False"
   ]
  },
  {
   "cell_type": "code",
   "execution_count": 2,
   "id": "b2149d35",
   "metadata": {},
   "outputs": [],
   "source": [
    "read_dictionary = np.load('Cons_1208_Zero2ndMoments.npy',allow_pickle='TRUE').item()\n",
    "\n",
    "    "
   ]
  },
  {
   "cell_type": "code",
   "execution_count": 3,
   "id": "4987c049",
   "metadata": {},
   "outputs": [
    {
     "data": {
      "text/plain": [
       "array([473.3266724 , 454.10860632, 454.92797602, 436.5247793 ,\n",
       "       410.89845591, 399.71709395, 396.37161368, 473.3266724 ,\n",
       "       463.36560404, 448.82085023, 408.61048502, 374.72214861,\n",
       "       359.57389104, 357.00817722, 473.3266724 , 440.84614128,\n",
       "       431.31182823, 380.0354967 , 330.08426843, 317.88807432,\n",
       "       316.34335599, 473.3266724 , 432.45472093, 389.35206541,\n",
       "       273.95826841, 219.50611675, 216.90903078, 221.13188648,\n",
       "         0.        ,   0.        ,   0.        ,   0.        ,\n",
       "         0.        ,   0.        ,   0.        ,   0.        ,\n",
       "         0.        ,   0.        ,   0.        ,   0.        ,\n",
       "         0.        ,   0.        ,   0.        ,   0.        ,\n",
       "         0.        ,   0.        ,   0.        ,   0.        ,\n",
       "         0.        ,   0.        ,   0.        ,   0.        ,\n",
       "         0.        ,   0.        ,   0.        ,   0.        ])"
      ]
     },
     "execution_count": 3,
     "metadata": {},
     "output_type": "execute_result"
    }
   ],
   "source": [
    "read_dictionary['array']"
   ]
  },
  {
   "cell_type": "code",
   "execution_count": null,
   "id": "6992d0ae",
   "metadata": {},
   "outputs": [],
   "source": []
  }
 ],
 "metadata": {
  "kernelspec": {
   "display_name": "Python 3 (ipykernel)",
   "language": "python",
   "name": "python3"
  },
  "language_info": {
   "codemirror_mode": {
    "name": "ipython",
    "version": 3
   },
   "file_extension": ".py",
   "mimetype": "text/x-python",
   "name": "python",
   "nbconvert_exporter": "python",
   "pygments_lexer": "ipython3",
   "version": "3.9.7"
  }
 },
 "nbformat": 4,
 "nbformat_minor": 5
}
