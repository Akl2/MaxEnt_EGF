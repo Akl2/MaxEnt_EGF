{
 "cells": [
  {
   "cell_type": "markdown",
   "metadata": {},
   "source": [
    "The goal of this notebook is to save the new data in order to be able to get constraints "
   ]
  },
  {
   "cell_type": "code",
   "execution_count": 1,
   "metadata": {},
   "outputs": [
    {
     "name": "stdout",
     "output_type": "stream",
     "text": [
      "Last edited: 2022-08-30 12:38:40.684658\n"
     ]
    }
   ],
   "source": [
    "import datetime\n",
    "import numpy as np\n",
    "import os\n",
    "import pandas as pd\n",
    "from collections import defaultdict\n",
    "import matplotlib.pyplot as plt\n",
    "#Created a 01/27/2022 \n",
    "print(f'Last edited: {datetime.datetime.now()}')\n"
   ]
  },
  {
   "cell_type": "code",
   "execution_count": 2,
   "metadata": {},
   "outputs": [
    {
     "name": "stdout",
     "output_type": "stream",
     "text": [
      "saved Sheet2 to dictionary\n",
      "saved 0pM to dictionary\n",
      "saved 10pM to dictionary\n",
      "saved 15pm to dictionary\n",
      "saved 20pM to dictionary\n",
      "saved 25pM to dictionary\n",
      "saved 50pM to dictionary\n",
      "saved 250pM to dictionary\n"
     ]
    }
   ],
   "source": [
    "filepath  = 'Data/IGF/EXP129_RAW.xlsx'\n",
    "xls = pd.ExcelFile(filepath)\n",
    "Data_Dict = defaultdict(lambda: 'Not present')\n",
    "Sheet_labels = ['Sheet2' ,'0pM','10pM','15pm','20pM','25pM', '50pM', '250pM']\n",
    "# conc\n",
    "nSheets = len(Sheet_labels)\n",
    "for i in range(nSheets): \n",
    "    sl = Sheet_labels[i]\n",
    "    df = pd.read_excel(xls, sl ,header=None)\n",
    "    data = df.to_numpy()\n",
    "    Data_Dict[sl] = data\n",
    "    print(f'saved {sl} to dictionary')\n",
    "\n"
   ]
  },
  {
   "cell_type": "code",
   "execution_count": 6,
   "metadata": {},
   "outputs": [
    {
     "name": "stdout",
     "output_type": "stream",
     "text": [
      "10pM\n",
      "15pm\n",
      "20pM\n",
      "25pM\n",
      "50pM\n",
      "250pM\n",
      "22180.27389783454\n",
      "sc = 0.021340283511086165\n"
     ]
    }
   ],
   "source": [
    "### Getting the scaling factor\n",
    "df = pd.read_excel(xls, 'Sheet2' ,header=None)\n",
    "bg_array = df.to_numpy()[:,1]\n",
    "# bg_matrix = np.transpose(np.tile(bg_array, (300,1)))\n",
    "\n",
    "# conc_labels = ['10pM','15pm','20pM','50pM']\n",
    "conc_labels = ['10pM','15pm','20pM','25pM', '50pM', '250pM']\n",
    "# conc_labels = Sheet_labels\n",
    "# conc\n",
    "bgg = 0 \n",
    "ncc = 0\n",
    "# Means_dict = defaultdict(lambda: 'Not present')\n",
    "# Var_dict = defaultdict(lambda:'Not present')\n",
    "# SecondMoment_dict = defaultdict(lambda:'Not present')\n",
    "for key in conc_labels: \n",
    "    print(key)\n",
    "    matrix = Data_Dict[key][:,1:]\n",
    "    ncells = matrix.shape[1]\n",
    "    bg_matrix = np.transpose(np.tile(bg_array, (ncells,1)))\n",
    "#     print(matrix.shape)\n",
    "    ## subtract \n",
    "    data = matrix - bg_matrix\n",
    "#     if key \n",
    "    bgg += np.sum(data[0,:])\n",
    "    ncc += len(data[0,:]) \n",
    "#     Means_dict[key] = np.mean(data, axis = 1)\n",
    "#     SecondMoment_dict[key] = np.mean(data**2, axis = 1)\n",
    "#     Var_dict[key] = np.var(data, axis = 1)\n",
    "    \n",
    "flour_noligand = bgg/ncc\n",
    "print(flour_noligand)\n",
    "n_foxO = 710*2/3 \n",
    "au_foxO = flour_noligand\n",
    "# scale factor \n",
    "sc = n_foxO/au_foxO\n",
    "print(f'sc = {sc}')"
   ]
  },
  {
   "cell_type": "code",
   "execution_count": 7,
   "metadata": {},
   "outputs": [
    {
     "name": "stdout",
     "output_type": "stream",
     "text": [
      "10pM\n",
      "15pm\n",
      "20pM\n",
      "25pM\n",
      "50pM\n",
      "250pM\n"
     ]
    }
   ],
   "source": [
    "### Removing the background and getting the shift\n",
    "df = pd.read_excel(xls, 'Sheet2' ,header=None)\n",
    "bg_array = df.to_numpy()[:,1]\n",
    "# bg_matrix = np.transpose(np.tile(bg_array, (300,1)))\n",
    "\n",
    "# conc_labels = ['10pM','15pm','20pM','50pM']\n",
    "# conc\n",
    "bgg = 0 \n",
    "ncc = 0\n",
    "\n",
    "Means_dict = defaultdict(lambda: 'Not present')\n",
    "for key in conc_labels: \n",
    "    print(key)\n",
    "    matrix = Data_Dict[key][:,1:]\n",
    "    ncells = matrix.shape[1]\n",
    "    bg_matrix = np.transpose(np.tile(bg_array, (ncells,1)))\n",
    "#     print(matrix.shape)\n",
    "    ## subtract \n",
    "    data = (matrix - bg_matrix)*sc\n",
    "#     if key \n",
    "#     bgg += np.sum(data[0,:])\n",
    "#     ncc += len(data[0,:]) \n",
    "    Means_dict[key] = np.mean(data, axis = 1)"
   ]
  },
  {
   "cell_type": "code",
   "execution_count": 8,
   "metadata": {},
   "outputs": [
    {
     "data": {
      "text/plain": [
       "(6, 61)"
      ]
     },
     "execution_count": 8,
     "metadata": {},
     "output_type": "execute_result"
    }
   ],
   "source": [
    "means_matrix = np.zeros((len(conc_labels), 61))\n",
    "i=0\n",
    "for key in conc_labels:\n",
    "    means_matrix[i,:] = Means_dict[key]\n",
    "    i+=1 \n",
    "np.shape(means_matrix)"
   ]
  },
  {
   "cell_type": "code",
   "execution_count": 9,
   "metadata": {},
   "outputs": [],
   "source": [
    "data_shift_dict = defaultdict(lambda: 'not present')\n",
    "data_shift = (np.average(means_matrix[:,0]) - means_matrix[:,0])\n",
    "for i in range(np.shape(means_matrix)[0]):\n",
    "    \n",
    "    means_matrix[i] = means_matrix[i] + data_shift[i]"
   ]
  },
  {
   "cell_type": "markdown",
   "metadata": {},
   "source": [
    "### Saving the data with bg removal, shift added and scaling ."
   ]
  },
  {
   "cell_type": "code",
   "execution_count": 11,
   "metadata": {},
   "outputs": [
    {
     "name": "stdout",
     "output_type": "stream",
     "text": [
      "10pM\n",
      "(61, 301)\n",
      "15pm\n",
      "(61, 300)\n",
      "20pM\n",
      "(61, 300)\n",
      "25pM\n",
      "(61, 300)\n",
      "50pM\n",
      "(61, 300)\n",
      "250pM\n",
      "(61, 300)\n"
     ]
    }
   ],
   "source": [
    "df = pd.read_excel(xls, 'Sheet2' ,header=None)\n",
    "bg_array = df.to_numpy()[:,1]\n",
    "\n",
    "# conc_labels = ['10pM','15pm','20pM','50pM']\n",
    "conc_labels = ['10pM','15pm','20pM','25pM', '50pM', '250pM']\n",
    "\n",
    "# conc\n",
    "bgg = 0 \n",
    "ncc = 0\n",
    "ProDataDict= defaultdict(lambda: 'not present')\n",
    "i=0\n",
    "for key in conc_labels: \n",
    "    print(key)\n",
    "    # load original data \n",
    "    \n",
    "    matrix = Data_Dict[key][:,1:]\n",
    "    ncells = matrix.shape[1]\n",
    "    bg_matrix = np.transpose(np.tile(bg_array, (ncells,1)))\n",
    "    # process the data \n",
    "    data =( ((matrix - bg_matrix)*sc ) + data_shift[i])\n",
    "    print(data.shape)\n",
    "    if key == '15pm':\n",
    "        key='15pM'\n",
    "    ProDataDict[key]= data\n",
    "    i+=1\n",
    "    \n",
    "# bgg/ncc\n",
    "\n",
    "\n"
   ]
  },
  {
   "cell_type": "code",
   "execution_count": 12,
   "metadata": {},
   "outputs": [
    {
     "data": {
      "text/plain": [
       "defaultdict(<function __main__.<lambda>()>,\n",
       "            {'10pM': array([[416.00168574, 594.29975447, 487.29957295, ..., 400.82874416,\n",
       "                     416.59921368, 416.89797764],\n",
       "                    [429.40710309, 541.10214699, 466.47517555, ..., 378.95867287,\n",
       "                     378.93733258, 419.14242672],\n",
       "                    [408.97234878, 582.83163854, 467.16730191, ..., 371.4134498 ,\n",
       "                     388.40031547, 414.02999597],\n",
       "                    ...,\n",
       "                    [402.06352345, 464.20642904, 519.96858985, ..., 401.14589126,\n",
       "                     345.31970959, 430.53146165],\n",
       "                    [393.57006013, 467.32207994, 527.54436001, ..., 394.08222693,\n",
       "                     349.05422872, 424.10800583],\n",
       "                    [407.26549193, 484.09051257, 524.10354415, ..., 389.76645945,\n",
       "                     347.85414264, 420.15502317]]),\n",
       "             '15pM': array([[486.98386909, 573.00655193, 487.77345958, ..., 500.64165054,\n",
       "                     456.14715942, 416.60361407],\n",
       "                    [441.23402055, 510.03509459, 425.93303728, ..., 483.85056672,\n",
       "                     404.33667036, 360.14094321],\n",
       "                    [464.73890999, 535.80205409, 465.54984077, ..., 491.62766722,\n",
       "                     447.30389836, 403.85508114],\n",
       "                    ...,\n",
       "                    [346.83927012, 518.28710785, 425.30749259, ..., 474.13406127,\n",
       "                     343.29678306, 373.32256196],\n",
       "                    [345.49480178, 512.35447855, 436.85255549, ..., 466.45152872,\n",
       "                     341.33344649, 378.14543555],\n",
       "                    [345.78853554, 519.81854757, 429.4424469 , ..., 464.78195639,\n",
       "                     345.78853554, 381.25608673]]),\n",
       "             '20pM': array([[409.81683484, 450.57677635, 522.06672611, ..., 521.31981619,\n",
       "                     580.77384605, 456.38133347],\n",
       "                    [209.4139517 , 230.00732529, 288.65042437, ..., 269.61489148,\n",
       "                     313.49051438, 243.0675788 ],\n",
       "                    [359.21063896, 418.66466882, 499.971149  , ..., 489.62111149,\n",
       "                     550.01411383, 407.71710338],\n",
       "                    ...,\n",
       "                    [316.10869279, 252.36526595, 304.35019658, ..., 336.40330241,\n",
       "                     426.7580628 , 329.83049509],\n",
       "                    [322.34002509, 242.63406618, 308.53286166, ..., 342.82669726,\n",
       "                     433.77898559, 333.18088912],\n",
       "                    [326.47500988, 238.76644465, 317.81085478, ..., 344.8276537 ,\n",
       "                     428.33218308, 330.63636517]]),\n",
       "             '25pM': array([[385.72130733, 258.21311335, 389.09307212, ..., 390.39482942,\n",
       "                     396.64753249, 365.31999629],\n",
       "                    [239.71480685, 180.7729438 , 215.17348081, ..., 278.78886596,\n",
       "                     241.74213379, 192.33937746],\n",
       "                    [372.07648248, 253.06172134, 376.51526145, ..., 380.93270014,\n",
       "                     366.25058508, 359.82715975],\n",
       "                    ...,\n",
       "                    [210.92008794, 216.76732562, 250.54899442, ..., 288.64140048,\n",
       "                     193.52775687, 217.02340902],\n",
       "                    [209.51159874, 209.81036271, 249.43926919, ..., 285.05620237,\n",
       "                     194.61608085, 212.02975219],\n",
       "                    [213.62524325, 211.6192566 , 251.93105215, ..., 284.68838734,\n",
       "                     190.70577876, 213.47586126]]),\n",
       "             '50pM': array([[486.44154136, 488.59690999, 594.44471621, ..., 432.68536719,\n",
       "                     507.71780402, 357.4822081 ],\n",
       "                    [333.2860459 , 251.95822544, 308.9581227 , ..., 175.21856594,\n",
       "                     197.36978022, 158.91458933],\n",
       "                    [451.86189839, 447.46579998, 548.81080638, ..., 405.04131636,\n",
       "                     466.45865231, 322.51844002],\n",
       "                    ...,\n",
       "                    [253.06124373, 278.28545884, 346.48900494, ..., 256.39032795,\n",
       "                     197.00031894, 135.07081619],\n",
       "                    [255.68606811, 281.59317229, 345.25123801, ..., 257.28658937,\n",
       "                     195.82657286, 131.80572233],\n",
       "                    [249.76977937, 277.89627304, 338.58803934, ..., 250.66607128,\n",
       "                     195.07463273, 135.8340057 ]]),\n",
       "             '250pM': array([[563.01752089, 578.59592785, 556.87151924, ..., 595.30536984,\n",
       "                     575.18148249, 550.7041773 ],\n",
       "                    [242.61822356, 215.34534123, 313.59600652, ..., 229.64333118,\n",
       "                     135.76742402, 231.26519273],\n",
       "                    [440.36652787, 451.27141274, 451.9756421 , ..., 533.11140001,\n",
       "                     453.64018421, 433.62299828],\n",
       "                    ...,\n",
       "                    [171.88984754, 161.94527543, 194.04106183, ..., 132.83712872,\n",
       "                     243.40113759, 116.49047155],\n",
       "                    [170.65208061, 159.44843177, 210.19562596, ..., 131.72740349,\n",
       "                     239.83727976, 110.34443941],\n",
       "                    [172.97314131, 162.79382607, 206.79749067, ..., 133.87774191,\n",
       "                     233.87831045, 115.56777866]])})"
      ]
     },
     "execution_count": 12,
     "metadata": {},
     "output_type": "execute_result"
    }
   ],
   "source": [
    "ProDataDict"
   ]
  },
  {
   "cell_type": "code",
   "execution_count": 14,
   "metadata": {},
   "outputs": [],
   "source": [
    "## Save the data \n",
    "# ProDataDict = dict(ProDataDict)\n",
    "np.save('ProDataDict_allconc.npy', dict(ProDataDict), allow_pickle=True)"
   ]
  },
  {
   "cell_type": "code",
   "execution_count": 15,
   "metadata": {},
   "outputs": [
    {
     "data": {
      "text/plain": [
       "42"
      ]
     },
     "execution_count": 15,
     "metadata": {},
     "output_type": "execute_result"
    }
   ],
   "source": [
    "6*7"
   ]
  },
  {
   "cell_type": "code",
   "execution_count": null,
   "metadata": {},
   "outputs": [],
   "source": []
  }
 ],
 "metadata": {
  "kernelspec": {
   "display_name": "Python 3",
   "language": "python",
   "name": "python3"
  },
  "language_info": {
   "codemirror_mode": {
    "name": "ipython",
    "version": 3
   },
   "file_extension": ".py",
   "mimetype": "text/x-python",
   "name": "python",
   "nbconvert_exporter": "python",
   "pygments_lexer": "ipython3",
   "version": "3.7.6"
  }
 },
 "nbformat": 4,
 "nbformat_minor": 5
}
