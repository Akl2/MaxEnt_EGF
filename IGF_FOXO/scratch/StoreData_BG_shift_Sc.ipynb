{
 "cells": [
  {
   "cell_type": "code",
   "execution_count": 49,
   "metadata": {},
   "outputs": [],
   "source": [
    "import datetime\n",
    "import numpy as np\n",
    "import os\n",
    "import pandas as pd\n",
    "from collections import defaultdict\n",
    "import matplotlib.pyplot as plt\n",
    "\n"
   ]
  },
  {
   "cell_type": "code",
   "execution_count": 50,
   "metadata": {},
   "outputs": [
    {
     "name": "stdout",
     "output_type": "stream",
     "text": [
      "Last edited: 2021-12-13 16:32:32.580121\n"
     ]
    }
   ],
   "source": [
    "#Created a 07/23/2021 \n",
    "#Last opened \n",
    "print(f'Last edited: {datetime.datetime.now()}')"
   ]
  },
  {
   "cell_type": "markdown",
   "metadata": {},
   "source": [
    "Get the background first <br>\n",
    "Then shift so that all of them start at the same point  <br>\n",
    "Then do the scaling "
   ]
  },
  {
   "cell_type": "code",
   "execution_count": 54,
   "metadata": {},
   "outputs": [
    {
     "name": "stdout",
     "output_type": "stream",
     "text": [
      "saved Sheet2 to dictionary\n",
      "saved 0pM to dictionary\n",
      "saved 10pM to dictionary\n",
      "saved 15pm to dictionary\n",
      "saved 20pM to dictionary\n",
      "saved 25pM to dictionary\n",
      "saved 50pM to dictionary\n",
      "saved 250pM to dictionary\n"
     ]
    }
   ],
   "source": [
    "# load constraints from the data and save all the means and 2nd moments, then save all the required points \n",
    "## saving Data of IGF\n",
    "filepath  = 'Data/IGF/EXP129_RAW.xlsx'\n",
    "\n",
    "# df = pd.read_excel(xls, 'Sheet2' ,header=None)\n",
    "# bg_array = df.to_numpy()[:,1]\n",
    "\n",
    "xls = pd.ExcelFile(filepath)\n",
    "Data_Dict = defaultdict(lambda: 'Not present')\n",
    "Sheet_labels = ['Sheet2' ,'0pM','10pM','15pm','20pM','25pM', '50pM', '250pM']\n",
    "# conc\n",
    "nSheets = len(Sheet_labels)\n",
    "for i in range(nSheets): \n",
    "    sl = Sheet_labels[i]\n",
    "    df = pd.read_excel(xls, sl ,header=None)\n",
    "    data = df.to_numpy()\n",
    "    Data_Dict[sl] = data\n",
    "    print(f'saved {sl} to dictionary')\n"
   ]
  },
  {
   "cell_type": "code",
   "execution_count": 86,
   "metadata": {},
   "outputs": [
    {
     "name": "stdout",
     "output_type": "stream",
     "text": [
      "10pM\n",
      "(61,)\n",
      "15pm\n",
      "(61,)\n",
      "20pM\n",
      "(61,)\n",
      "50pM\n",
      "(61,)\n",
      "22530.951948376358\n"
     ]
    }
   ],
   "source": [
    "bg_array = Data_Dict['Sheet2'][:,1]\n",
    "bg_matrix = np.transpose(np.tile(bg_array, (300,1)))\n",
    "# conc\n",
    "mean_bgrem = defaultdict(lambda: 'not present')\n",
    "bgg = 0 \n",
    "ncc = 0\n",
    "bg_removed_dict = defaultdict(lambda: 'Not present')\n",
    "conc_labels = ['10pM','15pm','20pM','50pM']\n",
    "for key in conc_labels: \n",
    "    print(key)\n",
    "    matrix = Data_Dict[key][:,1:]\n",
    "    ncells = matrix.shape[1]\n",
    "    bg_matrix = np.transpose(np.tile(bg_array, (ncells,1)))\n",
    "\n",
    "    data = matrix - bg_matrix\n",
    "    bgg += np.sum(data[0,:])\n",
    "    ncc += len(data[0,:]) \n",
    "    bg_removed_dict[key] = data\n",
    "    mean_bgrem[key] = np.mean(data, axis = 1)\n",
    "    print(mean_bgrem[key].shape)\n",
    "\n",
    "Mean_all_cells_ov_all_cells = bgg/ncc\n",
    "print(Mean_all_cells_ov_all_cells)"
   ]
  },
  {
   "cell_type": "code",
   "execution_count": 87,
   "metadata": {},
   "outputs": [
    {
     "data": {
      "text/plain": [
       "['10pM', '15pm', '20pM', '50pM']"
      ]
     },
     "execution_count": 87,
     "metadata": {},
     "output_type": "execute_result"
    }
   ],
   "source": [
    "conc_labels"
   ]
  },
  {
   "cell_type": "code",
   "execution_count": 88,
   "metadata": {},
   "outputs": [],
   "source": [
    "n_foxO = 710*2/3 \n",
    "au_foxO = 22530.951948376358\n",
    "# scale factor \n",
    "sc = n_foxO/au_foxO\n",
    "\n",
    "\n",
    "drift = np.zeros(len(conc_labels))\n",
    "# data_bg_sh_sc = defaultdict(lambda: 'not present')\n",
    "means_bg_sh_sc = defaultdict(lambda: 'not present')\n",
    "sm_bg_sh_sc = defaultdict(lambda: 'not present')\n",
    "\n",
    "\n",
    "for i in range(len(drift)): \n",
    "    key = conc_labels[i]\n",
    "    drift[i] = Mean_all_cells_ov_all_cells - mean_bgrem[key][0]\n",
    "    data = bg_removed_dict[key] \n",
    "    data += drift[i]\n",
    "    \n",
    "    means_bg_sh[key ] = np.mean(data, axis = 1)\n",
    "    \n",
    "    data2 = data * sc \n",
    "    \n",
    "    \n",
    "    means_bg_sh_sc[key] = np.mean(data2, axis =1)\n",
    "    \n",
    "    sm_bg_sh_sc[key] = np.mean(data2**2 , axis =1)\n",
    "    \n",
    "\n",
    "    \n",
    "    \n",
    "    \n",
    "#     means_bg_sh[key ] = np.mean(data, axis = 1)\n",
    "    \n",
    "    \n",
    "    \n",
    "    \n",
    "    \n",
    "    "
   ]
  },
  {
   "cell_type": "code",
   "execution_count": 101,
   "metadata": {},
   "outputs": [
    {
     "data": {
      "text/plain": [
       "defaultdict(<function __main__.<lambda>()>,\n",
       "            {'10pM': array([228871.37514697, 190161.07167463, 210515.38738396, 211915.66155146,\n",
       "                    211707.29795449, 205631.16443147, 202978.3085275 , 199199.93717261,\n",
       "                    195454.58971385, 191912.3558708 , 188428.21562382, 185269.99018773,\n",
       "                    181947.87535975, 178930.42781927, 176869.19361498, 174209.21366677,\n",
       "                    171684.90475895, 170202.63851865, 168312.65084522, 166713.02840032,\n",
       "                    165514.94135594, 164405.14278667, 163909.86694219, 163445.73816543,\n",
       "                    163247.92370094, 163213.61631202, 162369.68276851, 162384.28783418,\n",
       "                    162347.26696382, 162670.17941838, 162745.85950338, 163279.98397235,\n",
       "                    163256.86081286, 163445.21969947, 163733.12228732, 164510.50706471,\n",
       "                    164010.04137496, 164365.22504606, 165025.61828054, 164588.30052729,\n",
       "                    164573.09546939, 165243.9999571 , 165691.75701479, 166005.90028273,\n",
       "                    166336.63647822, 166584.9136967 , 166875.19080072, 167351.02395378,\n",
       "                    168093.87297916, 168465.65149995, 168177.94452597, 168835.70532006,\n",
       "                    168827.54515011, 169527.93498205, 169547.31421037, 170202.59514587,\n",
       "                    170740.06345027, 170954.13288493, 171712.88340516, 172126.68710747,\n",
       "                    173167.96494809]),\n",
       "             '15pm': array([229014.60219156, 204109.79860325, 219584.45672   , 212352.63229436,\n",
       "                    206266.50355938, 186512.21896388, 181928.55004141, 176941.64718427,\n",
       "                    171887.66948118, 167295.60471855, 162417.70439566, 158531.26949728,\n",
       "                    154972.37824249, 151992.85405237, 148838.21904258, 146140.86962905,\n",
       "                    144549.85323425, 142055.93784481, 140072.49242561, 137132.69185459,\n",
       "                    135321.6812944 , 133471.29618366, 132543.47133421, 131889.92147408,\n",
       "                    131629.39501559, 131912.9824981 , 131669.85630401, 132117.26947071,\n",
       "                    132521.88572775, 132834.37716904, 133545.02499086, 134745.23711985,\n",
       "                    134975.59450444, 135906.89704617, 136561.26430519, 137267.56341374,\n",
       "                    138646.39290171, 139617.4387215 , 140115.98912301, 140887.82419926,\n",
       "                    141459.45674306, 142285.48584706, 143303.40546343, 144069.27135312,\n",
       "                    144890.65946025, 146016.46068854, 146827.36878298, 147907.35343361,\n",
       "                    148528.48869793, 149108.03113319, 149642.80427159, 150539.03669797,\n",
       "                    151185.36436238, 152078.70608531, 152619.74860191, 153537.92931325,\n",
       "                    154310.76422371, 155139.58364082, 156064.40288192, 156351.41975133,\n",
       "                    157432.02070065]),\n",
       "             '20pM': array([228664.90222392,  69051.94719959, 198290.11646926, 196591.61930699,\n",
       "                    190321.42482947, 174384.099797  , 165744.75250399, 157039.22709536,\n",
       "                    149116.49269571, 142150.61624392, 135792.31583689, 130263.27451901,\n",
       "                    125375.99269406, 121260.56955056, 117059.77957726, 114302.7094771 ,\n",
       "                    112577.68984415, 110852.39430786, 109236.57462249, 107858.58880457,\n",
       "                    106623.37223619, 106065.07679815, 105979.30794319, 105088.48862479,\n",
       "                    104719.64272413, 104871.82831927, 105135.80934387, 105086.55016196,\n",
       "                    105477.7270932 , 105695.76097975, 105800.9208639 , 105665.85770805,\n",
       "                    105155.25835559, 105693.31099744, 105789.40167815, 106052.15204663,\n",
       "                    106738.7550073 , 107078.63408633, 107311.31180187, 107774.89912428,\n",
       "                    108175.4275891 , 108710.74823536, 109461.846948  , 109982.36395918,\n",
       "                    110588.97779614, 110976.81382664, 111640.66852236, 112428.57787173,\n",
       "                    113342.62226155, 114160.7397832 , 114541.1537496 , 115443.52700761,\n",
       "                    116183.49347257, 116812.33785851, 117853.01130206, 118057.26723009,\n",
       "                    119041.8764386 , 120172.67691993, 120960.51568002, 121944.4447684 ,\n",
       "                    122601.7254459 ]),\n",
       "             '50pM': array([230442.32684204,  63629.46782947, 192397.01941314, 176625.40943747,\n",
       "                    156622.60713005, 119627.92618722, 103575.38093616,  89929.33426814,\n",
       "                     79187.38935356,  70559.896741  ,  64358.94373784,  59734.62908448,\n",
       "                     56390.4640436 ,  54169.43707847,  52759.60340683,  51408.53564467,\n",
       "                     50669.42208967,  50427.272858  ,  50487.91013245,  50395.01111774,\n",
       "                     50228.94425968,  50577.64108817,  50688.41187521,  50688.31307005,\n",
       "                     50942.81714108,  51318.13894184,  51553.94088612,  51614.15477565,\n",
       "                     52035.83104387,  52040.56941979,  52307.16162041,  52675.73849297,\n",
       "                     52587.40283769,  53112.88978848,  53183.86799101,  53474.84564076,\n",
       "                     53858.66364345,  53930.77693213,  54130.1577692 ,  54779.13128393,\n",
       "                     55200.64904421,  55419.93787368,  55615.75347638,  55981.51535997,\n",
       "                     56130.56452805,  56530.01987012,  56939.10157301,  57261.34459362,\n",
       "                     57779.24004741,  57634.28459326,  58019.99311624,  58226.53745042,\n",
       "                     58335.33904325,  58824.52644665,  59358.69264932,  59534.44025633,\n",
       "                     59870.01021659,  60209.70040004,  60759.10286958,  61034.48158747,\n",
       "                     61400.53429505])})"
      ]
     },
     "execution_count": 101,
     "metadata": {},
     "output_type": "execute_result"
    }
   ],
   "source": [
    "sm_bg_sh_sc"
   ]
  },
  {
   "cell_type": "code",
   "execution_count": 97,
   "metadata": {},
   "outputs": [
    {
     "data": {
      "text/plain": [
       "array([-380.47758651, -129.27138496,  -15.29805162,  526.31528171])"
      ]
     },
     "execution_count": 97,
     "metadata": {},
     "output_type": "execute_result"
    }
   ],
   "source": [
    "drift"
   ]
  },
  {
   "cell_type": "code",
   "execution_count": null,
   "metadata": {},
   "outputs": [],
   "source": [
    "## make the shift \n",
    "# Use this for the caling\n",
    "# au_fox0 = 22121.924935744886\n"
   ]
  },
  {
   "cell_type": "code",
   "execution_count": null,
   "metadata": {},
   "outputs": [],
   "source": []
  },
  {
   "cell_type": "markdown",
   "metadata": {},
   "source": [
    "### Saving the data with bg removal, shift added and scaling ."
   ]
  },
  {
   "cell_type": "markdown",
   "metadata": {},
   "source": [
    "### Getting the constraints and saving them "
   ]
  },
  {
   "cell_type": "code",
   "execution_count": 33,
   "metadata": {
    "scrolled": true
   },
   "outputs": [
    {
     "data": {
      "text/plain": [
       "array([  0,   3,   6,   9,  12,  15,  18,  21,  24,  27,  30,  33,  36,\n",
       "        39,  42,  45,  48,  51,  54,  57,  60,  63,  66,  69,  72,  75,\n",
       "        78,  81,  84,  87,  90,  93,  96,  99, 102, 105, 108, 111, 114,\n",
       "       117, 120, 123, 126, 129, 132, 135, 138, 141, 144, 147, 150, 153,\n",
       "       156, 159, 162, 165, 168, 171, 174, 177, 180])"
      ]
     },
     "execution_count": 33,
     "metadata": {},
     "output_type": "execute_result"
    }
   ],
   "source": [
    "time_points = Data_Dict[key][:,0]\n",
    "time_points"
   ]
  },
  {
   "cell_type": "code",
   "execution_count": 98,
   "metadata": {},
   "outputs": [],
   "source": [
    "time_values = [0,6,12,24,45,60,90]\n",
    "times_constrained = np.array(time_values) #minutes \n",
    "idx_list = np.array(times_constrained/3, dtype=int)"
   ]
  },
  {
   "cell_type": "code",
   "execution_count": 99,
   "metadata": {},
   "outputs": [
    {
     "data": {
      "text/plain": [
       "array([ 0,  6, 12, 24, 45, 60, 90])"
      ]
     },
     "execution_count": 99,
     "metadata": {},
     "output_type": "execute_result"
    }
   ],
   "source": [
    "times_constrained"
   ]
  },
  {
   "cell_type": "code",
   "execution_count": 100,
   "metadata": {},
   "outputs": [
    {
     "data": {
      "text/plain": [
       "array([ 0,  2,  4,  8, 15, 20, 30])"
      ]
     },
     "execution_count": 100,
     "metadata": {},
     "output_type": "execute_result"
    }
   ],
   "source": [
    "idx_list"
   ]
  },
  {
   "cell_type": "code",
   "execution_count": 43,
   "metadata": {},
   "outputs": [],
   "source": [
    "# constraints_means_dict = defaultdict(lambda: 'not present')\n",
    "conc_list = [10,15,20,50]\n",
    "conc_labels = ['10pM','15pm','20pM','50pM']\n",
    "labels_arr = []\n",
    "cons_arr = np.zeros(len(conc_list)* len(time_values)*2)\n",
    "k=0\n",
    "titles_list = []\n",
    "means_list = []\n",
    "sm_list = []\n",
    "for i in range(len(conc_list)):\n",
    "    for j in range(len(time_values)):\n",
    "        title = f'{conc_list[i]}_pM_{time_values[j]}_min'\n",
    "        # save the means\n",
    "        key = conc_labels[i]\n",
    "        means_list.append(Means_dict[key][idx_list[j]])\n",
    "        # save the second moments \n",
    "        sm_list.append(SecondMoment_dict[key][idx_list[j]])\n",
    "        # save the titles \n",
    "        labels_arr.append(title)\n"
   ]
  },
  {
   "cell_type": "code",
   "execution_count": 46,
   "metadata": {
    "scrolled": true
   },
   "outputs": [
    {
     "data": {
      "text/plain": [
       "array([5.35957951, 5.32327137, 5.3257234 , 5.29103295, 5.24105747,\n",
       "       5.21882323, 5.21149586, 5.35985122, 5.34158939, 5.31441612,\n",
       "       5.23523097, 5.16475685, 5.13135201, 5.12561225, 5.35918753,\n",
       "       5.2972882 , 5.27947457, 5.17351093, 5.05803982, 5.02783516,\n",
       "       5.02447215, 5.36255037, 5.28418533, 5.19484007, 4.89863601,\n",
       "       4.71101053, 4.70092906, 4.71853669])"
      ]
     },
     "execution_count": 46,
     "metadata": {},
     "output_type": "execute_result"
    }
   ],
   "source": [
    "np.log10(sm_list)"
   ]
  },
  {
   "cell_type": "code",
   "execution_count": 61,
   "metadata": {},
   "outputs": [
    {
     "data": {
      "text/plain": [
       "['10_pM_0_min',\n",
       " '10_pM_6_min',\n",
       " '10_pM_12_min',\n",
       " '10_pM_24_min',\n",
       " '10_pM_45_min',\n",
       " '10_pM_60_min',\n",
       " '10_pM_90_min',\n",
       " '15_pM_0_min',\n",
       " '15_pM_6_min',\n",
       " '15_pM_12_min',\n",
       " '15_pM_24_min',\n",
       " '15_pM_45_min',\n",
       " '15_pM_60_min',\n",
       " '15_pM_90_min',\n",
       " '20_pM_0_min',\n",
       " '20_pM_6_min',\n",
       " '20_pM_12_min',\n",
       " '20_pM_24_min',\n",
       " '20_pM_45_min',\n",
       " '20_pM_60_min',\n",
       " '20_pM_90_min',\n",
       " '50_pM_0_min',\n",
       " '50_pM_6_min',\n",
       " '50_pM_12_min',\n",
       " '50_pM_24_min',\n",
       " '50_pM_45_min',\n",
       " '50_pM_60_min',\n",
       " '50_pM_90_min']"
      ]
     },
     "execution_count": 61,
     "metadata": {},
     "output_type": "execute_result"
    }
   ],
   "source": [
    "labels_arr"
   ]
  },
  {
   "cell_type": "code",
   "execution_count": 62,
   "metadata": {},
   "outputs": [],
   "source": [
    "dictionary = {'labels': labels_arr, 'array':cons_arr}"
   ]
  },
  {
   "cell_type": "code",
   "execution_count": 63,
   "metadata": {},
   "outputs": [],
   "source": [
    "np.save('Cons_1208_Zero2ndMoments.npy', dictionary) \n",
    "\n"
   ]
  },
  {
   "cell_type": "code",
   "execution_count": 65,
   "metadata": {},
   "outputs": [],
   "source": [
    "np.save('/Volumes/hodaakl/A5MCMC_IGF_FoxO/Arrays_for_max_ent/Cons_1208_Zero2ndMoments.npy', dictionary) \n",
    "\n"
   ]
  },
  {
   "cell_type": "code",
   "execution_count": null,
   "metadata": {},
   "outputs": [],
   "source": []
  },
  {
   "cell_type": "code",
   "execution_count": 58,
   "metadata": {},
   "outputs": [
    {
     "data": {
      "text/plain": [
       "{'labels': ['10_pM_0_min',\n",
       "  '10_pM_6_min',\n",
       "  '10_pM_12_min',\n",
       "  '10_pM_24_min',\n",
       "  '10_pM_45_min',\n",
       "  '10_pM_60_min',\n",
       "  '10_pM_90_min',\n",
       "  '15_pM_0_min',\n",
       "  '15_pM_6_min',\n",
       "  '15_pM_12_min',\n",
       "  '15_pM_24_min',\n",
       "  '15_pM_45_min',\n",
       "  '15_pM_60_min',\n",
       "  '15_pM_90_min',\n",
       "  '20_pM_0_min',\n",
       "  '20_pM_6_min',\n",
       "  '20_pM_12_min',\n",
       "  '20_pM_24_min',\n",
       "  '20_pM_45_min',\n",
       "  '20_pM_60_min',\n",
       "  '20_pM_90_min',\n",
       "  '50_pM_0_min',\n",
       "  '50_pM_6_min',\n",
       "  '50_pM_12_min',\n",
       "  '50_pM_24_min',\n",
       "  '50_pM_45_min',\n",
       "  '50_pM_60_min',\n",
       "  '50_pM_90_min'],\n",
       " 'array': array([473.3266724 , 454.10860632, 454.92797602, 436.5247793 ,\n",
       "        410.89845591, 399.71709395, 396.37161368, 473.3266724 ,\n",
       "        463.36560404, 448.82085023, 408.61048502, 374.72214861,\n",
       "        359.57389104, 357.00817722, 473.3266724 , 440.84614128,\n",
       "        431.31182823, 380.0354967 , 330.08426843, 317.88807432,\n",
       "        316.34335599, 473.3266724 , 432.45472093, 389.35206541,\n",
       "        273.95826841, 219.50611675, 216.90903078, 221.13188648])}"
      ]
     },
     "execution_count": 58,
     "metadata": {},
     "output_type": "execute_result"
    }
   ],
   "source": [
    "dictionary"
   ]
  },
  {
   "cell_type": "code",
   "execution_count": 18,
   "metadata": {},
   "outputs": [],
   "source": [
    "# n_foxO = 710*2/3 \n",
    "# au_foxO = 22530.951948376358\n",
    "# # scale factor \n",
    "# sc = n_foxO/au_foxO\n",
    "# # sc\n",
    "\n",
    "# # initialize data matrix that contains mean values \n",
    "# means_matrix = np.zeros((len(Means_dict),data.shape[0]))\n",
    "# i=0\n",
    "# for key in Means_dict: \n",
    "#     means_matrix[i,:] = Means_dict[key]* sc\n",
    "#     i+=1 \n",
    "    \n"
   ]
  },
  {
   "cell_type": "code",
   "execution_count": null,
   "metadata": {},
   "outputs": [],
   "source": []
  },
  {
   "cell_type": "code",
   "execution_count": 33,
   "metadata": {},
   "outputs": [],
   "source": [
    "# these have 61 points in each array, for 61 measurements \n",
    "SecondMoment_dict = dict(Means_dict)\n",
    "np.save('Arrays_for_max_ent/SecondMoment_Dictionary.npy', SecondMoment_dict)#, allow_pickle=True) "
   ]
  },
  {
   "cell_type": "code",
   "execution_count": 34,
   "metadata": {},
   "outputs": [],
   "source": [
    "# these have 61 points in each array, for 61 measurements \n",
    "Var_dict = dict(Var_dict)\n",
    "np.save('Arrays_for_max_ent/Variance_Dictionary.npy', Var_dict)#, allow_pickle=True) "
   ]
  },
  {
   "cell_type": "code",
   "execution_count": 35,
   "metadata": {
    "collapsed": true,
    "jupyter": {
     "outputs_hidden": true
    }
   },
   "outputs": [
    {
     "data": {
      "text/plain": [
       "array({'0pM': array([25489.34666667, 22560.97666667, 24270.98333333, 24165.06      ,\n",
       "       24214.46666667, 24113.4       , 24133.50333333, 24191.44333333,\n",
       "       24239.72      , 24300.82      , 24307.35666667, 24378.20333333,\n",
       "       24378.68      , 24454.94      , 24452.21666667, 24502.26      ,\n",
       "       24531.81666667, 24562.89333333, 24566.34      , 24585.95      ,\n",
       "       24631.36      , 24629.25333333, 24668.28      , 24675.84333333,\n",
       "       24706.13666667, 24717.19666667, 24696.08666667, 24704.83333333,\n",
       "       24721.64666667, 24773.01333333, 24815.79666667, 24802.21666667,\n",
       "       24807.68      , 24816.63666667, 24859.97      , 24886.76333333,\n",
       "       24925.70666667, 24942.10666667, 24960.27      , 24972.66      ,\n",
       "       25040.71666667, 25031.67      , 25029.28      , 25051.52666667,\n",
       "       25075.49666667, 25083.17      , 25111.35333333, 25124.02333333,\n",
       "       25132.53333333, 25175.16333333, 25166.63666667, 25162.2       ,\n",
       "       25206.18333333, 25228.42666667, 25229.37666667, 25244.85666667,\n",
       "       25237.82      , 25240.22666667, 25244.81666667, 25266.04666667,\n",
       "       25299.56666667]), '10pM': array([26629.13953488, 24701.81063123, 25580.74086379, 25637.35880399,\n",
       "       25612.27906977, 25170.62458472, 25026.47840532, 24824.6910299 ,\n",
       "       24624.97009967, 24423.59800664, 24224.3654485 , 24037.40531561,\n",
       "       23834.05980066, 23650.85049834, 23523.59136213, 23366.93023256,\n",
       "       23211.51162791, 23112.11295681, 22990.28903654, 22891.83056478,\n",
       "       22810.94352159, 22734.82059801, 22705.95348837, 22673.66112957,\n",
       "       22659.76079734, 22646.10631229, 22599.17275748, 22598.95016611,\n",
       "       22592.00664452, 22613.30564784, 22608.14950166, 22628.71096346,\n",
       "       22633.089701  , 22630.72425249, 22646.72757475, 22689.73754153,\n",
       "       22672.41860465, 22687.0166113 , 22719.25581395, 22693.84053156,\n",
       "       22690.97342193, 22725.78737542, 22753.80066445, 22767.58139535,\n",
       "       22783.64119601, 22800.00332226, 22822.23255814, 22845.48504983,\n",
       "       22879.83388704, 22900.87043189, 22878.2358804 , 22914.67774086,\n",
       "       22914.6013289 , 22953.66112957, 22954.62126246, 22994.90033223,\n",
       "       23012.37873754, 23025.99335548, 23056.54152824, 23081.69435216,\n",
       "       23123.71760797]), '15pm': array([26377.93333333, 25081.08333333, 25770.17333333, 25391.37333333,\n",
       "       25070.37      , 23900.19      , 23639.45333333, 23344.10333333,\n",
       "       23045.02666667, 22763.41      , 22459.60666667, 22215.09666667,\n",
       "       21972.44      , 21782.26      , 21568.39      , 21393.71      ,\n",
       "       21277.96333333, 21113.66666667, 20974.7       , 20779.44333333,\n",
       "       20648.89666667, 20520.51333333, 20457.33333333, 20410.02666667,\n",
       "       20388.94666667, 20402.78333333, 20385.82333333, 20410.52      ,\n",
       "       20430.05666667, 20452.74333333, 20483.22      , 20558.43666667,\n",
       "       20576.1       , 20629.12333333, 20674.92      , 20716.54666667,\n",
       "       20810.42666667, 20873.40666667, 20903.83666667, 20951.87333333,\n",
       "       20985.84666667, 21030.83666667, 21095.28      , 21135.82333333,\n",
       "       21183.51      , 21242.89666667, 21292.82666667, 21357.40333333,\n",
       "       21389.88      , 21426.21      , 21452.83333333, 21507.20666667,\n",
       "       21537.34333333, 21582.9       , 21616.69666667, 21668.59      ,\n",
       "       21714.39333333, 21760.66      , 21809.31666667, 21828.45      ,\n",
       "       21869.66333333]), '20pM': array([26263.96      , 16139.77666667, 24584.26      , 24474.37      ,\n",
       "       24122.95666667, 23096.03666667, 22589.78333333, 22062.86666667,\n",
       "       21570.86666667, 21118.23666667, 20695.83666667, 20310.33333333,\n",
       "       19953.92666667, 19659.98666667, 19358.61666667, 19154.94666667,\n",
       "       19008.45666667, 18872.75      , 18748.72      , 18649.57333333,\n",
       "       18550.65333333, 18491.51666667, 18479.08333333, 18410.95333333,\n",
       "       18381.37      , 18386.68666667, 18402.49666667, 18399.12333333,\n",
       "       18416.92333333, 18432.43      , 18433.57666667, 18414.76333333,\n",
       "       18374.11      , 18413.41      , 18421.35333333, 18439.42666667,\n",
       "       18498.49666667, 18520.6       , 18533.91      , 18558.24333333,\n",
       "       18584.15666667, 18616.49      , 18670.35333333, 18710.53      ,\n",
       "       18745.14333333, 18766.74666667, 18817.52333333, 18867.94666667,\n",
       "       18932.26      , 18997.02      , 19019.41333333, 19085.79      ,\n",
       "       19131.5       , 19174.37      , 19247.18333333, 19265.72      ,\n",
       "       19328.71666667, 19395.63      , 19447.39666667, 19518.07333333,\n",
       "       19538.19      ]), '25pM': array([25028.07      , 14698.65      , 24102.68333333, 24084.62333333,\n",
       "       23689.69666667, 22275.53      , 21775.48333333, 21189.03333333,\n",
       "       20595.28333333, 19984.46333333, 19380.05333333, 18834.77666667,\n",
       "       18312.93      , 17858.56333333, 17472.19      , 17104.38      ,\n",
       "       16801.46666667, 16566.09333333, 16355.45      , 16207.14333333,\n",
       "       16043.79666667, 15879.78666667, 15813.25666667, 15733.18333333,\n",
       "       15663.88666667, 15613.55      , 15570.18      , 15518.24333333,\n",
       "       15485.07      , 15466.97666667, 15474.88666667, 15455.83666667,\n",
       "       15470.58      , 15452.62666667, 15465.59      , 15467.01333333,\n",
       "       15525.22      , 15547.03666667, 15560.52333333, 15571.8       ,\n",
       "       15588.63333333, 15598.51666667, 15637.91333333, 15668.38      ,\n",
       "       15696.81      , 15733.86666667, 15732.76      , 15751.88333333,\n",
       "       15783.26666667, 15813.87333333, 15844.99666667, 15872.55      ,\n",
       "       15926.72333333, 15954.96333333, 16005.07333333, 16027.32666667,\n",
       "       16054.95666667, 16104.68666667, 16109.99333333, 16131.24333333,\n",
       "       16142.58666667]), '50pM': array([25722.34666667, 14807.07333333, 23643.21      , 22757.20666667,\n",
       "       21584.03333333, 19079.97      , 17921.25      , 16868.19      ,\n",
       "       15979.91333333, 15225.80333333, 14651.73333333, 14201.49666667,\n",
       "       13855.94666667, 13625.92666667, 13478.25666667, 13349.74666667,\n",
       "       13272.23666667, 13235.31      , 13228.02333333, 13224.21666667,\n",
       "       13202.37666667, 13224.08      , 13239.33333333, 13236.00333333,\n",
       "       13253.71333333, 13292.74      , 13304.74      , 13311.95333333,\n",
       "       13344.47      , 13336.46      , 13359.84      , 13384.26333333,\n",
       "       13384.05      , 13435.09      , 13440.54      , 13470.77333333,\n",
       "       13515.66333333, 13528.80333333, 13540.19      , 13598.1       ,\n",
       "       13639.41      , 13655.92333333, 13670.81333333, 13706.67666667,\n",
       "       13712.35666667, 13745.91333333, 13784.76      , 13806.82666667,\n",
       "       13856.55      , 13848.11333333, 13877.02666667, 13896.85666667,\n",
       "       13905.44333333, 13949.58666667, 13999.64333333, 14016.09333333,\n",
       "       14051.14333333, 14076.84666667, 14122.90666667, 14151.12      ,\n",
       "       14165.36      ]), '250pM': array([25364.01666667, 15195.07      , 22210.54      , 19728.        ,\n",
       "       17204.36      , 13922.90333333, 12978.19      , 12416.83333333,\n",
       "       12114.49      , 11969.74666667, 11904.13333333, 11855.19333333,\n",
       "       11788.52666667, 11766.25333333, 11788.97      , 11753.69333333,\n",
       "       11722.17      , 11688.26666667, 11694.60666667, 11664.38666667,\n",
       "       11636.50666667, 11631.21      , 11614.94666667, 11621.21666667,\n",
       "       11594.24333333, 11557.25333333, 11549.51666667, 11528.84      ,\n",
       "       11533.48      , 11532.58666667, 11512.52666667, 11492.07333333,\n",
       "       11484.97      , 11461.57666667, 11450.52      , 11479.88666667,\n",
       "       11483.97666667, 11458.9       , 11427.47666667, 11427.85      ,\n",
       "       11420.33      , 11420.40666667, 11420.97      , 11383.28      ,\n",
       "       11372.50333333, 11390.21      , 11393.69666667, 11395.52      ,\n",
       "       11386.11666667, 11378.55333333, 11379.37      , 11392.87      ,\n",
       "       11398.16666667, 11404.77666667, 11394.23      , 11387.80666667,\n",
       "       11383.18333333, 11377.90333333, 11387.23333333, 11386.61      ,\n",
       "       11364.79333333])}, dtype=object)"
      ]
     },
     "execution_count": 35,
     "metadata": {},
     "output_type": "execute_result"
    }
   ],
   "source": [
    "np.load('Arrays_for_max_ent/Means_Dictionary.npy', allow_pickle=True)"
   ]
  },
  {
   "cell_type": "code",
   "execution_count": 7,
   "metadata": {},
   "outputs": [],
   "source": [
    "# Making the constrained array \n",
    "# for all the concentrations except 0 pM\n",
    "# 0, 6, 15, 21, 51, 126 min\n",
    "times_constrained = np.array([0, 6, 12, 25, 45,60, 90]) #minutes \n",
    "idx_list = np.array(times_constrained/3, dtype=int)"
   ]
  },
  {
   "cell_type": "code",
   "execution_count": 22,
   "metadata": {},
   "outputs": [
    {
     "data": {
      "text/plain": [
       "array([ 0,  2,  5,  7, 17, 42])"
      ]
     },
     "execution_count": 22,
     "metadata": {},
     "output_type": "execute_result"
    }
   ],
   "source": [
    "# Now making the constrained dictionary "
   ]
  },
  {
   "cell_type": "code",
   "execution_count": 8,
   "metadata": {},
   "outputs": [],
   "source": [
    "Constraints_Dict = defaultdict(lambda:'NotPresent')\n",
    "Constraints_Dict['Mean']= {}\n",
    "Constraints_Dict['Var'] = {}\n",
    "Constraints_Dict['SecMoment'] = {}\n",
    "\n",
    "\n",
    "Constraints_Dict['Times(min)'] = times_constrained\n",
    "\n",
    "for i in range(len(Sheet_labels) -1): \n",
    "    conc = Sheet_labels[i+1]\n",
    "    if conc == '15pm':\n",
    "        con_key = '15pM'\n",
    "    else:\n",
    "        con_key = conc\n",
    "    Constraints_Dict['Mean'][con_key] = Means_dict[conc][idx_list]\n",
    "    Constraints_Dict['SecMoment'][con_key] = SecondMoment_dict[conc][idx_list]\n",
    "    Constraints_Dict['Var'][con_key] = Var_dict[conc][idx_list]"
   ]
  },
  {
   "cell_type": "code",
   "execution_count": 6,
   "metadata": {},
   "outputs": [
    {
     "data": {
      "text/plain": [
       "defaultdict(<function __main__.<lambda>()>,\n",
       "            {'Mean': {'10pM': array([26629.13953488, 25580.74086379, 25612.27906977, 24624.97009967,\n",
       "                     23366.93023256, 22810.94352159, 22608.14950166]),\n",
       "              '15pM': array([26377.93333333, 25770.17333333, 25070.37      , 23045.02666667,\n",
       "                     21393.71      , 20648.89666667, 20483.22      ]),\n",
       "              '20pM': array([26263.96      , 24584.26      , 24122.95666667, 21570.86666667,\n",
       "                     19154.94666667, 18550.65333333, 18433.57666667]),\n",
       "              '25pM': array([25028.07      , 24102.68333333, 23689.69666667, 20595.28333333,\n",
       "                     17104.38      , 16043.79666667, 15474.88666667]),\n",
       "              '50pM': array([25722.34666667, 23643.21      , 21584.03333333, 15979.91333333,\n",
       "                     13349.74666667, 13202.37666667, 13359.84      ]),\n",
       "              '250pM': array([25364.01666667, 22210.54      , 17204.36      , 12114.49      ,\n",
       "                     11753.69333333, 11636.50666667, 11512.52666667])},\n",
       "             'Var': {'10pM': array([10936943.46890211,  9731031.79331354, 10743994.04836591,\n",
       "                     11090930.00242823, 12158826.08483349, 12996413.8340195 ,\n",
       "                     12756830.33313097]),\n",
       "              '15pM': array([11261469.79555554, 11035891.85662222, 10922075.33976667,\n",
       "                     11147136.10595555, 12958637.65256667, 13648168.95932223,\n",
       "                     13788473.77826667]),\n",
       "              '20pM': array([10469113.53173334,  8924880.7324    ,  9710807.78145555,\n",
       "                     10614110.74222222, 12105554.91715555, 12612240.86648889,\n",
       "                     12968604.37745555]),\n",
       "              '25pM': array([10211593.0851    ,  9384701.76972222,  9490290.69132222,\n",
       "                      9409456.18305555, 10998435.08893334, 10923090.08865556,\n",
       "                     10727017.72715556]),\n",
       "              '50pM': array([14496433.11982222, 12176893.69256666, 11379817.06555556,\n",
       "                      9359200.75915556,  7301995.46248888,  7197429.95478888,\n",
       "                      7714891.7144    ]),\n",
       "              '250pM': array([10241461.06305556,  8140848.26840001,  5971277.41706666,\n",
       "                      4210892.00323333,  4360491.52595556,  4382186.22995556,\n",
       "                      4442570.47595556])},\n",
       "             'SecMoment': {'10pM': array([7.20048016e+08, 6.64105335e+08, 6.66732833e+08, 6.17480082e+08,\n",
       "                     5.58172255e+08, 5.33335558e+08, 5.23885254e+08]),\n",
       "              '15pM': array([7.07056837e+08, 6.75137725e+08, 6.39445527e+08, 5.42220390e+08,\n",
       "                     4.70649465e+08, 4.40025103e+08, 4.33350775e+08]),\n",
       "              '20pM': array([7.00264708e+08, 6.13310720e+08, 5.91627846e+08, 4.75916399e+08,\n",
       "                     3.79017537e+08, 3.56738980e+08, 3.52765353e+08]),\n",
       "              '25pM': array([6.36615881e+08, 5.90324046e+08, 5.70692019e+08, 4.33575152e+08,\n",
       "                     3.03558250e+08, 2.68326502e+08, 2.50199135e+08]),\n",
       "              '50pM': array([6.76135551e+08, 5.71178273e+08, 4.77250312e+08, 2.64716831e+08,\n",
       "                     1.85517732e+08, 1.81500180e+08, 1.86200217e+08]),\n",
       "              '250pM': array([6.53574803e+08, 5.01448935e+08, 3.01961280e+08, 1.50971760e+08,\n",
       "                     1.42509798e+08, 1.39790474e+08, 1.36980841e+08])},\n",
       "             'Times(min)': array([ 0,  6, 12, 25, 45, 60, 90])})"
      ]
     },
     "execution_count": 6,
     "metadata": {},
     "output_type": "execute_result"
    }
   ],
   "source": [
    "Constraints_Dict"
   ]
  },
  {
   "cell_type": "code",
   "execution_count": 9,
   "metadata": {
    "scrolled": true
   },
   "outputs": [
    {
     "data": {
      "text/plain": [
       "array([ 0,  6, 12, 25, 45, 60, 90])"
      ]
     },
     "execution_count": 9,
     "metadata": {},
     "output_type": "execute_result"
    }
   ],
   "source": [
    "times_constrained"
   ]
  },
  {
   "cell_type": "code",
   "execution_count": 20,
   "metadata": {},
   "outputs": [
    {
     "data": {
      "text/plain": [
       "0.01870914785101721"
      ]
     },
     "execution_count": 20,
     "metadata": {},
     "output_type": "execute_result"
    }
   ],
   "source": [
    "n_foxO = 710*2/3 \n",
    "au_foxO = 25299.566666666666\n",
    "# scale factor \n",
    "sc = n_foxO/au_foxO\n",
    "sc"
   ]
  },
  {
   "cell_type": "code",
   "execution_count": 22,
   "metadata": {},
   "outputs": [],
   "source": [
    "LigandCon = [10,15,20,25,50,250]\n",
    "nTcon = len(times_constrained)\n",
    "nLcon = len(LigandCon)\n",
    "nCons = nTcon*nLcon*2\n",
    "\n",
    "Cons_means = []\n",
    "Cons_sm    = []\n",
    "Cons_names = []\n",
    "# store means first \n",
    "\n",
    "for ligand in LigandCon: \n",
    "    key = f'{ligand}pM'\n",
    "    ii = 0\n",
    "    for timecon in times_constrained: \n",
    "        timestring = f'{timecon}min'\n",
    "        title = f'{key}_{timestring}'\n",
    "        Cons_names.append(title)\n",
    "        Cons_means.append(Constraints_Dict['Mean'][key][ii])\n",
    "        Cons_sm.append(Constraints_Dict['SecMoment'][key][ii])\n",
    "        ii+=1 \n",
    "        \n",
    "\n",
    "# for key in Constraints_Dict['Mean']: \n",
    "#     Cons_Arr[ii:(ii+6)] = Constraints_Dict['Mean'][key]\n",
    "#     ii+=6\n",
    "Cons_means = np.asarray(Cons_means)*sc\n",
    "Cons_sm = np.asarray(Cons_sm)*(sc**2)"
   ]
  },
  {
   "cell_type": "code",
   "execution_count": 23,
   "metadata": {
    "collapsed": true
   },
   "outputs": [
    {
     "data": {
      "text/plain": [
       "{'labels': ['mean_10pM_0min',\n",
       "  'mean_10pM_6min',\n",
       "  'mean_10pM_12min',\n",
       "  'mean_10pM_25min',\n",
       "  'mean_10pM_45min',\n",
       "  'mean_10pM_60min',\n",
       "  'mean_10pM_90min',\n",
       "  'mean_15pM_0min',\n",
       "  'mean_15pM_6min',\n",
       "  'mean_15pM_12min',\n",
       "  'mean_15pM_25min',\n",
       "  'mean_15pM_45min',\n",
       "  'mean_15pM_60min',\n",
       "  'mean_15pM_90min',\n",
       "  'mean_20pM_0min',\n",
       "  'mean_20pM_6min',\n",
       "  'mean_20pM_12min',\n",
       "  'mean_20pM_25min',\n",
       "  'mean_20pM_45min',\n",
       "  'mean_20pM_60min',\n",
       "  'mean_20pM_90min',\n",
       "  'mean_25pM_0min',\n",
       "  'mean_25pM_6min',\n",
       "  'mean_25pM_12min',\n",
       "  'mean_25pM_25min',\n",
       "  'mean_25pM_45min',\n",
       "  'mean_25pM_60min',\n",
       "  'mean_25pM_90min',\n",
       "  'mean_50pM_0min',\n",
       "  'mean_50pM_6min',\n",
       "  'mean_50pM_12min',\n",
       "  'mean_50pM_25min',\n",
       "  'mean_50pM_45min',\n",
       "  'mean_50pM_60min',\n",
       "  'mean_50pM_90min',\n",
       "  'mean_250pM_0min',\n",
       "  'mean_250pM_6min',\n",
       "  'mean_250pM_12min',\n",
       "  'mean_250pM_25min',\n",
       "  'mean_250pM_45min',\n",
       "  'mean_250pM_60min',\n",
       "  'mean_250pM_90min',\n",
       "  'sm_10pM_0min',\n",
       "  'sm_10pM_6min',\n",
       "  'sm_10pM_12min',\n",
       "  'sm_10pM_25min',\n",
       "  'sm_10pM_45min',\n",
       "  'sm_10pM_60min',\n",
       "  'sm_10pM_90min',\n",
       "  'sm_15pM_0min',\n",
       "  'sm_15pM_6min',\n",
       "  'sm_15pM_12min',\n",
       "  'sm_15pM_25min',\n",
       "  'sm_15pM_45min',\n",
       "  'sm_15pM_60min',\n",
       "  'sm_15pM_90min',\n",
       "  'sm_20pM_0min',\n",
       "  'sm_20pM_6min',\n",
       "  'sm_20pM_12min',\n",
       "  'sm_20pM_25min',\n",
       "  'sm_20pM_45min',\n",
       "  'sm_20pM_60min',\n",
       "  'sm_20pM_90min',\n",
       "  'sm_25pM_0min',\n",
       "  'sm_25pM_6min',\n",
       "  'sm_25pM_12min',\n",
       "  'sm_25pM_25min',\n",
       "  'sm_25pM_45min',\n",
       "  'sm_25pM_60min',\n",
       "  'sm_25pM_90min',\n",
       "  'sm_50pM_0min',\n",
       "  'sm_50pM_6min',\n",
       "  'sm_50pM_12min',\n",
       "  'sm_50pM_25min',\n",
       "  'sm_50pM_45min',\n",
       "  'sm_50pM_60min',\n",
       "  'sm_50pM_90min',\n",
       "  'sm_250pM_0min',\n",
       "  'sm_250pM_6min',\n",
       "  'sm_250pM_12min',\n",
       "  'sm_250pM_25min',\n",
       "  'sm_250pM_45min',\n",
       "  'sm_250pM_60min',\n",
       "  'sm_250pM_90min'],\n",
       " 'array': array([4.98208509e+02, 4.78593863e+02, 4.79183916e+02, 4.60712206e+02,\n",
       "        4.37175353e+02, 4.26773315e+02, 4.22979212e+02, 4.93508655e+02,\n",
       "        4.82137983e+02, 4.69045259e+02, 4.31152811e+02, 4.00258083e+02,\n",
       "        3.86323261e+02, 3.83223591e+02, 4.91376311e+02, 4.59950555e+02,\n",
       "        4.51319963e+02, 4.03572534e+02, 3.58372729e+02, 3.47066916e+02,\n",
       "        3.44876511e+02, 4.68253862e+02, 4.50940666e+02, 4.43214037e+02,\n",
       "        3.85320201e+02, 3.20008374e+02, 3.00165764e+02, 2.89521943e+02,\n",
       "        4.81243187e+02, 4.42344312e+02, 4.03818871e+02, 2.98970561e+02,\n",
       "        2.49762384e+02, 2.47005217e+02, 2.49951222e+02, 4.74539138e+02,\n",
       "        4.15540277e+02, 3.21878915e+02, 2.26651785e+02, 2.19901586e+02,\n",
       "        2.17709124e+02, 2.15389564e+02, 2.52040001e+05, 2.32458260e+05,\n",
       "        2.33377969e+05, 2.16137920e+05, 1.95378270e+05, 1.86684626e+05,\n",
       "        1.83376715e+05, 2.47492669e+05, 2.36319952e+05, 2.23826533e+05,\n",
       "        1.89794603e+05, 1.64742474e+05, 1.54022961e+05, 1.51686731e+05,\n",
       "        2.45115206e+05, 2.14678509e+05, 2.07088804e+05, 1.66586071e+05,\n",
       "        1.32668347e+05, 1.24870135e+05, 1.23479237e+05, 2.22836066e+05,\n",
       "        2.06632432e+05, 1.99760590e+05, 1.51765270e+05, 1.06255166e+05,\n",
       "        9.39229192e+04, 8.75777570e+04, 2.36669223e+05, 1.99930795e+05,\n",
       "        1.67052983e+05, 9.26594182e+04, 6.49371822e+04, 6.35309096e+04,\n",
       "        6.51760739e+04, 2.28772235e+05, 1.75523281e+05, 1.05696175e+05,\n",
       "        5.28449793e+04, 4.98830202e+04, 4.89311689e+04, 4.79477069e+04])}"
      ]
     },
     "execution_count": 23,
     "metadata": {},
     "output_type": "execute_result"
    }
   ],
   "source": [
    "con_dic = { 'labels' : [], 'array' : []}\n",
    "i = 0 \n",
    "for tit in Cons_names: \n",
    "    con_dic['labels'].append(f'mean_{tit}')\n",
    "    con_dic['array'].append(Cons_means[i])\n",
    "    i+=1 \n",
    "\n",
    "    \n",
    "\n",
    "i = 0 \n",
    "for tit in Cons_names: \n",
    "    con_dic['labels'].append(f'sm_{tit}')\n",
    "    con_dic['array'].append(Cons_sm[i])\n",
    "    i+=1 \n",
    "\n",
    "\n",
    "# \n",
    "con_dic['array']= np.asarray(con_dic['array'])\n",
    "con_dic"
   ]
  },
  {
   "cell_type": "code",
   "execution_count": 24,
   "metadata": {},
   "outputs": [],
   "source": [
    "# Save that dictionary \n",
    "\n",
    "# dictionary = {'hello':'world'}\n",
    "np.save('Cons_1117.npy', con_dic) \n",
    "\n",
    "# # Load\n",
    "# read_dictionary = np.load('my_file.npy',allow_pickle='TRUE').item()\n",
    "# print(read_dictionary['hello']) # displays \"world\"\n",
    "\n",
    "\n"
   ]
  },
  {
   "cell_type": "code",
   "execution_count": 25,
   "metadata": {},
   "outputs": [],
   "source": [
    "read_dictionary = np.load('Cons_1117.npy',allow_pickle='TRUE').item()"
   ]
  },
  {
   "cell_type": "code",
   "execution_count": 27,
   "metadata": {},
   "outputs": [
    {
     "data": {
      "text/plain": [
       "array([4.98208509e+02, 4.78593863e+02, 4.79183916e+02, 4.60712206e+02,\n",
       "       4.37175353e+02, 4.26773315e+02, 4.22979212e+02, 4.93508655e+02,\n",
       "       4.82137983e+02, 4.69045259e+02, 4.31152811e+02, 4.00258083e+02,\n",
       "       3.86323261e+02, 3.83223591e+02, 4.91376311e+02, 4.59950555e+02,\n",
       "       4.51319963e+02, 4.03572534e+02, 3.58372729e+02, 3.47066916e+02,\n",
       "       3.44876511e+02, 4.68253862e+02, 4.50940666e+02, 4.43214037e+02,\n",
       "       3.85320201e+02, 3.20008374e+02, 3.00165764e+02, 2.89521943e+02,\n",
       "       4.81243187e+02, 4.42344312e+02, 4.03818871e+02, 2.98970561e+02,\n",
       "       2.49762384e+02, 2.47005217e+02, 2.49951222e+02, 4.74539138e+02,\n",
       "       4.15540277e+02, 3.21878915e+02, 2.26651785e+02, 2.19901586e+02,\n",
       "       2.17709124e+02, 2.15389564e+02, 2.52040001e+05, 2.32458260e+05,\n",
       "       2.33377969e+05, 2.16137920e+05, 1.95378270e+05, 1.86684626e+05,\n",
       "       1.83376715e+05, 2.47492669e+05, 2.36319952e+05, 2.23826533e+05,\n",
       "       1.89794603e+05, 1.64742474e+05, 1.54022961e+05, 1.51686731e+05,\n",
       "       2.45115206e+05, 2.14678509e+05, 2.07088804e+05, 1.66586071e+05,\n",
       "       1.32668347e+05, 1.24870135e+05, 1.23479237e+05, 2.22836066e+05,\n",
       "       2.06632432e+05, 1.99760590e+05, 1.51765270e+05, 1.06255166e+05,\n",
       "       9.39229192e+04, 8.75777570e+04, 2.36669223e+05, 1.99930795e+05,\n",
       "       1.67052983e+05, 9.26594182e+04, 6.49371822e+04, 6.35309096e+04,\n",
       "       6.51760739e+04, 2.28772235e+05, 1.75523281e+05, 1.05696175e+05,\n",
       "       5.28449793e+04, 4.98830202e+04, 4.89311689e+04, 4.79477069e+04])"
      ]
     },
     "execution_count": 27,
     "metadata": {},
     "output_type": "execute_result"
    }
   ],
   "source": [
    "read_dictionary['array']"
   ]
  },
  {
   "cell_type": "code",
   "execution_count": null,
   "metadata": {},
   "outputs": [],
   "source": []
  },
  {
   "cell_type": "code",
   "execution_count": null,
   "metadata": {},
   "outputs": [],
   "source": []
  },
  {
   "cell_type": "code",
   "execution_count": null,
   "metadata": {},
   "outputs": [],
   "source": []
  }
 ],
 "metadata": {
  "kernelspec": {
   "display_name": "Python 3 (ipykernel)",
   "language": "python",
   "name": "python3"
  },
  "language_info": {
   "codemirror_mode": {
    "name": "ipython",
    "version": 3
   },
   "file_extension": ".py",
   "mimetype": "text/x-python",
   "name": "python",
   "nbconvert_exporter": "python",
   "pygments_lexer": "ipython3",
   "version": "3.9.7"
  }
 },
 "nbformat": 4,
 "nbformat_minor": 4
}
