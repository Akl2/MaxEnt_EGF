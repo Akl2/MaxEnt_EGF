{
 "cells": [
  {
   "cell_type": "code",
   "execution_count": 1,
   "metadata": {},
   "outputs": [],
   "source": [
    "import csv\n",
    "import numpy as np \n",
    "import random\n",
    "import time\n",
    "# sve_ivp\n",
    "import os\n",
    "import pandas as pd\n",
    "from Update_LM_functions import calculate_constraints, update_lambda, openfile"
   ]
  },
  {
   "cell_type": "code",
   "execution_count": 2,
   "metadata": {},
   "outputs": [],
   "source": [
    "\n",
    "## set path \n",
    "on_mac = False\n",
    "on_thinkpad = False \n",
    "on_hpg = True\n",
    "\n",
    "if on_mac == True: \n",
    "    data_path = \"/Volumes/hodaakl/\"\n",
    "if on_thinkpad== True: \n",
    "    data_path = \"//exasmb.rc.ufl.edu/blue/pdixit/hodaakl/\"\n",
    "if on_hpg == True: \n",
    "    data_path = \"/blue/pdixit/hodaakl/\"\n",
    "\n",
    "# specify the project you are working on     \n",
    "spec_folder_onServer = data_path + 'A5MCMC_IGF_FoxO/'\n",
    "path = spec_folder_onServer + '1221_MuS_NewLM_newParRange/'"
   ]
  },
  {
   "cell_type": "code",
   "execution_count": 3,
   "metadata": {},
   "outputs": [],
   "source": [
    "file_name_lambda = path + 'Lambdas.csv'\n",
    "file_name_error = path+ 'Errors.csv'\n",
    "read_dictionary = np.load(spec_folder_onServer + 'Arrays_for_max_ent/Cons_1213_Zero2ndMoments.npy',allow_pickle='TRUE').item()\n",
    "real_cons = read_dictionary['array']\n",
    "\n",
    "\n",
    "if not os.path.exists(file_name_lambda): \n",
    "\n",
    "    raise ValueError(\"No saved Lagrange multipliers, nothing to update. You have to same initial Lagrange multipliers first\")\n",
    "    \n",
    "Lambda_np = openfile(file_name_lambda)\n",
    "\n",
    "iterationp1, _ = Lambda_np.shape\n",
    "iteration = iterationp1 -1\n",
    "\n",
    "#\n",
    "moments_filename =path + f'moments_{iteration}.csv'\n",
    "\n",
    "\n",
    "df = pd.read_csv(moments_filename, sep = ',', header = None) \n",
    "\n",
    "Data_np = df.to_numpy()\n",
    "### take away the nan values \n",
    "idxn = np.argwhere(np.isnan(Data_np))\n",
    "idx_nan_rows = idxn[:,0]\n",
    "\n",
    "data = np.delete(Data_np,idx_nan_rows, 0)\n",
    "Preds = calculate_constraints(data)\n",
    "\n",
    "# preds_power = np.floor(np.log10(Preds))\n",
    "# alpha_power = np.ones(len(Preds))\n"
   ]
  },
  {
   "cell_type": "code",
   "execution_count": 6,
   "metadata": {},
   "outputs": [
    {
     "name": "stdout",
     "output_type": "stream",
     "text": [
      "[377.07500772 364.83213332 351.74104334 337.06462484 326.11928865\n",
      " 322.5154479  319.11677987 377.07500772 360.9677675  345.24899438\n",
      " 328.1721461  315.80656101 311.87421701 308.31458527 377.07500772\n",
      " 357.7151279  339.89986475 320.97501092 307.63674316 303.53636642\n",
      " 299.93643778 377.07500772 343.9856623  318.13542025 293.16425662\n",
      " 277.70793626 273.50243875 270.08386035]\n",
      "[-2.57642775 -2.56209308 -2.54622305 -2.52771318 -2.51337649 -2.50855052\n",
      " -2.50394964 -2.57642775 -2.55746842 -2.53813242 -2.51610172 -2.49942115\n",
      " -2.49397947 -2.48899407 -2.57642775 -2.55353731 -2.53135099 -2.50647122\n",
      " -2.4880382  -2.48221073 -2.47702923 -2.57642775 -2.53654034 -2.50261202\n",
      " -2.46711102 -2.44358829 -2.4369612  -2.43149863]\n"
     ]
    }
   ],
   "source": [
    "print(Preds)\n",
    "print(- np.log10(Preds))\n"
   ]
  },
  {
   "cell_type": "code",
   "execution_count": 9,
   "metadata": {},
   "outputs": [],
   "source": [
    "Error = Preds - real_cons[:len(Preds)]\n",
    "Old_Lambda = Lambda_np[-1,:]\n",
    "alpha_arr = 10**(-np.log10(Preds))\n",
    "Lambda = update_lambda(Error = Error, old_lambda= Old_Lambda, alpha_arr = alpha_arr , true_constraints = real_cons, alpha_cons = 1)#, alpha_power = alpha_power) \n",
    "Lambda= Lambda.tolist()\n",
    "Error = Error.tolist()\n",
    "\n"
   ]
  },
  {
   "cell_type": "code",
   "execution_count": 10,
   "metadata": {},
   "outputs": [
    {
     "data": {
      "text/plain": [
       "[-0.0005220787481120768,\n",
       " -0.0005216366652179667,\n",
       " -0.0006310711203349235,\n",
       " -0.0006633038506191112,\n",
       " -0.0006193236679805134,\n",
       " -0.0005848341263278586,\n",
       " -0.0005971375796390529,\n",
       " -0.0005220787481120797,\n",
       " -0.0005973627015838935,\n",
       " -0.0006552901183991143,\n",
       " -0.0005854571624906612,\n",
       " -0.00048122701763059656,\n",
       " -0.0004068507453747698,\n",
       " -0.0004246208125216732,\n",
       " -0.000522078748112077,\n",
       " -0.0005096254816926763,\n",
       " -0.0006093333294628979,\n",
       " -0.000466714012531128,\n",
       " -0.00019536312482948314,\n",
       " -0.00012049951186918232,\n",
       " -0.0001462910464795287,\n",
       " -0.0005220787481120775,\n",
       " -0.000579513685866816,\n",
       " -0.0005595923686363614,\n",
       " 0.00029028772836761163,\n",
       " 0.0010791052016015281,\n",
       " 0.0010713725010599343,\n",
       " 0.0009125642147518546]"
      ]
     },
     "execution_count": 10,
     "metadata": {},
     "output_type": "execute_result"
    }
   ],
   "source": [
    "Lambda"
   ]
  },
  {
   "cell_type": "code",
   "execution_count": null,
   "metadata": {},
   "outputs": [],
   "source": []
  },
  {
   "cell_type": "code",
   "execution_count": null,
   "metadata": {},
   "outputs": [],
   "source": [
    "\n",
    "\n",
    "# ------------------------------------------\n",
    "#write the result \n",
    "\n",
    "\n",
    "if os.path.exists(file_name_error): \n",
    "    with open(file_name_error, 'a') as add_file_error:\n",
    "        csv_adder_error = csv.writer(add_file_error, delimiter = ',')\n",
    "        csv_adder_error.writerow(Error)\n",
    "        add_file_error.flush()\n",
    "else:\n",
    "    with open(file_name_error, 'w') as new_file_error:\n",
    "\n",
    "        csv_writer_error = csv.writer(new_file_error, delimiter = ',')\n",
    "#         csv_writer_pars.writerow(Par_fieldnames)\n",
    "        csv_writer_error.writerow(Error)\n",
    "        new_file_error.flush()\n",
    "    \n",
    "#################################################### Storing the Lambda  \n",
    "\n",
    "if os.path.exists(file_name_lambda): \n",
    "    with open(file_name_lambda, 'a') as add_file_lambda:\n",
    "        csv_adder_lambda = csv.writer(add_file_lambda, delimiter = ',')\n",
    "        csv_adder_lambda.writerow(Lambda)\n",
    "        add_file_lambda.flush()\n",
    "else:\n",
    "    print('trouble loading file')\n",
    "\n",
    "\n",
    "############################################# Plotting\n",
    "import matplotlib.pyplot as plt\n",
    "if os.path.isdir(path+'figs')==False:\n",
    "    os.mkdir(path+'figs') \n",
    "# plot the absolute relative error\n",
    "df_err = pd.read_csv(file_name_error, sep = ',', header = None) \n",
    "err_np = df_err.to_numpy()\n",
    "rc_m= np.tile(real_cons[:len(err_np[0,:])] , [err_np.shape[0],1])\n",
    "#print(rc_m.shape)\n",
    "mean_err = np.mean(abs(err_np), axis = 1)\n",
    "# mean_err.shape\n",
    "real_abs = abs(err_np/rc_m)\n",
    "mean_rel_abs = np.mean(real_abs, axis = 1)\n",
    "# mean_err = np.mean(abs(err_np), axis = 1)\n",
    "plt.plot(range(len(mean_rel_abs) ), mean_rel_abs)\n",
    "plt.ylabel('Mean Abs relative Error ')\n",
    "plt.xlabel('Iteration')\n",
    "# plt.title('Iteration[1:]')\n",
    "plt.savefig(path+'figs/error.png')\n",
    "print('saved figure')\n",
    "# save error array \n",
    "np.save(path+'mean_abs_error.npy', mean_rel_abs)\n",
    "# plot the lagrange multipliers \n",
    "\n",
    "# plot the parameters \n",
    "\n",
    "# store the absolute relative error array \n",
    "\n"
   ]
  },
  {
   "cell_type": "code",
   "execution_count": null,
   "metadata": {},
   "outputs": [],
   "source": []
  }
 ],
 "metadata": {
  "kernelspec": {
   "display_name": "Python 3 (ipykernel)",
   "language": "python",
   "name": "python3"
  },
  "language_info": {
   "codemirror_mode": {
    "name": "ipython",
    "version": 3
   },
   "file_extension": ".py",
   "mimetype": "text/x-python",
   "name": "python",
   "nbconvert_exporter": "python",
   "pygments_lexer": "ipython3",
   "version": "3.8.1"
  }
 },
 "nbformat": 4,
 "nbformat_minor": 4
}
