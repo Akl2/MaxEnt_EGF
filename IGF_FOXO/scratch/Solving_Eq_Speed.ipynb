{
 "cells": [
  {
   "cell_type": "markdown",
   "id": "504b52fd",
   "metadata": {},
   "source": [
    "The goal of this notebook is to figure out a way to make the solving of differential equations faster "
   ]
  },
  {
   "cell_type": "code",
   "execution_count": 1,
   "id": "fcb30ce5",
   "metadata": {},
   "outputs": [],
   "source": [
    "import numpy as np \n",
    "import time\n",
    "from scipy.integrate import solve_ivp\n",
    "from MomentEquations import MomentsDiff_Eq_fn\n",
    "from PredictionFunctions  import Get_Init_fn"
   ]
  },
  {
   "cell_type": "markdown",
   "id": "1476f51c",
   "metadata": {},
   "source": [
    "Method 1 "
   ]
  },
  {
   "cell_type": "code",
   "execution_count": 2,
   "id": "8f6ff2e7",
   "metadata": {},
   "outputs": [],
   "source": [
    "nK = 14\n",
    "times_arr = [0, 6, 12, 25, 45, 60, 90]\n",
    "L  = np.array([10,15,20,25,50,250])*10**-3 #make it in nM\n",
    "k = np.random.rand(nK)"
   ]
  },
  {
   "cell_type": "code",
   "execution_count": 3,
   "id": "fead37cb",
   "metadata": {},
   "outputs": [],
   "source": [
    "# t_span2-tuple of floats\n",
    "# Interval of integration (t0, tf). The solver starts with t=t0 and integrates until it reaches t=tf.\n",
    "\n",
    "def solve_Moments_fn(K,IGF,t):\n",
    "    \"\"\"Inputs: K , L = IGF , tend\n",
    "    Outputs: Z solution\"\"\"\n",
    "    tspan = [0, t] \n",
    "    z0 = Get_Init_fn(K)\n",
    "    sol_dyn = solve_ivp(MomentsDiff_Eq_fn, tspan, z0, method = 'BDF', args=(K,IGF))\n",
    "    sol = sol_dyn.y[:,-1]\n",
    "    return sol_dyn, sol\n",
    "def FoxOn_preds_fn(k,L,t):\n",
    "    \"\"\"\"Function spits out mean and second moment of nuclear foxO at time t\n",
    "    input:  L = IGF concentration in nM \n",
    "            t = end time in seconds\n",
    "    output: meanfoxO, variancefoxO\"\"\"\n",
    "    _, Sol_t = solve_Moments_fn(k, L, t )\n",
    "    foxOn_mean, foxOn_var = Sol_t[7], Sol_t[-1]\n",
    "    # get the second moment from the variance \n",
    "    foxOn_s = foxOn_var + foxOn_mean**2\n",
    "    return foxOn_mean, foxOn_s\n",
    "# times_arr = np.array([0,6,15,21,51,126])*60\n",
    "# L  = np.array([10,15,20,25,50,250])*10**-3 #make it in nM\n",
    "def Moments_Preds_full_fn(k, times_arr, L):\n",
    "    \"\"\"Function that gets the predictions for 6 concentrations each at 6 time points \"\"\"\n",
    "    nL_cons = len(L)\n",
    "    nCons = nL_cons*len(times_arr)*2 #number of constraints half of them means and half of them second moments \n",
    "    \n",
    "    \n",
    "    Moments_Preds_arr = np.zeros(nCons)\n",
    "    i=0\n",
    "    for igf in L: \n",
    "        ts = 0\n",
    "        for t in times_arr:\n",
    "#             print(t)\n",
    "#             tint  = [ts, t]\n",
    "#             print(tint)\n",
    "#             print(tint)\n",
    "                \n",
    "            Moments_Preds_arr[i], Moments_Preds_arr[i + int(nCons/2)] = FoxOn_preds_fn(k, igf, t)\n",
    "            i+=1\n",
    "            ts = t\n",
    "\n",
    "    return Moments_Preds_arr"
   ]
  },
  {
   "cell_type": "code",
   "execution_count": 4,
   "id": "628107b3",
   "metadata": {},
   "outputs": [
    {
     "name": "stdout",
     "output_type": "stream",
     "text": [
      "0.48627209663391113\n",
      "[1.86820786 1.86799318 1.86799323 1.86799324 1.86799324 1.86799324\n",
      " 1.86799324 1.86820786 1.86788777 1.8678877  1.86788775 1.86788776\n",
      " 1.86788776 1.86788776 1.86820786 1.86778339 1.86778339 1.86778339\n",
      " 1.86778339 1.86778339 1.86778339 1.86820786 1.86768016 1.8676802\n",
      " 1.8676802  1.8676802  1.8676802  1.8676802  1.86820786 1.86718098\n",
      " 1.86718083 1.86718095 1.867181   1.867181   1.86718101 1.86820786\n",
      " 1.8639848  1.86398475 1.86398475 1.86398475 1.86398475 1.86398475\n",
      " 3.93411421 3.93344387 3.93344403 3.93344407 3.93344407 3.93344407\n",
      " 3.93344407 3.93411421 3.93311463 3.93311442 3.93311457 3.93311459\n",
      " 3.93311459 3.93311459 3.93411421 3.93278859 3.93278859 3.93278858\n",
      " 3.93278858 3.93278858 3.93278857 3.93411421 3.93246607 3.93246619\n",
      " 3.93246618 3.93246618 3.93246618 3.93246618 3.93411421 3.93090581\n",
      " 3.93090533 3.93090569 3.93090579 3.9309058  3.93090582 3.93411421\n",
      " 3.92089055 3.92089041 3.9208904  3.9208904  3.9208904  3.92089041]\n"
     ]
    }
   ],
   "source": [
    "\n",
    "t0 = time.time()\n",
    "y1 = Moments_Preds_full_fn(k, times_arr,L)\n",
    "print(time.time() - t0)\n",
    "print(y1)"
   ]
  },
  {
   "cell_type": "markdown",
   "id": "10ab2e96",
   "metadata": {},
   "source": [
    "Method 2 "
   ]
  },
  {
   "cell_type": "code",
   "execution_count": null,
   "id": "72347c6e",
   "metadata": {},
   "outputs": [],
   "source": [
    "# t_span2-tuple of floats\n",
    "# Interval of integration (t0, tf). The solver starts with t=t0 and integrates until it reaches t=tf.\n",
    "\n",
    "def solve_Moments_fn(K,IGF,tspan, z0):\n",
    "    \"\"\"Inputs: K , L = IGF , tend\n",
    "    Outputs: Z solution\"\"\"\n",
    "#     tspan = [0, t] \n",
    "#     z0 = Get_Init_fn(K)\n",
    "    sol_dyn = solve_ivp(MomentsDiff_Eq_fn, tspan, z0, method = 'BDF', args=(K,IGF))\n",
    "    sol = sol_dyn.y[:,-1]\n",
    "    return sol_dyn, sol\n",
    "def FoxOn_preds_fn(k,L,tspan, initial_conditions):\n",
    "    \"\"\"\"Function spits out mean and second moment of nuclear foxO at time t\n",
    "    input:  L = IGF concentration in nM \n",
    "            t = end time in seconds\n",
    "    output: meanfoxO, variancefoxO\"\"\"\n",
    "    _, Sol_t = solve_Moments_fn(k, L, tspan, z0 = initial_conditions )\n",
    "    foxOn_mean, foxOn_var = Sol_t[7], Sol_t[-1]\n",
    "    # get the second moment from the variance \n",
    "    foxOn_s = foxOn_var + foxOn_mean**2\n",
    "    return foxOn_mean, foxOn_s, Sol_t\n",
    "\n",
    "# times_arr = np.array([0,6,15,21,51,126])*60\n",
    "# L  = np.array([10,15,20,25,50,250])*10**-3 #make it in nM\n",
    "def Moments_Preds_full_fn(k, times_arr, L):\n",
    "    \"\"\"Function that gets the predictions for 6 concentrations each at 6 time points \"\"\"\n",
    "    nL_cons = len(L)\n",
    "    nCons = nL_cons*len(times_arr)*2 #number of constraints half of them means and half of them second moments \n",
    "    z0 = Get_Init_fn(k)\n",
    "    \n",
    "    Moments_Preds_arr = np.zeros(nCons)\n",
    "    i=0\n",
    "    for igf in L: \n",
    "        ts = 0\n",
    "        zinit = z0.copy()\n",
    "        for t in times_arr:\n",
    "            tspan  = [ts, t]\n",
    "\n",
    "            Moments_Preds_arr[i], Moments_Preds_arr[i + int(nCons/2)], Sol_t = FoxOn_preds_fn(k, igf, tspan, initial_conditions = zinit)\n",
    "            i+=1\n",
    "            ts = t\n",
    "            zinit = Sol_t\n",
    "    return Moments_Preds_arr"
   ]
  },
  {
   "cell_type": "code",
   "execution_count": null,
   "id": "c3ebe65c",
   "metadata": {},
   "outputs": [],
   "source": [
    "\n",
    "t0 = time.time()\n",
    "y2 = Moments_Preds_full_fn(k, times_arr,L)\n",
    "print(time.time() - t0)\n",
    "print(y2)"
   ]
  },
  {
   "cell_type": "code",
   "execution_count": null,
   "id": "82b20c16",
   "metadata": {},
   "outputs": [],
   "source": [
    "np.round(y2,3) == np.round(y1,3)"
   ]
  },
  {
   "cell_type": "code",
   "execution_count": null,
   "id": "70272206",
   "metadata": {},
   "outputs": [],
   "source": []
  }
 ],
 "metadata": {
  "kernelspec": {
   "display_name": "Python 3 (ipykernel)",
   "language": "python",
   "name": "python3"
  },
  "language_info": {
   "codemirror_mode": {
    "name": "ipython",
    "version": 3
   },
   "file_extension": ".py",
   "mimetype": "text/x-python",
   "name": "python",
   "nbconvert_exporter": "python",
   "pygments_lexer": "ipython3",
   "version": "3.9.7"
  }
 },
 "nbformat": 4,
 "nbformat_minor": 5
}
