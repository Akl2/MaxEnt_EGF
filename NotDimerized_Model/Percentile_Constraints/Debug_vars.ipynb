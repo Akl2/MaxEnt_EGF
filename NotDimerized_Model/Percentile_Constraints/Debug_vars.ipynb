{
 "cells": [
  {
   "cell_type": "code",
   "execution_count": 1,
   "metadata": {},
   "outputs": [],
   "source": [
    "import csv\n",
    "import numpy as np \n",
    "import random\n",
    "import time\n",
    "# sve_ivp\n",
    "import os\n",
    "import pandas as pd\n",
    "import matplotlib.pyplot as plt\n",
    "from os.path import dirname, realpath, sep, pardir\n",
    "import sys"
   ]
  },
  {
   "cell_type": "code",
   "execution_count": 8,
   "metadata": {},
   "outputs": [],
   "source": [
    "## hpg path on mac \n",
    "# data_path = \"/Volumes/hodaakl/\"\n",
    "## hpg path on thinkpad \n",
    "data_path = \"//exasmb.rc.ufl.edu/blue/pdixit/hodaakl/\"\n",
    "## hpg path on hpg \n",
    "# data_path = \"/blue/pdixit/hodaakl/\"\n",
    "# specify the project you are working on     \n",
    "spec_folder = data_path + 'A1MAXENT_EGF/Code/Percentile_Constraints/'\n",
    "# sys.path.append(data_path + 'A1MAXENT_EGF/Code/Percentile_Constraints/')\n",
    "folder_out = 'Output_0504/'\n",
    "path = spec_folder + folder_out\n"
   ]
  },
  {
   "cell_type": "code",
   "execution_count": 9,
   "metadata": {},
   "outputs": [],
   "source": [
    "from UPDATE_LM_FNS import calculate_constraints, update_lambda, openfile\n",
    "from PREDICTION_FUNCTIONS import cell_pred_fn"
   ]
  },
  {
   "cell_type": "code",
   "execution_count": 10,
   "metadata": {},
   "outputs": [],
   "source": [
    "#### load the parameters - cell 1 - iteration 142 \n",
    "iteration = 142\n",
    "par_fn = path + f'/params_{iteration}.csv'\n",
    "df = pd.read_csv(par_fn, sep = ',', header = None) \n",
    "pardat = df.to_numpy()"
   ]
  },
  {
   "cell_type": "code",
   "execution_count": 47,
   "metadata": {},
   "outputs": [],
   "source": [
    "c0 = pardat[0,:]\n",
    "c0.shape\n",
    "Larr = np.load(f'{spec_folder}/ArraysForMaxEnt/EGFR_doses_10Conditions_20201116.npy')"
   ]
  },
  {
   "cell_type": "code",
   "execution_count": 132,
   "metadata": {},
   "outputs": [],
   "source": [
    "### seperate \n",
    "pardat.shape\n",
    "l = 5\n",
    "submat = pardat[:10,-l:]\n",
    "np.savetxt(\"foo.csv\", submat, delimiter=\",\")"
   ]
  },
  {
   "cell_type": "code",
   "execution_count": null,
   "metadata": {},
   "outputs": [],
   "source": []
  },
  {
   "cell_type": "code",
   "execution_count": 135,
   "metadata": {},
   "outputs": [
    {
     "data": {
      "text/plain": [
       "array([[ True,  True,  True,  True, False],\n",
       "       [ True,  True, False,  True, False],\n",
       "       [ True,  True, False,  True,  True],\n",
       "       [ True, False, False, False,  True],\n",
       "       [False,  True, False, False,  True],\n",
       "       [ True, False,  True,  True,  True],\n",
       "       [ True,  True,  True, False, False],\n",
       "       [False,  True, False, False,  True],\n",
       "       [ True, False,  True,  True,  True],\n",
       "       [False, False, False,  True,  True]])"
      ]
     },
     "execution_count": 135,
     "metadata": {},
     "output_type": "execute_result"
    }
   ],
   "source": [
    "# load foo\n",
    "# par_fn = path + f'/params_{iteration}.csv'\n",
    "dfn = pd.read_csv('foo.csv', sep = ',', header = None) \n",
    "mat = dfn.to_numpy()\n",
    "mat == submat"
   ]
  },
  {
   "cell_type": "code",
   "execution_count": 140,
   "metadata": {},
   "outputs": [
    {
     "data": {
      "text/plain": [
       "0.048361153467293604"
      ]
     },
     "execution_count": 140,
     "metadata": {},
     "output_type": "execute_result"
    }
   ],
   "source": [
    "mat[3,1]"
   ]
  },
  {
   "cell_type": "code",
   "execution_count": 141,
   "metadata": {},
   "outputs": [
    {
     "data": {
      "text/plain": [
       "0.0483611534672936"
      ]
     },
     "execution_count": 141,
     "metadata": {},
     "output_type": "execute_result"
    }
   ],
   "source": [
    "submat[3,1]"
   ]
  },
  {
   "cell_type": "markdown",
   "metadata": {},
   "source": [
    "### Debug the variance factor"
   ]
  },
  {
   "cell_type": "code",
   "execution_count": 109,
   "metadata": {},
   "outputs": [
    {
     "name": "stdout",
     "output_type": "stream",
     "text": [
      "100.0\n"
     ]
    }
   ],
   "source": [
    "## calculation \n",
    "means_ind , secmoms_ind  = cell_pred_fn(c0, Ligand_conc=[100.0])"
   ]
  },
  {
   "cell_type": "code",
   "execution_count": 125,
   "metadata": {
    "collapsed": true,
    "jupyter": {
     "outputs_hidden": true
    }
   },
   "outputs": [
    {
     "name": "stdout",
     "output_type": "stream",
     "text": [
      "[0.0]\n",
      "1\n",
      "[0.]\n",
      "[0.]\n",
      "0.0\n",
      "285397.9565092969\n",
      "81452278977.63904\n",
      "[285397.9565093]\n",
      "[8.1452279e+10]\n",
      "[285397.95651245]\n",
      "\n",
      "[0.0078125]\n",
      "1\n",
      "[0.]\n",
      "[0.]\n",
      "0.0078125\n",
      "238835.9609911063\n",
      "57042855098.50625\n",
      "[238835.96099111]\n",
      "[5.70428551e+10]\n",
      "[238835.96100616]\n",
      "\n",
      "[0.015625]\n",
      "1\n",
      "[0.]\n",
      "[0.]\n",
      "0.015625\n",
      "205951.93346003734\n",
      "42416404847.86111\n",
      "[205951.93346004]\n",
      "[4.24164048e+10]\n",
      "[205951.93345642]\n",
      "\n",
      "[0.03125]\n",
      "1\n",
      "[0.]\n",
      "[0.]\n",
      "0.03125\n",
      "162583.6268216143\n",
      "26433598294.096767\n",
      "[162583.62682161]\n",
      "[2.64335983e+10]\n",
      "[162583.62682343]\n",
      "\n",
      "[0.0625]\n",
      "1\n",
      "[0.]\n",
      "[0.]\n",
      "0.0625\n",
      "116478.38876076037\n",
      "13567331526.69159\n",
      "[116478.38876076]\n",
      "[1.35673315e+10]\n",
      "[116478.38876152]\n",
      "\n",
      "[0.125]\n",
      "1\n",
      "[0.]\n",
      "[0.]\n",
      "0.125\n",
      "77444.99191505178\n",
      "5997804217.714351\n",
      "[77444.99191505]\n",
      "[5.99780422e+09]\n",
      "[77444.99191475]\n",
      "\n",
      "[0.25]\n",
      "1\n",
      "[0.]\n",
      "[0.]\n",
      "0.25\n",
      "50279.81554031188\n",
      "2528110130.5833282\n",
      "[50279.81554031]\n",
      "[2.52811013e+09]\n",
      "[50279.81554031]\n",
      "\n",
      "[0.5]\n",
      "1\n",
      "[0.]\n",
      "[0.]\n",
      "0.5\n",
      "33849.77644074898\n",
      "1145841214.865126\n",
      "[33849.77644075]\n",
      "[1.14584121e+09]\n",
      "[33849.7764411]\n",
      "\n",
      "[1.0]\n",
      "1\n",
      "[0.]\n",
      "[0.]\n",
      "1.0\n",
      "24742.483407272994\n",
      "612215227.6425868\n",
      "[24742.48340727]\n",
      "[6.12215228e+08]\n",
      "[24742.48340738]\n",
      "\n",
      "[100.0]\n",
      "1\n",
      "[0.]\n",
      "[0.]\n",
      "100.0\n",
      "15052.51464228441\n",
      "226593249.5708288\n",
      "[15052.51464228]\n",
      "[2.2659325e+08]\n",
      "[15052.51464224]\n",
      "\n"
     ]
    }
   ],
   "source": [
    "means_arr_ind  = np.zeros(Larr.shape)\n",
    "second_mom_ind = np.zeros(Larr.shape)\n",
    "for i in range(Larr.shape[0]):\n",
    "#     print(ligandconc)\n",
    "    ligandconc = Larr[i]\n",
    "    means_ind , secmoms_ind  = cell_pred_fn(c0, Ligand_conc=[ligandconc])\n",
    "    means_arr_ind[i] = means_ind\n",
    "    second_mom_ind[i]  = secmoms_ind\n",
    "    print(means_ind)\n",
    "    print(secmoms_ind)\n",
    "    print(secmoms_ind - means_ind**2)\n",
    "    print()"
   ]
  },
  {
   "cell_type": "code",
   "execution_count": 126,
   "metadata": {
    "collapsed": true,
    "jupyter": {
     "outputs_hidden": true
    }
   },
   "outputs": [
    {
     "name": "stdout",
     "output_type": "stream",
     "text": [
      "[285397.9565093  238835.96099111 205951.93346004 162583.62682161\n",
      " 116478.38876076  77444.99191505  50279.81554031  33849.77644075\n",
      "  24742.48340727  15052.51464228]\n",
      "[8.14522790e+10 5.70428551e+10 4.24164048e+10 2.64335983e+10\n",
      " 1.35673315e+10 5.99780422e+09 2.52811013e+09 1.14584121e+09\n",
      " 6.12215228e+08 2.26593250e+08]\n",
      "[285397.95651245 238835.96100616 205951.93345642 162583.62682343\n",
      " 116478.38876152  77444.99191475  50279.81554031  33849.7764411\n",
      "  24742.48340738  15052.51464224]\n"
     ]
    }
   ],
   "source": [
    "print(means_arr_ind)\n",
    "print(second_mom_ind)\n",
    "print(second_mom_ind - (means_arr_ind**2))"
   ]
  },
  {
   "cell_type": "code",
   "execution_count": 127,
   "metadata": {},
   "outputs": [
    {
     "name": "stdout",
     "output_type": "stream",
     "text": [
      "[0.0000e+00 7.8125e-03 1.5625e-02 3.1250e-02 6.2500e-02 1.2500e-01\n",
      " 2.5000e-01 5.0000e-01 1.0000e+00 1.0000e+02]\n",
      "10\n",
      "[0. 0. 0. 0. 0. 0. 0. 0. 0. 0.]\n",
      "[0. 0. 0. 0. 0. 0. 0. 0. 0. 0.]\n",
      "0.0\n",
      "285397.9565092969\n",
      "81452278977.63904\n",
      "0.0078125\n",
      "238835.9609911063\n",
      "57042855098.50625\n",
      "0.015625\n",
      "205951.93346003734\n",
      "42416404847.86111\n",
      "0.03125\n",
      "162583.6268216143\n",
      "26433598294.096767\n",
      "0.0625\n",
      "116478.38876076037\n",
      "13567331526.69159\n",
      "0.125\n",
      "77444.99191505178\n",
      "5997804217.714351\n",
      "0.25\n",
      "50279.81554031188\n",
      "2528110130.5833282\n",
      "0.5\n",
      "33849.77644074898\n",
      "1145841214.865126\n",
      "1.0\n",
      "24742.483407272994\n",
      "612215227.6425868\n",
      "100.0\n",
      "15052.51464228441\n",
      "226593249.5708288\n"
     ]
    }
   ],
   "source": [
    "means , secmoms  = cell_pred_fn(c0, Ligand_conc=Larr)"
   ]
  },
  {
   "cell_type": "code",
   "execution_count": 128,
   "metadata": {},
   "outputs": [
    {
     "data": {
      "text/plain": [
       "array([ True,  True,  True,  True,  True,  True,  True,  True,  True,\n",
       "        True])"
      ]
     },
     "execution_count": 128,
     "metadata": {},
     "output_type": "execute_result"
    }
   ],
   "source": [
    "means == means_arr_ind \n"
   ]
  },
  {
   "cell_type": "code",
   "execution_count": 129,
   "metadata": {},
   "outputs": [
    {
     "data": {
      "text/plain": [
       "array([ True,  True,  True,  True,  True,  True,  True,  True,  True,\n",
       "        True])"
      ]
     },
     "execution_count": 129,
     "metadata": {},
     "output_type": "execute_result"
    }
   ],
   "source": [
    "second_mom_ind == secmoms"
   ]
  },
  {
   "cell_type": "code",
   "execution_count": 112,
   "metadata": {},
   "outputs": [
    {
     "name": "stdout",
     "output_type": "stream",
     "text": [
      "[285397.9565093  238835.96099111 205951.93346004 162583.62682161\n",
      " 116478.38876076  77444.99191505  50279.81554031  33849.77644075\n",
      "  24742.48340727  15052.51464228]\n",
      "[8.14805334e+10 5.70664999e+10 4.24367941e+10 2.64496941e+10\n",
      " 1.35788629e+10 6.00547127e+09 2.53308783e+09 1.14919234e+09\n",
      " 6.14664733e+08 2.28083449e+08]\n",
      "[28539795.65124512 23883596.10061646 20595193.34564209 16258362.68234253\n",
      " 11647838.87615204  7744499.19147491  5027981.55403137  3384977.64410973\n",
      "  2474248.34073782  1505251.46422386]\n"
     ]
    }
   ],
   "source": [
    "print(means)\n",
    "print(secmoms)\n",
    "print(secmoms - (means**2))"
   ]
  },
  {
   "cell_type": "code",
   "execution_count": 113,
   "metadata": {},
   "outputs": [
    {
     "data": {
      "text/plain": [
       "1505251.9439461827"
      ]
     },
     "execution_count": 113,
     "metadata": {},
     "output_type": "execute_result"
    }
   ],
   "source": [
    "2.28083449e+08 - 15052.51464228**2"
   ]
  },
  {
   "cell_type": "code",
   "execution_count": 95,
   "metadata": {},
   "outputs": [
    {
     "data": {
      "text/plain": [
       "array([2.2659325e+08])"
      ]
     },
     "execution_count": 95,
     "metadata": {},
     "output_type": "execute_result"
    }
   ],
   "source": [
    "secmoms_ind"
   ]
  },
  {
   "cell_type": "code",
   "execution_count": 79,
   "metadata": {},
   "outputs": [
    {
     "data": {
      "text/plain": [
       "array([8.14805334e+10, 5.70664999e+10, 4.24367941e+10, 2.64496941e+10,\n",
       "       1.35788629e+10, 6.00547127e+09, 2.53308783e+09, 1.14919234e+09,\n",
       "       6.14664733e+08, 2.28083449e+08])"
      ]
     },
     "execution_count": 79,
     "metadata": {},
     "output_type": "execute_result"
    }
   ],
   "source": [
    "secmoms"
   ]
  },
  {
   "cell_type": "code",
   "execution_count": 80,
   "metadata": {},
   "outputs": [
    {
     "data": {
      "text/plain": [
       "array([28539795.65124512, 23883596.10061646, 20595193.34564209,\n",
       "       16258362.68234253, 11647838.87615204,  7744499.19147491,\n",
       "        5027981.55403137,  3384977.64410973,  2474248.34073782,\n",
       "        1505251.46422386])"
      ]
     },
     "execution_count": 80,
     "metadata": {},
     "output_type": "execute_result"
    }
   ],
   "source": [
    "secmoms - (means**2)"
   ]
  },
  {
   "cell_type": "code",
   "execution_count": 83,
   "metadata": {},
   "outputs": [
    {
     "data": {
      "text/plain": [
       "228083448.52041042"
      ]
     },
     "execution_count": 83,
     "metadata": {},
     "output_type": "execute_result"
    }
   ],
   "source": [
    "secmoms[-1]"
   ]
  },
  {
   "cell_type": "code",
   "execution_count": 92,
   "metadata": {},
   "outputs": [
    {
     "data": {
      "text/plain": [
       "array([False])"
      ]
     },
     "execution_count": 92,
     "metadata": {},
     "output_type": "execute_result"
    }
   ],
   "source": [
    "means[-1]\n",
    "means[-1]**2 == means_ind**2\n",
    "secmoms[-1] == secmoms_ind "
   ]
  },
  {
   "cell_type": "code",
   "execution_count": 85,
   "metadata": {},
   "outputs": [
    {
     "data": {
      "text/plain": [
       "1505251.4642238617"
      ]
     },
     "execution_count": 85,
     "metadata": {},
     "output_type": "execute_result"
    }
   ],
   "source": [
    "secmoms[-1] - ( means[-1]**2)"
   ]
  },
  {
   "cell_type": "code",
   "execution_count": 87,
   "metadata": {},
   "outputs": [
    {
     "data": {
      "text/plain": [
       "15052.514642238617"
      ]
     },
     "execution_count": 87,
     "metadata": {},
     "output_type": "execute_result"
    }
   ],
   "source": [
    "secmoms_ind[0] -( means_ind[0]**2)"
   ]
  },
  {
   "cell_type": "code",
   "execution_count": 35,
   "metadata": {},
   "outputs": [],
   "source": [
    "def segfr_preds(L,  pars_arr,n=1, SF = 0.00122 ):\n",
    "    \"\"\" Obtains steady state predictions: the EGFR receptor numbers for a given Ligand concentration and Parameters vector \n",
    "    Inputs : L -> Ligand Concentration in nM \n",
    "            pars_arr -> Parameter vector : [ksyn, k1, kn1, kap, kdp, ki, kis]\n",
    "                Pars array is of length 7 \n",
    "            n -> noise factor \n",
    "            SF -> Conversion factor to change a.u. to molecules \n",
    "                The SF is to change from a.u. to molecules based on 305 a.u. = 250*10^3 molecules  )\n",
    "    Outputs: mean and second moment after noise adjustmenet of the distribution of EGFR for that ligand concentration.\"\"\"\n",
    "    # idx = [16, 0, 1, 4, 5, 8, 9]\n",
    "    [ksyn, k1, kn1, kap, kdp, ki, kis] = 10**pars_arr # parameters are in log scale!  \n",
    "    ksyn = ksyn/SF\n",
    "#     kap = kap/SF\n",
    "    R0  = ksyn/ki\n",
    "    mean= (ki* (kap* (kis+k1* L)+(kis+kdp) *(ki+kn1+k1* L))* R0)/(kap *kis* (ki+k1 *L)+ki *(kis+kdp) *(ki+kn1+k1*L))\n",
    "    sec_mom = (ki*(kap *(kis+k1*L)+(kis+kdp)* (ki+kn1+k1*L)) *R0* (kap* kis* (ki+k1* L)+kap* ki* (kis+k1* L) *R0+ki* (kis+kdp)* (ki+kn1+k1* L)* (1+R0)))/(kap* kis* (ki+k1*L)+ki* (kis+kdp) *(ki+kn1+k1 *L))**2\n",
    "    sec_mom_new = (sec_mom - mean**2)*(n**2) + mean**2 \n",
    "    return mean, sec_mom_new"
   ]
  },
  {
   "cell_type": "code",
   "execution_count": 124,
   "metadata": {},
   "outputs": [],
   "source": [
    "def cell_pred_fn(pars, Ligand_conc, n=1 ):\n",
    "    \"\"\"solves for all the ligand concentrations and returns the means and the second moments\n",
    "    Inputs: pars: Parameter vector : [ksyn, k1, kn1, kap, kdp, ki, kis]\n",
    "                Pars array is of length 7 \n",
    "            Ligand_conc : array of ligand concentrations in nM  \"\"\"\n",
    "    print(Ligand_conc)\n",
    "    n = len(Ligand_conc)\n",
    "    print(n)\n",
    "    means_arr = np.zeros(n)\n",
    "    secmom_arr = np.zeros(n)\n",
    "    print(means_arr)\n",
    "    print(secmom_arr)\n",
    "    for i in range(n): \n",
    "        L = Ligand_conc[i]\n",
    "        print(L)\n",
    "        mu, s = segfr_preds(L = L , pars_arr = pars,SF = 0.00122 )\n",
    "        print(mu)\n",
    "        print(s)\n",
    "        means_arr[i] = mu\n",
    "        secmom_arr[i] = s\n",
    "    return means_arr, secmom_arr"
   ]
  },
  {
   "cell_type": "code",
   "execution_count": null,
   "metadata": {},
   "outputs": [],
   "source": []
  }
 ],
 "metadata": {
  "kernelspec": {
   "display_name": "Python 3",
   "language": "python",
   "name": "python3"
  },
  "language_info": {
   "codemirror_mode": {
    "name": "ipython",
    "version": 3
   },
   "file_extension": ".py",
   "mimetype": "text/x-python",
   "name": "python",
   "nbconvert_exporter": "python",
   "pygments_lexer": "ipython3",
   "version": "3.7.6"
  }
 },
 "nbformat": 4,
 "nbformat_minor": 4
}
